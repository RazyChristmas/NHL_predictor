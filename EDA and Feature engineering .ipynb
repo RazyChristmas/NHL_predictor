{
 "cells": [
  {
   "cell_type": "code",
   "execution_count": 1,
   "metadata": {
    "ExecuteTime": {
     "end_time": "2021-06-12T00:43:33.877960Z",
     "start_time": "2021-06-12T00:43:32.583225Z"
    }
   },
   "outputs": [],
   "source": [
    "import pandas as pd\n",
    "import numpy as np \n",
    "import matplotlib.pyplot as plt\n",
    "import seaborn as sns \n",
    "\n",
    "import warnings\n",
    "warnings.filterwarnings('ignore')"
   ]
  },
  {
   "cell_type": "code",
   "execution_count": 2,
   "metadata": {
    "ExecuteTime": {
     "end_time": "2021-06-12T00:43:33.893987Z",
     "start_time": "2021-06-12T00:43:33.879974Z"
    }
   },
   "outputs": [],
   "source": [
    "box_scores = pd.read_csv('./data_frames/2020_2019_end_game_boxscores.csv')"
   ]
  },
  {
   "cell_type": "code",
   "execution_count": 3,
   "metadata": {
    "ExecuteTime": {
     "end_time": "2021-06-12T00:43:33.909991Z",
     "start_time": "2021-06-12T00:43:33.896978Z"
    }
   },
   "outputs": [
    {
     "data": {
      "text/plain": [
       "(4276, 15)"
      ]
     },
     "execution_count": 3,
     "metadata": {},
     "output_type": "execute_result"
    }
   ],
   "source": [
    "box_scores.shape"
   ]
  },
  {
   "cell_type": "code",
   "execution_count": 4,
   "metadata": {
    "ExecuteTime": {
     "end_time": "2021-06-12T00:43:33.941017Z",
     "start_time": "2021-06-12T00:43:33.911993Z"
    }
   },
   "outputs": [
    {
     "data": {
      "text/html": [
       "<div>\n",
       "<style scoped>\n",
       "    .dataframe tbody tr th:only-of-type {\n",
       "        vertical-align: middle;\n",
       "    }\n",
       "\n",
       "    .dataframe tbody tr th {\n",
       "        vertical-align: top;\n",
       "    }\n",
       "\n",
       "    .dataframe thead th {\n",
       "        text-align: right;\n",
       "    }\n",
       "</style>\n",
       "<table border=\"1\" class=\"dataframe\">\n",
       "  <thead>\n",
       "    <tr style=\"text-align: right;\">\n",
       "      <th></th>\n",
       "      <th>team</th>\n",
       "      <th>home_status</th>\n",
       "      <th>goals</th>\n",
       "      <th>shots</th>\n",
       "      <th>blocked_shots</th>\n",
       "      <th>penalty_minutes</th>\n",
       "      <th>power_play_percentage</th>\n",
       "      <th>power_play_goals</th>\n",
       "      <th>power_play_chances</th>\n",
       "      <th>faceoff_percent</th>\n",
       "      <th>takeaways</th>\n",
       "      <th>giveaways</th>\n",
       "      <th>hits</th>\n",
       "      <th>goal_diff</th>\n",
       "      <th>won</th>\n",
       "    </tr>\n",
       "  </thead>\n",
       "  <tbody>\n",
       "    <tr>\n",
       "      <th>0</th>\n",
       "      <td>Pittsburgh Penguins</td>\n",
       "      <td>away</td>\n",
       "      <td>3</td>\n",
       "      <td>34</td>\n",
       "      <td>11</td>\n",
       "      <td>6</td>\n",
       "      <td>33.3</td>\n",
       "      <td>1.0</td>\n",
       "      <td>3.0</td>\n",
       "      <td>42.0</td>\n",
       "      <td>8</td>\n",
       "      <td>10</td>\n",
       "      <td>23</td>\n",
       "      <td>-3</td>\n",
       "      <td>no</td>\n",
       "    </tr>\n",
       "    <tr>\n",
       "      <th>1</th>\n",
       "      <td>Philadelphia Flyers</td>\n",
       "      <td>home</td>\n",
       "      <td>6</td>\n",
       "      <td>27</td>\n",
       "      <td>13</td>\n",
       "      <td>6</td>\n",
       "      <td>66.7</td>\n",
       "      <td>2.0</td>\n",
       "      <td>3.0</td>\n",
       "      <td>58.0</td>\n",
       "      <td>6</td>\n",
       "      <td>10</td>\n",
       "      <td>31</td>\n",
       "      <td>3</td>\n",
       "      <td>yes</td>\n",
       "    </tr>\n",
       "    <tr>\n",
       "      <th>2</th>\n",
       "      <td>Chicago Blackhawks</td>\n",
       "      <td>away</td>\n",
       "      <td>1</td>\n",
       "      <td>23</td>\n",
       "      <td>7</td>\n",
       "      <td>8</td>\n",
       "      <td>33.3</td>\n",
       "      <td>1.0</td>\n",
       "      <td>3.0</td>\n",
       "      <td>49.1</td>\n",
       "      <td>4</td>\n",
       "      <td>1</td>\n",
       "      <td>14</td>\n",
       "      <td>-4</td>\n",
       "      <td>no</td>\n",
       "    </tr>\n",
       "    <tr>\n",
       "      <th>3</th>\n",
       "      <td>Tampa Bay Lightning</td>\n",
       "      <td>home</td>\n",
       "      <td>5</td>\n",
       "      <td>33</td>\n",
       "      <td>12</td>\n",
       "      <td>6</td>\n",
       "      <td>50.0</td>\n",
       "      <td>2.0</td>\n",
       "      <td>4.0</td>\n",
       "      <td>50.9</td>\n",
       "      <td>4</td>\n",
       "      <td>1</td>\n",
       "      <td>16</td>\n",
       "      <td>4</td>\n",
       "      <td>yes</td>\n",
       "    </tr>\n",
       "    <tr>\n",
       "      <th>4</th>\n",
       "      <td>Montréal Canadiens</td>\n",
       "      <td>away</td>\n",
       "      <td>4</td>\n",
       "      <td>32</td>\n",
       "      <td>22</td>\n",
       "      <td>13</td>\n",
       "      <td>66.7</td>\n",
       "      <td>2.0</td>\n",
       "      <td>3.0</td>\n",
       "      <td>46.0</td>\n",
       "      <td>6</td>\n",
       "      <td>13</td>\n",
       "      <td>32</td>\n",
       "      <td>-1</td>\n",
       "      <td>no</td>\n",
       "    </tr>\n",
       "  </tbody>\n",
       "</table>\n",
       "</div>"
      ],
      "text/plain": [
       "                  team home_status  goals  shots  blocked_shots  \\\n",
       "0  Pittsburgh Penguins        away      3     34             11   \n",
       "1  Philadelphia Flyers        home      6     27             13   \n",
       "2   Chicago Blackhawks        away      1     23              7   \n",
       "3  Tampa Bay Lightning        home      5     33             12   \n",
       "4   Montréal Canadiens        away      4     32             22   \n",
       "\n",
       "   penalty_minutes  power_play_percentage  power_play_goals  \\\n",
       "0                6                   33.3               1.0   \n",
       "1                6                   66.7               2.0   \n",
       "2                8                   33.3               1.0   \n",
       "3                6                   50.0               2.0   \n",
       "4               13                   66.7               2.0   \n",
       "\n",
       "   power_play_chances  faceoff_percent  takeaways  giveaways  hits  goal_diff  \\\n",
       "0                 3.0             42.0          8         10    23         -3   \n",
       "1                 3.0             58.0          6         10    31          3   \n",
       "2                 3.0             49.1          4          1    14         -4   \n",
       "3                 4.0             50.9          4          1    16          4   \n",
       "4                 3.0             46.0          6         13    32         -1   \n",
       "\n",
       "   won  \n",
       "0   no  \n",
       "1  yes  \n",
       "2   no  \n",
       "3  yes  \n",
       "4   no  "
      ]
     },
     "execution_count": 4,
     "metadata": {},
     "output_type": "execute_result"
    }
   ],
   "source": [
    "box_scores.head()"
   ]
  },
  {
   "cell_type": "code",
   "execution_count": 5,
   "metadata": {
    "ExecuteTime": {
     "end_time": "2021-06-12T00:43:33.972045Z",
     "start_time": "2021-06-12T00:43:33.942019Z"
    }
   },
   "outputs": [],
   "source": [
    "model_2020 = pd.read_csv('./data_frames/2020_end_game_boxscores.csv')"
   ]
  },
  {
   "cell_type": "code",
   "execution_count": 6,
   "metadata": {
    "ExecuteTime": {
     "end_time": "2021-06-12T00:43:34.004074Z",
     "start_time": "2021-06-12T00:43:33.975048Z"
    },
    "scrolled": false
   },
   "outputs": [
    {
     "data": {
      "text/html": [
       "<div>\n",
       "<style scoped>\n",
       "    .dataframe tbody tr th:only-of-type {\n",
       "        vertical-align: middle;\n",
       "    }\n",
       "\n",
       "    .dataframe tbody tr th {\n",
       "        vertical-align: top;\n",
       "    }\n",
       "\n",
       "    .dataframe thead th {\n",
       "        text-align: right;\n",
       "    }\n",
       "</style>\n",
       "<table border=\"1\" class=\"dataframe\">\n",
       "  <thead>\n",
       "    <tr style=\"text-align: right;\">\n",
       "      <th></th>\n",
       "      <th>team</th>\n",
       "      <th>home_status</th>\n",
       "      <th>goals</th>\n",
       "      <th>shots</th>\n",
       "      <th>blocked_shots</th>\n",
       "      <th>penalty_minutes</th>\n",
       "      <th>power_play_percentage</th>\n",
       "      <th>power_play_goals</th>\n",
       "      <th>power_play_chances</th>\n",
       "      <th>faceoff_percent</th>\n",
       "      <th>takeaways</th>\n",
       "      <th>giveaways</th>\n",
       "      <th>hits</th>\n",
       "      <th>goal_diff</th>\n",
       "      <th>won</th>\n",
       "    </tr>\n",
       "  </thead>\n",
       "  <tbody>\n",
       "    <tr>\n",
       "      <th>0</th>\n",
       "      <td>Pittsburgh Penguins</td>\n",
       "      <td>away</td>\n",
       "      <td>3</td>\n",
       "      <td>34</td>\n",
       "      <td>11</td>\n",
       "      <td>6</td>\n",
       "      <td>33.3</td>\n",
       "      <td>1.0</td>\n",
       "      <td>3.0</td>\n",
       "      <td>42.0</td>\n",
       "      <td>8</td>\n",
       "      <td>10</td>\n",
       "      <td>23</td>\n",
       "      <td>-3</td>\n",
       "      <td>no</td>\n",
       "    </tr>\n",
       "    <tr>\n",
       "      <th>1</th>\n",
       "      <td>Philadelphia Flyers</td>\n",
       "      <td>home</td>\n",
       "      <td>6</td>\n",
       "      <td>27</td>\n",
       "      <td>13</td>\n",
       "      <td>6</td>\n",
       "      <td>66.7</td>\n",
       "      <td>2.0</td>\n",
       "      <td>3.0</td>\n",
       "      <td>58.0</td>\n",
       "      <td>6</td>\n",
       "      <td>10</td>\n",
       "      <td>31</td>\n",
       "      <td>3</td>\n",
       "      <td>yes</td>\n",
       "    </tr>\n",
       "    <tr>\n",
       "      <th>2</th>\n",
       "      <td>Chicago Blackhawks</td>\n",
       "      <td>away</td>\n",
       "      <td>1</td>\n",
       "      <td>23</td>\n",
       "      <td>7</td>\n",
       "      <td>8</td>\n",
       "      <td>33.3</td>\n",
       "      <td>1.0</td>\n",
       "      <td>3.0</td>\n",
       "      <td>49.1</td>\n",
       "      <td>4</td>\n",
       "      <td>1</td>\n",
       "      <td>14</td>\n",
       "      <td>-4</td>\n",
       "      <td>no</td>\n",
       "    </tr>\n",
       "    <tr>\n",
       "      <th>3</th>\n",
       "      <td>Tampa Bay Lightning</td>\n",
       "      <td>home</td>\n",
       "      <td>5</td>\n",
       "      <td>33</td>\n",
       "      <td>12</td>\n",
       "      <td>6</td>\n",
       "      <td>50.0</td>\n",
       "      <td>2.0</td>\n",
       "      <td>4.0</td>\n",
       "      <td>50.9</td>\n",
       "      <td>4</td>\n",
       "      <td>1</td>\n",
       "      <td>16</td>\n",
       "      <td>4</td>\n",
       "      <td>yes</td>\n",
       "    </tr>\n",
       "    <tr>\n",
       "      <th>4</th>\n",
       "      <td>Montréal Canadiens</td>\n",
       "      <td>away</td>\n",
       "      <td>4</td>\n",
       "      <td>32</td>\n",
       "      <td>22</td>\n",
       "      <td>13</td>\n",
       "      <td>66.7</td>\n",
       "      <td>2.0</td>\n",
       "      <td>3.0</td>\n",
       "      <td>46.0</td>\n",
       "      <td>6</td>\n",
       "      <td>13</td>\n",
       "      <td>32</td>\n",
       "      <td>-1</td>\n",
       "      <td>no</td>\n",
       "    </tr>\n",
       "  </tbody>\n",
       "</table>\n",
       "</div>"
      ],
      "text/plain": [
       "                  team home_status  goals  shots  blocked_shots  \\\n",
       "0  Pittsburgh Penguins        away      3     34             11   \n",
       "1  Philadelphia Flyers        home      6     27             13   \n",
       "2   Chicago Blackhawks        away      1     23              7   \n",
       "3  Tampa Bay Lightning        home      5     33             12   \n",
       "4   Montréal Canadiens        away      4     32             22   \n",
       "\n",
       "   penalty_minutes  power_play_percentage  power_play_goals  \\\n",
       "0                6                   33.3               1.0   \n",
       "1                6                   66.7               2.0   \n",
       "2                8                   33.3               1.0   \n",
       "3                6                   50.0               2.0   \n",
       "4               13                   66.7               2.0   \n",
       "\n",
       "   power_play_chances  faceoff_percent  takeaways  giveaways  hits  goal_diff  \\\n",
       "0                 3.0             42.0          8         10    23         -3   \n",
       "1                 3.0             58.0          6         10    31          3   \n",
       "2                 3.0             49.1          4          1    14         -4   \n",
       "3                 4.0             50.9          4          1    16          4   \n",
       "4                 3.0             46.0          6         13    32         -1   \n",
       "\n",
       "   won  \n",
       "0   no  \n",
       "1  yes  \n",
       "2   no  \n",
       "3  yes  \n",
       "4   no  "
      ]
     },
     "execution_count": 6,
     "metadata": {},
     "output_type": "execute_result"
    }
   ],
   "source": [
    "model_2020.head()"
   ]
  },
  {
   "cell_type": "code",
   "execution_count": 7,
   "metadata": {
    "ExecuteTime": {
     "end_time": "2021-06-12T00:43:34.020087Z",
     "start_time": "2021-06-12T00:43:34.006077Z"
    }
   },
   "outputs": [],
   "source": [
    "game_id_list = []\n",
    "for i in range(1,10):\n",
    "    game_id_list.append(int(f'202002000{i}'))\n",
    "    game_id_list.append(int(f'202002000{i}'))\n",
    "for i in range(10,100):\n",
    "    game_id_list.append(int(f'20200200{i}'))\n",
    "    game_id_list.append(int(f'20200200{i}'))\n",
    "for i in range(100,869):\n",
    "    game_id_list.append(int(f'2020020{i}'))\n",
    "    game_id_list.append(int(f'2020020{i}'))    "
   ]
  },
  {
   "cell_type": "code",
   "execution_count": 8,
   "metadata": {
    "ExecuteTime": {
     "end_time": "2021-06-12T00:43:34.035113Z",
     "start_time": "2021-06-12T00:43:34.022089Z"
    }
   },
   "outputs": [],
   "source": [
    "model_2020['game_ids'] = game_id_list"
   ]
  },
  {
   "cell_type": "code",
   "execution_count": 9,
   "metadata": {
    "ExecuteTime": {
     "end_time": "2021-06-12T00:43:34.066139Z",
     "start_time": "2021-06-12T00:43:34.037102Z"
    }
   },
   "outputs": [
    {
     "data": {
      "text/html": [
       "<div>\n",
       "<style scoped>\n",
       "    .dataframe tbody tr th:only-of-type {\n",
       "        vertical-align: middle;\n",
       "    }\n",
       "\n",
       "    .dataframe tbody tr th {\n",
       "        vertical-align: top;\n",
       "    }\n",
       "\n",
       "    .dataframe thead th {\n",
       "        text-align: right;\n",
       "    }\n",
       "</style>\n",
       "<table border=\"1\" class=\"dataframe\">\n",
       "  <thead>\n",
       "    <tr style=\"text-align: right;\">\n",
       "      <th></th>\n",
       "      <th>team</th>\n",
       "      <th>home_status</th>\n",
       "      <th>goals</th>\n",
       "      <th>shots</th>\n",
       "      <th>blocked_shots</th>\n",
       "      <th>penalty_minutes</th>\n",
       "      <th>power_play_percentage</th>\n",
       "      <th>power_play_goals</th>\n",
       "      <th>power_play_chances</th>\n",
       "      <th>faceoff_percent</th>\n",
       "      <th>takeaways</th>\n",
       "      <th>giveaways</th>\n",
       "      <th>hits</th>\n",
       "      <th>goal_diff</th>\n",
       "      <th>won</th>\n",
       "      <th>game_ids</th>\n",
       "    </tr>\n",
       "  </thead>\n",
       "  <tbody>\n",
       "    <tr>\n",
       "      <th>0</th>\n",
       "      <td>Pittsburgh Penguins</td>\n",
       "      <td>away</td>\n",
       "      <td>3</td>\n",
       "      <td>34</td>\n",
       "      <td>11</td>\n",
       "      <td>6</td>\n",
       "      <td>33.3</td>\n",
       "      <td>1.0</td>\n",
       "      <td>3.0</td>\n",
       "      <td>42.0</td>\n",
       "      <td>8</td>\n",
       "      <td>10</td>\n",
       "      <td>23</td>\n",
       "      <td>-3</td>\n",
       "      <td>no</td>\n",
       "      <td>2020020001</td>\n",
       "    </tr>\n",
       "    <tr>\n",
       "      <th>1</th>\n",
       "      <td>Philadelphia Flyers</td>\n",
       "      <td>home</td>\n",
       "      <td>6</td>\n",
       "      <td>27</td>\n",
       "      <td>13</td>\n",
       "      <td>6</td>\n",
       "      <td>66.7</td>\n",
       "      <td>2.0</td>\n",
       "      <td>3.0</td>\n",
       "      <td>58.0</td>\n",
       "      <td>6</td>\n",
       "      <td>10</td>\n",
       "      <td>31</td>\n",
       "      <td>3</td>\n",
       "      <td>yes</td>\n",
       "      <td>2020020001</td>\n",
       "    </tr>\n",
       "    <tr>\n",
       "      <th>2</th>\n",
       "      <td>Chicago Blackhawks</td>\n",
       "      <td>away</td>\n",
       "      <td>1</td>\n",
       "      <td>23</td>\n",
       "      <td>7</td>\n",
       "      <td>8</td>\n",
       "      <td>33.3</td>\n",
       "      <td>1.0</td>\n",
       "      <td>3.0</td>\n",
       "      <td>49.1</td>\n",
       "      <td>4</td>\n",
       "      <td>1</td>\n",
       "      <td>14</td>\n",
       "      <td>-4</td>\n",
       "      <td>no</td>\n",
       "      <td>2020020002</td>\n",
       "    </tr>\n",
       "    <tr>\n",
       "      <th>3</th>\n",
       "      <td>Tampa Bay Lightning</td>\n",
       "      <td>home</td>\n",
       "      <td>5</td>\n",
       "      <td>33</td>\n",
       "      <td>12</td>\n",
       "      <td>6</td>\n",
       "      <td>50.0</td>\n",
       "      <td>2.0</td>\n",
       "      <td>4.0</td>\n",
       "      <td>50.9</td>\n",
       "      <td>4</td>\n",
       "      <td>1</td>\n",
       "      <td>16</td>\n",
       "      <td>4</td>\n",
       "      <td>yes</td>\n",
       "      <td>2020020002</td>\n",
       "    </tr>\n",
       "    <tr>\n",
       "      <th>4</th>\n",
       "      <td>Montréal Canadiens</td>\n",
       "      <td>away</td>\n",
       "      <td>4</td>\n",
       "      <td>32</td>\n",
       "      <td>22</td>\n",
       "      <td>13</td>\n",
       "      <td>66.7</td>\n",
       "      <td>2.0</td>\n",
       "      <td>3.0</td>\n",
       "      <td>46.0</td>\n",
       "      <td>6</td>\n",
       "      <td>13</td>\n",
       "      <td>32</td>\n",
       "      <td>-1</td>\n",
       "      <td>no</td>\n",
       "      <td>2020020003</td>\n",
       "    </tr>\n",
       "    <tr>\n",
       "      <th>...</th>\n",
       "      <td>...</td>\n",
       "      <td>...</td>\n",
       "      <td>...</td>\n",
       "      <td>...</td>\n",
       "      <td>...</td>\n",
       "      <td>...</td>\n",
       "      <td>...</td>\n",
       "      <td>...</td>\n",
       "      <td>...</td>\n",
       "      <td>...</td>\n",
       "      <td>...</td>\n",
       "      <td>...</td>\n",
       "      <td>...</td>\n",
       "      <td>...</td>\n",
       "      <td>...</td>\n",
       "      <td>...</td>\n",
       "    </tr>\n",
       "    <tr>\n",
       "      <th>1731</th>\n",
       "      <td>Vegas Golden Knights</td>\n",
       "      <td>home</td>\n",
       "      <td>4</td>\n",
       "      <td>29</td>\n",
       "      <td>17</td>\n",
       "      <td>10</td>\n",
       "      <td>25.0</td>\n",
       "      <td>1.0</td>\n",
       "      <td>4.0</td>\n",
       "      <td>42.9</td>\n",
       "      <td>9</td>\n",
       "      <td>2</td>\n",
       "      <td>25</td>\n",
       "      <td>3</td>\n",
       "      <td>yes</td>\n",
       "      <td>2020020866</td>\n",
       "    </tr>\n",
       "    <tr>\n",
       "      <th>1732</th>\n",
       "      <td>Colorado Avalanche</td>\n",
       "      <td>away</td>\n",
       "      <td>3</td>\n",
       "      <td>30</td>\n",
       "      <td>13</td>\n",
       "      <td>4</td>\n",
       "      <td>33.3</td>\n",
       "      <td>1.0</td>\n",
       "      <td>3.0</td>\n",
       "      <td>42.2</td>\n",
       "      <td>5</td>\n",
       "      <td>9</td>\n",
       "      <td>30</td>\n",
       "      <td>1</td>\n",
       "      <td>yes</td>\n",
       "      <td>2020020867</td>\n",
       "    </tr>\n",
       "    <tr>\n",
       "      <th>1733</th>\n",
       "      <td>Los Angeles Kings</td>\n",
       "      <td>home</td>\n",
       "      <td>2</td>\n",
       "      <td>18</td>\n",
       "      <td>12</td>\n",
       "      <td>6</td>\n",
       "      <td>0.0</td>\n",
       "      <td>0.0</td>\n",
       "      <td>2.0</td>\n",
       "      <td>57.8</td>\n",
       "      <td>1</td>\n",
       "      <td>7</td>\n",
       "      <td>23</td>\n",
       "      <td>-1</td>\n",
       "      <td>no</td>\n",
       "      <td>2020020867</td>\n",
       "    </tr>\n",
       "    <tr>\n",
       "      <th>1734</th>\n",
       "      <td>Arizona Coyotes</td>\n",
       "      <td>away</td>\n",
       "      <td>5</td>\n",
       "      <td>32</td>\n",
       "      <td>8</td>\n",
       "      <td>6</td>\n",
       "      <td>50.0</td>\n",
       "      <td>1.0</td>\n",
       "      <td>2.0</td>\n",
       "      <td>51.6</td>\n",
       "      <td>6</td>\n",
       "      <td>9</td>\n",
       "      <td>13</td>\n",
       "      <td>1</td>\n",
       "      <td>yes</td>\n",
       "      <td>2020020868</td>\n",
       "    </tr>\n",
       "    <tr>\n",
       "      <th>1735</th>\n",
       "      <td>San Jose Sharks</td>\n",
       "      <td>home</td>\n",
       "      <td>4</td>\n",
       "      <td>48</td>\n",
       "      <td>6</td>\n",
       "      <td>6</td>\n",
       "      <td>0.0</td>\n",
       "      <td>0.0</td>\n",
       "      <td>2.0</td>\n",
       "      <td>48.4</td>\n",
       "      <td>7</td>\n",
       "      <td>12</td>\n",
       "      <td>12</td>\n",
       "      <td>-1</td>\n",
       "      <td>no</td>\n",
       "      <td>2020020868</td>\n",
       "    </tr>\n",
       "  </tbody>\n",
       "</table>\n",
       "<p>1736 rows × 16 columns</p>\n",
       "</div>"
      ],
      "text/plain": [
       "                      team home_status  goals  shots  blocked_shots  \\\n",
       "0      Pittsburgh Penguins        away      3     34             11   \n",
       "1      Philadelphia Flyers        home      6     27             13   \n",
       "2       Chicago Blackhawks        away      1     23              7   \n",
       "3      Tampa Bay Lightning        home      5     33             12   \n",
       "4       Montréal Canadiens        away      4     32             22   \n",
       "...                    ...         ...    ...    ...            ...   \n",
       "1731  Vegas Golden Knights        home      4     29             17   \n",
       "1732    Colorado Avalanche        away      3     30             13   \n",
       "1733     Los Angeles Kings        home      2     18             12   \n",
       "1734       Arizona Coyotes        away      5     32              8   \n",
       "1735       San Jose Sharks        home      4     48              6   \n",
       "\n",
       "      penalty_minutes  power_play_percentage  power_play_goals  \\\n",
       "0                   6                   33.3               1.0   \n",
       "1                   6                   66.7               2.0   \n",
       "2                   8                   33.3               1.0   \n",
       "3                   6                   50.0               2.0   \n",
       "4                  13                   66.7               2.0   \n",
       "...               ...                    ...               ...   \n",
       "1731               10                   25.0               1.0   \n",
       "1732                4                   33.3               1.0   \n",
       "1733                6                    0.0               0.0   \n",
       "1734                6                   50.0               1.0   \n",
       "1735                6                    0.0               0.0   \n",
       "\n",
       "      power_play_chances  faceoff_percent  takeaways  giveaways  hits  \\\n",
       "0                    3.0             42.0          8         10    23   \n",
       "1                    3.0             58.0          6         10    31   \n",
       "2                    3.0             49.1          4          1    14   \n",
       "3                    4.0             50.9          4          1    16   \n",
       "4                    3.0             46.0          6         13    32   \n",
       "...                  ...              ...        ...        ...   ...   \n",
       "1731                 4.0             42.9          9          2    25   \n",
       "1732                 3.0             42.2          5          9    30   \n",
       "1733                 2.0             57.8          1          7    23   \n",
       "1734                 2.0             51.6          6          9    13   \n",
       "1735                 2.0             48.4          7         12    12   \n",
       "\n",
       "      goal_diff  won    game_ids  \n",
       "0            -3   no  2020020001  \n",
       "1             3  yes  2020020001  \n",
       "2            -4   no  2020020002  \n",
       "3             4  yes  2020020002  \n",
       "4            -1   no  2020020003  \n",
       "...         ...  ...         ...  \n",
       "1731          3  yes  2020020866  \n",
       "1732          1  yes  2020020867  \n",
       "1733         -1   no  2020020867  \n",
       "1734          1  yes  2020020868  \n",
       "1735         -1   no  2020020868  \n",
       "\n",
       "[1736 rows x 16 columns]"
      ]
     },
     "execution_count": 9,
     "metadata": {},
     "output_type": "execute_result"
    }
   ],
   "source": [
    "model_2020"
   ]
  },
  {
   "cell_type": "markdown",
   "metadata": {},
   "source": [
    "engineered features: ice tilt, corsi."
   ]
  },
  {
   "cell_type": "code",
   "execution_count": 10,
   "metadata": {
    "ExecuteTime": {
     "end_time": "2021-06-12T00:43:34.377577Z",
     "start_time": "2021-06-12T00:43:34.068141Z"
    }
   },
   "outputs": [],
   "source": [
    "all_game_events = pd.read_csv('./data_frames/all_game_events_2020.csv')"
   ]
  },
  {
   "cell_type": "code",
   "execution_count": 11,
   "metadata": {
    "ExecuteTime": {
     "end_time": "2021-06-12T00:43:34.408614Z",
     "start_time": "2021-06-12T00:43:34.378588Z"
    }
   },
   "outputs": [],
   "source": [
    "all_game_events.drop(columns='Unnamed: 0', inplace=True)"
   ]
  },
  {
   "cell_type": "code",
   "execution_count": 12,
   "metadata": {
    "ExecuteTime": {
     "end_time": "2021-06-12T00:43:34.424618Z",
     "start_time": "2021-06-12T00:43:34.410616Z"
    }
   },
   "outputs": [
    {
     "data": {
      "text/plain": [
       "(264311, 9)"
      ]
     },
     "execution_count": 12,
     "metadata": {},
     "output_type": "execute_result"
    }
   ],
   "source": [
    "all_game_events.shape"
   ]
  },
  {
   "cell_type": "code",
   "execution_count": 13,
   "metadata": {
    "ExecuteTime": {
     "end_time": "2021-06-12T00:43:34.440632Z",
     "start_time": "2021-06-12T00:43:34.425619Z"
    }
   },
   "outputs": [
    {
     "data": {
      "text/html": [
       "<div>\n",
       "<style scoped>\n",
       "    .dataframe tbody tr th:only-of-type {\n",
       "        vertical-align: middle;\n",
       "    }\n",
       "\n",
       "    .dataframe tbody tr th {\n",
       "        vertical-align: top;\n",
       "    }\n",
       "\n",
       "    .dataframe thead th {\n",
       "        text-align: right;\n",
       "    }\n",
       "</style>\n",
       "<table border=\"1\" class=\"dataframe\">\n",
       "  <thead>\n",
       "    <tr style=\"text-align: right;\">\n",
       "      <th></th>\n",
       "      <th>event</th>\n",
       "      <th>team</th>\n",
       "      <th>x_coordinate</th>\n",
       "      <th>y_coordinate</th>\n",
       "      <th>period</th>\n",
       "      <th>period_time</th>\n",
       "      <th>game_id</th>\n",
       "      <th>score</th>\n",
       "      <th>home_team</th>\n",
       "    </tr>\n",
       "  </thead>\n",
       "  <tbody>\n",
       "    <tr>\n",
       "      <th>264306</th>\n",
       "      <td>Goal</td>\n",
       "      <td>Arizona Coyotes</td>\n",
       "      <td>76.0</td>\n",
       "      <td>-15.0</td>\n",
       "      <td>4</td>\n",
       "      <td>02:30</td>\n",
       "      <td>2020020868</td>\n",
       "      <td>NaN</td>\n",
       "      <td>San Jose Sharks</td>\n",
       "    </tr>\n",
       "    <tr>\n",
       "      <th>264307</th>\n",
       "      <td>Period End</td>\n",
       "      <td>NaN</td>\n",
       "      <td>NaN</td>\n",
       "      <td>NaN</td>\n",
       "      <td>4</td>\n",
       "      <td>02:30</td>\n",
       "      <td>2020020868</td>\n",
       "      <td>NaN</td>\n",
       "      <td>San Jose Sharks</td>\n",
       "    </tr>\n",
       "    <tr>\n",
       "      <th>264308</th>\n",
       "      <td>Period Official</td>\n",
       "      <td>NaN</td>\n",
       "      <td>NaN</td>\n",
       "      <td>NaN</td>\n",
       "      <td>4</td>\n",
       "      <td>02:30</td>\n",
       "      <td>2020020868</td>\n",
       "      <td>NaN</td>\n",
       "      <td>San Jose Sharks</td>\n",
       "    </tr>\n",
       "    <tr>\n",
       "      <th>264309</th>\n",
       "      <td>Game End</td>\n",
       "      <td>NaN</td>\n",
       "      <td>NaN</td>\n",
       "      <td>NaN</td>\n",
       "      <td>4</td>\n",
       "      <td>02:30</td>\n",
       "      <td>2020020868</td>\n",
       "      <td>NaN</td>\n",
       "      <td>San Jose Sharks</td>\n",
       "    </tr>\n",
       "    <tr>\n",
       "      <th>264310</th>\n",
       "      <td>Game Official</td>\n",
       "      <td>NaN</td>\n",
       "      <td>NaN</td>\n",
       "      <td>NaN</td>\n",
       "      <td>4</td>\n",
       "      <td>02:30</td>\n",
       "      <td>2020020868</td>\n",
       "      <td>NaN</td>\n",
       "      <td>San Jose Sharks</td>\n",
       "    </tr>\n",
       "  </tbody>\n",
       "</table>\n",
       "</div>"
      ],
      "text/plain": [
       "                  event             team  x_coordinate  y_coordinate  period  \\\n",
       "264306             Goal  Arizona Coyotes          76.0         -15.0       4   \n",
       "264307       Period End              NaN           NaN           NaN       4   \n",
       "264308  Period Official              NaN           NaN           NaN       4   \n",
       "264309         Game End              NaN           NaN           NaN       4   \n",
       "264310    Game Official              NaN           NaN           NaN       4   \n",
       "\n",
       "       period_time     game_id  score        home_team  \n",
       "264306       02:30  2020020868    NaN  San Jose Sharks  \n",
       "264307       02:30  2020020868    NaN  San Jose Sharks  \n",
       "264308       02:30  2020020868    NaN  San Jose Sharks  \n",
       "264309       02:30  2020020868    NaN  San Jose Sharks  \n",
       "264310       02:30  2020020868    NaN  San Jose Sharks  "
      ]
     },
     "execution_count": 13,
     "metadata": {},
     "output_type": "execute_result"
    }
   ],
   "source": [
    "all_game_events.tail(5)"
   ]
  },
  {
   "cell_type": "code",
   "execution_count": 14,
   "metadata": {
    "ExecuteTime": {
     "end_time": "2021-06-12T00:43:34.456657Z",
     "start_time": "2021-06-12T00:43:34.442634Z"
    }
   },
   "outputs": [
    {
     "data": {
      "text/plain": [
       "(264311, 9)"
      ]
     },
     "execution_count": 14,
     "metadata": {},
     "output_type": "execute_result"
    }
   ],
   "source": [
    "all_game_events.shape"
   ]
  },
  {
   "cell_type": "code",
   "execution_count": 15,
   "metadata": {
    "ExecuteTime": {
     "end_time": "2021-06-12T00:43:34.504689Z",
     "start_time": "2021-06-12T00:43:34.458648Z"
    },
    "scrolled": true
   },
   "outputs": [
    {
     "data": {
      "text/plain": [
       "Faceoff                     48837\n",
       "Shot                        47658\n",
       "Hit                         38783\n",
       "Stoppage                    37823\n",
       "Blocked Shot                22763\n",
       "Missed Shot                 19533\n",
       "Giveaway                    15234\n",
       "Takeaway                    10618\n",
       "Penalty                      6065\n",
       "Goal                         5222\n",
       "Period Official              2892\n",
       "Period End                   2892\n",
       "Period Start                 2040\n",
       "Period Ready                 2019\n",
       "Game End                      876\n",
       "Game Official                 869\n",
       "Official Challenge            108\n",
       "Shootout Complete              75\n",
       "Emergency Goaltender            2\n",
       "Early Intermission Start        1\n",
       "Early Intermission End          1\n",
       "Name: event, dtype: int64"
      ]
     },
     "execution_count": 15,
     "metadata": {},
     "output_type": "execute_result"
    }
   ],
   "source": [
    "all_game_events['event'].value_counts()"
   ]
  },
  {
   "cell_type": "code",
   "execution_count": 16,
   "metadata": {
    "ExecuteTime": {
     "end_time": "2021-06-12T00:43:34.520703Z",
     "start_time": "2021-06-12T00:43:34.506691Z"
    }
   },
   "outputs": [],
   "source": [
    "ice_tilt_events =['Faceoff','Shot','Hit','Missed Shot']"
   ]
  },
  {
   "cell_type": "code",
   "execution_count": 17,
   "metadata": {
    "ExecuteTime": {
     "end_time": "2021-06-12T00:43:34.536727Z",
     "start_time": "2021-06-12T00:43:34.522705Z"
    }
   },
   "outputs": [],
   "source": [
    "game_2 = all_game_events[all_game_events['game_id'] == 2020020002].copy()"
   ]
  },
  {
   "cell_type": "code",
   "execution_count": 18,
   "metadata": {
    "ExecuteTime": {
     "end_time": "2021-06-12T00:43:34.552731Z",
     "start_time": "2021-06-12T00:43:34.538719Z"
    }
   },
   "outputs": [
    {
     "data": {
      "text/html": [
       "<div>\n",
       "<style scoped>\n",
       "    .dataframe tbody tr th:only-of-type {\n",
       "        vertical-align: middle;\n",
       "    }\n",
       "\n",
       "    .dataframe tbody tr th {\n",
       "        vertical-align: top;\n",
       "    }\n",
       "\n",
       "    .dataframe thead th {\n",
       "        text-align: right;\n",
       "    }\n",
       "</style>\n",
       "<table border=\"1\" class=\"dataframe\">\n",
       "  <thead>\n",
       "    <tr style=\"text-align: right;\">\n",
       "      <th></th>\n",
       "      <th>event</th>\n",
       "      <th>team</th>\n",
       "      <th>x_coordinate</th>\n",
       "      <th>y_coordinate</th>\n",
       "      <th>period</th>\n",
       "      <th>period_time</th>\n",
       "      <th>game_id</th>\n",
       "      <th>score</th>\n",
       "      <th>home_team</th>\n",
       "    </tr>\n",
       "  </thead>\n",
       "  <tbody>\n",
       "    <tr>\n",
       "      <th>289</th>\n",
       "      <td>Faceoff</td>\n",
       "      <td>Chicago Blackhawks</td>\n",
       "      <td>0.0</td>\n",
       "      <td>0.0</td>\n",
       "      <td>1</td>\n",
       "      <td>00:00</td>\n",
       "      <td>2020020002</td>\n",
       "      <td>NaN</td>\n",
       "      <td>Tampa Bay Lightning</td>\n",
       "    </tr>\n",
       "    <tr>\n",
       "      <th>290</th>\n",
       "      <td>Shot</td>\n",
       "      <td>Chicago Blackhawks</td>\n",
       "      <td>-65.0</td>\n",
       "      <td>-20.0</td>\n",
       "      <td>1</td>\n",
       "      <td>00:22</td>\n",
       "      <td>2020020002</td>\n",
       "      <td>NaN</td>\n",
       "      <td>Tampa Bay Lightning</td>\n",
       "    </tr>\n",
       "    <tr>\n",
       "      <th>291</th>\n",
       "      <td>Stoppage</td>\n",
       "      <td>NaN</td>\n",
       "      <td>NaN</td>\n",
       "      <td>NaN</td>\n",
       "      <td>1</td>\n",
       "      <td>00:23</td>\n",
       "      <td>2020020002</td>\n",
       "      <td>NaN</td>\n",
       "      <td>Tampa Bay Lightning</td>\n",
       "    </tr>\n",
       "    <tr>\n",
       "      <th>292</th>\n",
       "      <td>Stoppage</td>\n",
       "      <td>NaN</td>\n",
       "      <td>NaN</td>\n",
       "      <td>NaN</td>\n",
       "      <td>1</td>\n",
       "      <td>00:23</td>\n",
       "      <td>2020020002</td>\n",
       "      <td>NaN</td>\n",
       "      <td>Tampa Bay Lightning</td>\n",
       "    </tr>\n",
       "    <tr>\n",
       "      <th>293</th>\n",
       "      <td>Faceoff</td>\n",
       "      <td>Tampa Bay Lightning</td>\n",
       "      <td>-69.0</td>\n",
       "      <td>-22.0</td>\n",
       "      <td>1</td>\n",
       "      <td>00:23</td>\n",
       "      <td>2020020002</td>\n",
       "      <td>NaN</td>\n",
       "      <td>Tampa Bay Lightning</td>\n",
       "    </tr>\n",
       "  </tbody>\n",
       "</table>\n",
       "</div>"
      ],
      "text/plain": [
       "        event                 team  x_coordinate  y_coordinate  period  \\\n",
       "289   Faceoff   Chicago Blackhawks           0.0           0.0       1   \n",
       "290      Shot   Chicago Blackhawks         -65.0         -20.0       1   \n",
       "291  Stoppage                  NaN           NaN           NaN       1   \n",
       "292  Stoppage                  NaN           NaN           NaN       1   \n",
       "293   Faceoff  Tampa Bay Lightning         -69.0         -22.0       1   \n",
       "\n",
       "    period_time     game_id  score            home_team  \n",
       "289       00:00  2020020002    NaN  Tampa Bay Lightning  \n",
       "290       00:22  2020020002    NaN  Tampa Bay Lightning  \n",
       "291       00:23  2020020002    NaN  Tampa Bay Lightning  \n",
       "292       00:23  2020020002    NaN  Tampa Bay Lightning  \n",
       "293       00:23  2020020002    NaN  Tampa Bay Lightning  "
      ]
     },
     "execution_count": 18,
     "metadata": {},
     "output_type": "execute_result"
    }
   ],
   "source": [
    "game_2.head()"
   ]
  },
  {
   "cell_type": "code",
   "execution_count": 19,
   "metadata": {
    "ExecuteTime": {
     "end_time": "2021-06-12T00:43:34.567755Z",
     "start_time": "2021-06-12T00:43:34.554734Z"
    }
   },
   "outputs": [],
   "source": [
    "game_1 = all_game_events[all_game_events['game_id'] == 2020020001].copy()"
   ]
  },
  {
   "cell_type": "code",
   "execution_count": 20,
   "metadata": {
    "ExecuteTime": {
     "end_time": "2021-06-12T00:43:34.582758Z",
     "start_time": "2021-06-12T00:43:34.568756Z"
    }
   },
   "outputs": [],
   "source": [
    "game_1_faceoffs = game_1[game_1['event'] == 'Faceoff']"
   ]
  },
  {
   "cell_type": "code",
   "execution_count": 21,
   "metadata": {
    "ExecuteTime": {
     "end_time": "2021-06-12T00:43:34.597782Z",
     "start_time": "2021-06-12T00:43:34.587763Z"
    }
   },
   "outputs": [],
   "source": [
    "game_1_goals = game_1[game_1['event'] == 'Goal'].copy()"
   ]
  },
  {
   "cell_type": "code",
   "execution_count": 22,
   "metadata": {
    "ExecuteTime": {
     "end_time": "2021-06-12T00:43:34.613796Z",
     "start_time": "2021-06-12T00:43:34.600774Z"
    }
   },
   "outputs": [
    {
     "data": {
      "text/html": [
       "<div>\n",
       "<style scoped>\n",
       "    .dataframe tbody tr th:only-of-type {\n",
       "        vertical-align: middle;\n",
       "    }\n",
       "\n",
       "    .dataframe tbody tr th {\n",
       "        vertical-align: top;\n",
       "    }\n",
       "\n",
       "    .dataframe thead th {\n",
       "        text-align: right;\n",
       "    }\n",
       "</style>\n",
       "<table border=\"1\" class=\"dataframe\">\n",
       "  <thead>\n",
       "    <tr style=\"text-align: right;\">\n",
       "      <th></th>\n",
       "      <th>event</th>\n",
       "      <th>team</th>\n",
       "      <th>x_coordinate</th>\n",
       "      <th>y_coordinate</th>\n",
       "      <th>period</th>\n",
       "      <th>period_time</th>\n",
       "      <th>game_id</th>\n",
       "      <th>score</th>\n",
       "      <th>home_team</th>\n",
       "    </tr>\n",
       "  </thead>\n",
       "  <tbody>\n",
       "    <tr>\n",
       "      <th>31</th>\n",
       "      <td>Goal</td>\n",
       "      <td>Pittsburgh Penguins</td>\n",
       "      <td>81.0</td>\n",
       "      <td>-5.0</td>\n",
       "      <td>1</td>\n",
       "      <td>05:12</td>\n",
       "      <td>2020020001</td>\n",
       "      <td>NaN</td>\n",
       "      <td>Philadelphia Flyers</td>\n",
       "    </tr>\n",
       "    <tr>\n",
       "      <th>73</th>\n",
       "      <td>Goal</td>\n",
       "      <td>Philadelphia Flyers</td>\n",
       "      <td>-79.0</td>\n",
       "      <td>-2.0</td>\n",
       "      <td>1</td>\n",
       "      <td>15:11</td>\n",
       "      <td>2020020001</td>\n",
       "      <td>NaN</td>\n",
       "      <td>Philadelphia Flyers</td>\n",
       "    </tr>\n",
       "    <tr>\n",
       "      <th>98</th>\n",
       "      <td>Goal</td>\n",
       "      <td>Philadelphia Flyers</td>\n",
       "      <td>-59.0</td>\n",
       "      <td>-4.0</td>\n",
       "      <td>1</td>\n",
       "      <td>19:52</td>\n",
       "      <td>2020020001</td>\n",
       "      <td>NaN</td>\n",
       "      <td>Philadelphia Flyers</td>\n",
       "    </tr>\n",
       "    <tr>\n",
       "      <th>121</th>\n",
       "      <td>Goal</td>\n",
       "      <td>Pittsburgh Penguins</td>\n",
       "      <td>-79.0</td>\n",
       "      <td>4.0</td>\n",
       "      <td>2</td>\n",
       "      <td>03:39</td>\n",
       "      <td>2020020001</td>\n",
       "      <td>NaN</td>\n",
       "      <td>Philadelphia Flyers</td>\n",
       "    </tr>\n",
       "    <tr>\n",
       "      <th>180</th>\n",
       "      <td>Goal</td>\n",
       "      <td>Philadelphia Flyers</td>\n",
       "      <td>83.0</td>\n",
       "      <td>-4.0</td>\n",
       "      <td>2</td>\n",
       "      <td>18:54</td>\n",
       "      <td>2020020001</td>\n",
       "      <td>NaN</td>\n",
       "      <td>Philadelphia Flyers</td>\n",
       "    </tr>\n",
       "    <tr>\n",
       "      <th>203</th>\n",
       "      <td>Goal</td>\n",
       "      <td>Pittsburgh Penguins</td>\n",
       "      <td>61.0</td>\n",
       "      <td>15.0</td>\n",
       "      <td>3</td>\n",
       "      <td>03:01</td>\n",
       "      <td>2020020001</td>\n",
       "      <td>NaN</td>\n",
       "      <td>Philadelphia Flyers</td>\n",
       "    </tr>\n",
       "    <tr>\n",
       "      <th>219</th>\n",
       "      <td>Goal</td>\n",
       "      <td>Philadelphia Flyers</td>\n",
       "      <td>-80.0</td>\n",
       "      <td>3.0</td>\n",
       "      <td>3</td>\n",
       "      <td>05:37</td>\n",
       "      <td>2020020001</td>\n",
       "      <td>NaN</td>\n",
       "      <td>Philadelphia Flyers</td>\n",
       "    </tr>\n",
       "    <tr>\n",
       "      <th>243</th>\n",
       "      <td>Goal</td>\n",
       "      <td>Philadelphia Flyers</td>\n",
       "      <td>-81.0</td>\n",
       "      <td>-1.0</td>\n",
       "      <td>3</td>\n",
       "      <td>12:14</td>\n",
       "      <td>2020020001</td>\n",
       "      <td>NaN</td>\n",
       "      <td>Philadelphia Flyers</td>\n",
       "    </tr>\n",
       "    <tr>\n",
       "      <th>246</th>\n",
       "      <td>Goal</td>\n",
       "      <td>Philadelphia Flyers</td>\n",
       "      <td>-79.0</td>\n",
       "      <td>-9.0</td>\n",
       "      <td>3</td>\n",
       "      <td>12:34</td>\n",
       "      <td>2020020001</td>\n",
       "      <td>NaN</td>\n",
       "      <td>Philadelphia Flyers</td>\n",
       "    </tr>\n",
       "  </tbody>\n",
       "</table>\n",
       "</div>"
      ],
      "text/plain": [
       "    event                 team  x_coordinate  y_coordinate  period  \\\n",
       "31   Goal  Pittsburgh Penguins          81.0          -5.0       1   \n",
       "73   Goal  Philadelphia Flyers         -79.0          -2.0       1   \n",
       "98   Goal  Philadelphia Flyers         -59.0          -4.0       1   \n",
       "121  Goal  Pittsburgh Penguins         -79.0           4.0       2   \n",
       "180  Goal  Philadelphia Flyers          83.0          -4.0       2   \n",
       "203  Goal  Pittsburgh Penguins          61.0          15.0       3   \n",
       "219  Goal  Philadelphia Flyers         -80.0           3.0       3   \n",
       "243  Goal  Philadelphia Flyers         -81.0          -1.0       3   \n",
       "246  Goal  Philadelphia Flyers         -79.0          -9.0       3   \n",
       "\n",
       "    period_time     game_id  score            home_team  \n",
       "31        05:12  2020020001    NaN  Philadelphia Flyers  \n",
       "73        15:11  2020020001    NaN  Philadelphia Flyers  \n",
       "98        19:52  2020020001    NaN  Philadelphia Flyers  \n",
       "121       03:39  2020020001    NaN  Philadelphia Flyers  \n",
       "180       18:54  2020020001    NaN  Philadelphia Flyers  \n",
       "203       03:01  2020020001    NaN  Philadelphia Flyers  \n",
       "219       05:37  2020020001    NaN  Philadelphia Flyers  \n",
       "243       12:14  2020020001    NaN  Philadelphia Flyers  \n",
       "246       12:34  2020020001    NaN  Philadelphia Flyers  "
      ]
     },
     "execution_count": 22,
     "metadata": {},
     "output_type": "execute_result"
    }
   ],
   "source": [
    "game_1_goals # will need to inverse all the second periods "
   ]
  },
  {
   "cell_type": "code",
   "execution_count": 23,
   "metadata": {
    "ExecuteTime": {
     "end_time": "2021-06-12T00:43:34.629810Z",
     "start_time": "2021-06-12T00:43:34.615787Z"
    }
   },
   "outputs": [],
   "source": [
    "#https://datascience.stackexchange.com/questions/56668/pandas-change-value-of-a-column-based-another-column-condition\n",
    "mask = game_1_goals['period'] == 2"
   ]
  },
  {
   "cell_type": "code",
   "execution_count": 24,
   "metadata": {
    "ExecuteTime": {
     "end_time": "2021-06-12T00:43:34.645813Z",
     "start_time": "2021-06-12T00:43:34.630810Z"
    }
   },
   "outputs": [],
   "source": [
    "game_1_goals['x_coordinate'][mask] = game_1_goals['x_coordinate']*-1"
   ]
  },
  {
   "cell_type": "code",
   "execution_count": 25,
   "metadata": {
    "ExecuteTime": {
     "end_time": "2021-06-12T00:43:34.661827Z",
     "start_time": "2021-06-12T00:43:34.646825Z"
    },
    "scrolled": true
   },
   "outputs": [
    {
     "data": {
      "text/html": [
       "<div>\n",
       "<style scoped>\n",
       "    .dataframe tbody tr th:only-of-type {\n",
       "        vertical-align: middle;\n",
       "    }\n",
       "\n",
       "    .dataframe tbody tr th {\n",
       "        vertical-align: top;\n",
       "    }\n",
       "\n",
       "    .dataframe thead th {\n",
       "        text-align: right;\n",
       "    }\n",
       "</style>\n",
       "<table border=\"1\" class=\"dataframe\">\n",
       "  <thead>\n",
       "    <tr style=\"text-align: right;\">\n",
       "      <th></th>\n",
       "      <th>event</th>\n",
       "      <th>team</th>\n",
       "      <th>x_coordinate</th>\n",
       "      <th>y_coordinate</th>\n",
       "      <th>period</th>\n",
       "      <th>period_time</th>\n",
       "      <th>game_id</th>\n",
       "      <th>score</th>\n",
       "      <th>home_team</th>\n",
       "    </tr>\n",
       "  </thead>\n",
       "  <tbody>\n",
       "    <tr>\n",
       "      <th>31</th>\n",
       "      <td>Goal</td>\n",
       "      <td>Pittsburgh Penguins</td>\n",
       "      <td>81.0</td>\n",
       "      <td>-5.0</td>\n",
       "      <td>1</td>\n",
       "      <td>05:12</td>\n",
       "      <td>2020020001</td>\n",
       "      <td>NaN</td>\n",
       "      <td>Philadelphia Flyers</td>\n",
       "    </tr>\n",
       "    <tr>\n",
       "      <th>73</th>\n",
       "      <td>Goal</td>\n",
       "      <td>Philadelphia Flyers</td>\n",
       "      <td>-79.0</td>\n",
       "      <td>-2.0</td>\n",
       "      <td>1</td>\n",
       "      <td>15:11</td>\n",
       "      <td>2020020001</td>\n",
       "      <td>NaN</td>\n",
       "      <td>Philadelphia Flyers</td>\n",
       "    </tr>\n",
       "    <tr>\n",
       "      <th>98</th>\n",
       "      <td>Goal</td>\n",
       "      <td>Philadelphia Flyers</td>\n",
       "      <td>-59.0</td>\n",
       "      <td>-4.0</td>\n",
       "      <td>1</td>\n",
       "      <td>19:52</td>\n",
       "      <td>2020020001</td>\n",
       "      <td>NaN</td>\n",
       "      <td>Philadelphia Flyers</td>\n",
       "    </tr>\n",
       "    <tr>\n",
       "      <th>121</th>\n",
       "      <td>Goal</td>\n",
       "      <td>Pittsburgh Penguins</td>\n",
       "      <td>79.0</td>\n",
       "      <td>4.0</td>\n",
       "      <td>2</td>\n",
       "      <td>03:39</td>\n",
       "      <td>2020020001</td>\n",
       "      <td>NaN</td>\n",
       "      <td>Philadelphia Flyers</td>\n",
       "    </tr>\n",
       "    <tr>\n",
       "      <th>180</th>\n",
       "      <td>Goal</td>\n",
       "      <td>Philadelphia Flyers</td>\n",
       "      <td>-83.0</td>\n",
       "      <td>-4.0</td>\n",
       "      <td>2</td>\n",
       "      <td>18:54</td>\n",
       "      <td>2020020001</td>\n",
       "      <td>NaN</td>\n",
       "      <td>Philadelphia Flyers</td>\n",
       "    </tr>\n",
       "    <tr>\n",
       "      <th>203</th>\n",
       "      <td>Goal</td>\n",
       "      <td>Pittsburgh Penguins</td>\n",
       "      <td>61.0</td>\n",
       "      <td>15.0</td>\n",
       "      <td>3</td>\n",
       "      <td>03:01</td>\n",
       "      <td>2020020001</td>\n",
       "      <td>NaN</td>\n",
       "      <td>Philadelphia Flyers</td>\n",
       "    </tr>\n",
       "    <tr>\n",
       "      <th>219</th>\n",
       "      <td>Goal</td>\n",
       "      <td>Philadelphia Flyers</td>\n",
       "      <td>-80.0</td>\n",
       "      <td>3.0</td>\n",
       "      <td>3</td>\n",
       "      <td>05:37</td>\n",
       "      <td>2020020001</td>\n",
       "      <td>NaN</td>\n",
       "      <td>Philadelphia Flyers</td>\n",
       "    </tr>\n",
       "    <tr>\n",
       "      <th>243</th>\n",
       "      <td>Goal</td>\n",
       "      <td>Philadelphia Flyers</td>\n",
       "      <td>-81.0</td>\n",
       "      <td>-1.0</td>\n",
       "      <td>3</td>\n",
       "      <td>12:14</td>\n",
       "      <td>2020020001</td>\n",
       "      <td>NaN</td>\n",
       "      <td>Philadelphia Flyers</td>\n",
       "    </tr>\n",
       "    <tr>\n",
       "      <th>246</th>\n",
       "      <td>Goal</td>\n",
       "      <td>Philadelphia Flyers</td>\n",
       "      <td>-79.0</td>\n",
       "      <td>-9.0</td>\n",
       "      <td>3</td>\n",
       "      <td>12:34</td>\n",
       "      <td>2020020001</td>\n",
       "      <td>NaN</td>\n",
       "      <td>Philadelphia Flyers</td>\n",
       "    </tr>\n",
       "  </tbody>\n",
       "</table>\n",
       "</div>"
      ],
      "text/plain": [
       "    event                 team  x_coordinate  y_coordinate  period  \\\n",
       "31   Goal  Pittsburgh Penguins          81.0          -5.0       1   \n",
       "73   Goal  Philadelphia Flyers         -79.0          -2.0       1   \n",
       "98   Goal  Philadelphia Flyers         -59.0          -4.0       1   \n",
       "121  Goal  Pittsburgh Penguins          79.0           4.0       2   \n",
       "180  Goal  Philadelphia Flyers         -83.0          -4.0       2   \n",
       "203  Goal  Pittsburgh Penguins          61.0          15.0       3   \n",
       "219  Goal  Philadelphia Flyers         -80.0           3.0       3   \n",
       "243  Goal  Philadelphia Flyers         -81.0          -1.0       3   \n",
       "246  Goal  Philadelphia Flyers         -79.0          -9.0       3   \n",
       "\n",
       "    period_time     game_id  score            home_team  \n",
       "31        05:12  2020020001    NaN  Philadelphia Flyers  \n",
       "73        15:11  2020020001    NaN  Philadelphia Flyers  \n",
       "98        19:52  2020020001    NaN  Philadelphia Flyers  \n",
       "121       03:39  2020020001    NaN  Philadelphia Flyers  \n",
       "180       18:54  2020020001    NaN  Philadelphia Flyers  \n",
       "203       03:01  2020020001    NaN  Philadelphia Flyers  \n",
       "219       05:37  2020020001    NaN  Philadelphia Flyers  \n",
       "243       12:14  2020020001    NaN  Philadelphia Flyers  \n",
       "246       12:34  2020020001    NaN  Philadelphia Flyers  "
      ]
     },
     "execution_count": 25,
     "metadata": {},
     "output_type": "execute_result"
    }
   ],
   "source": [
    "game_1_goals"
   ]
  },
  {
   "cell_type": "code",
   "execution_count": 26,
   "metadata": {
    "ExecuteTime": {
     "end_time": "2021-06-12T00:43:34.677852Z",
     "start_time": "2021-06-12T00:43:34.662830Z"
    }
   },
   "outputs": [
    {
     "data": {
      "text/plain": [
       "-240.0"
      ]
     },
     "execution_count": 26,
     "metadata": {},
     "output_type": "execute_result"
    }
   ],
   "source": [
    "game_1_goals['x_coordinate'].sum()"
   ]
  },
  {
   "cell_type": "code",
   "execution_count": 27,
   "metadata": {
    "ExecuteTime": {
     "end_time": "2021-06-12T00:43:34.693866Z",
     "start_time": "2021-06-12T00:43:34.679854Z"
    }
   },
   "outputs": [
    {
     "data": {
      "text/plain": [
       "['Faceoff', 'Shot', 'Hit', 'Missed Shot']"
      ]
     },
     "execution_count": 27,
     "metadata": {},
     "output_type": "execute_result"
    }
   ],
   "source": [
    "ice_tilt_events"
   ]
  },
  {
   "cell_type": "code",
   "execution_count": 28,
   "metadata": {
    "ExecuteTime": {
     "end_time": "2021-06-12T00:43:34.709871Z",
     "start_time": "2021-06-12T00:43:34.695869Z"
    }
   },
   "outputs": [],
   "source": [
    "game_1_ice_tilt = game_1[(game_1['event'] == 'Faceoff') | (game_1['event'] == 'Shot') | (game_1['event'] == 'Hit') | (game_1['event'] == 'Missed Shot')]                "
   ]
  },
  {
   "cell_type": "code",
   "execution_count": 29,
   "metadata": {
    "ExecuteTime": {
     "end_time": "2021-06-12T00:43:34.725895Z",
     "start_time": "2021-06-12T00:43:34.711872Z"
    }
   },
   "outputs": [
    {
     "data": {
      "text/plain": [
       "Hit            54\n",
       "Shot           52\n",
       "Faceoff        50\n",
       "Missed Shot    15\n",
       "Name: event, dtype: int64"
      ]
     },
     "execution_count": 29,
     "metadata": {},
     "output_type": "execute_result"
    }
   ],
   "source": [
    "game_1_ice_tilt['event'].value_counts()"
   ]
  },
  {
   "cell_type": "code",
   "execution_count": 30,
   "metadata": {
    "ExecuteTime": {
     "end_time": "2021-06-12T00:43:34.741909Z",
     "start_time": "2021-06-12T00:43:34.727897Z"
    }
   },
   "outputs": [],
   "source": [
    "mask = (game_1_ice_tilt['period'] == 2)"
   ]
  },
  {
   "cell_type": "code",
   "execution_count": 31,
   "metadata": {
    "ExecuteTime": {
     "end_time": "2021-06-12T00:43:34.757786Z",
     "start_time": "2021-06-12T00:43:34.742899Z"
    }
   },
   "outputs": [],
   "source": [
    "game_1_ice_tilt['x_coordinate'][mask] = game_1_ice_tilt['x_coordinate'] * -1"
   ]
  },
  {
   "cell_type": "code",
   "execution_count": 32,
   "metadata": {
    "ExecuteTime": {
     "end_time": "2021-06-12T00:43:34.772799Z",
     "start_time": "2021-06-12T00:43:34.759788Z"
    }
   },
   "outputs": [
    {
     "data": {
      "text/plain": [
       "1058.0"
      ]
     },
     "execution_count": 32,
     "metadata": {},
     "output_type": "execute_result"
    }
   ],
   "source": [
    "game_1_ice_tilt['x_coordinate'].sum()"
   ]
  },
  {
   "cell_type": "code",
   "execution_count": 33,
   "metadata": {
    "ExecuteTime": {
     "end_time": "2021-06-12T00:43:34.788813Z",
     "start_time": "2021-06-12T00:43:34.774801Z"
    }
   },
   "outputs": [],
   "source": [
    "game_id_list_single = []\n",
    "for i in range(1,10):\n",
    "    game_id_list_single.append(int(f'202002000{i}'))\n",
    "for i in range(10,100):\n",
    "    game_id_list_single.append(int(f'20200200{i}'))\n",
    "for i in range(100,869):\n",
    "    game_id_list_single.append(int(f'2020020{i}')) "
   ]
  },
  {
   "cell_type": "code",
   "execution_count": 34,
   "metadata": {
    "ExecuteTime": {
     "end_time": "2021-06-12T00:43:34.803826Z",
     "start_time": "2021-06-12T00:43:34.790815Z"
    }
   },
   "outputs": [],
   "source": [
    "def ice_tilt(game_ids):\n",
    "    ice_tilt_list = []\n",
    "    for i in game_ids:\n",
    "        game_df = all_game_events[all_game_events['game_id'] == i].copy()\n",
    "        game_ice_tilt = game_df[(game_df['event'] == 'Faceoff') | (game_df['event'] == 'Shot') | (game_df['event'] == 'Hit') | (game_df['event'] == 'Missed Shot')]                \n",
    "        mask = (game_ice_tilt['period']==2)\n",
    "        game_ice_tilt['x_coordinate'][mask] = game_ice_tilt['x_coordinate'] * -1\n",
    "        tilt = game_ice_tilt['x_coordinate'].sum()\n",
    "        ice_tilt_list.append(tilt)\n",
    "    return ice_tilt_list"
   ]
  },
  {
   "cell_type": "code",
   "execution_count": 35,
   "metadata": {
    "ExecuteTime": {
     "end_time": "2021-06-12T00:43:38.547582Z",
     "start_time": "2021-06-12T00:43:34.805828Z"
    }
   },
   "outputs": [],
   "source": [
    "full_tilt = ice_tilt(game_id_list_single)"
   ]
  },
  {
   "cell_type": "code",
   "execution_count": 36,
   "metadata": {
    "ExecuteTime": {
     "end_time": "2021-06-12T00:43:38.562606Z",
     "start_time": "2021-06-12T00:43:38.548585Z"
    }
   },
   "outputs": [
    {
     "data": {
      "text/plain": [
       "[1058.0,\n",
       " -89.0,\n",
       " -1328.0,\n",
       " -695.0,\n",
       " -405.0,\n",
       " -265.0,\n",
       " -756.0,\n",
       " 931.0,\n",
       " -2993.0,\n",
       " 2347.0]"
      ]
     },
     "execution_count": 36,
     "metadata": {},
     "output_type": "execute_result"
    }
   ],
   "source": [
    "full_tilt[:10]"
   ]
  },
  {
   "cell_type": "code",
   "execution_count": 37,
   "metadata": {
    "ExecuteTime": {
     "end_time": "2021-06-12T00:43:38.578611Z",
     "start_time": "2021-06-12T00:43:38.564609Z"
    }
   },
   "outputs": [
    {
     "data": {
      "text/html": [
       "<div>\n",
       "<style scoped>\n",
       "    .dataframe tbody tr th:only-of-type {\n",
       "        vertical-align: middle;\n",
       "    }\n",
       "\n",
       "    .dataframe tbody tr th {\n",
       "        vertical-align: top;\n",
       "    }\n",
       "\n",
       "    .dataframe thead th {\n",
       "        text-align: right;\n",
       "    }\n",
       "</style>\n",
       "<table border=\"1\" class=\"dataframe\">\n",
       "  <thead>\n",
       "    <tr style=\"text-align: right;\">\n",
       "      <th></th>\n",
       "      <th>team</th>\n",
       "      <th>home_status</th>\n",
       "      <th>goals</th>\n",
       "      <th>shots</th>\n",
       "      <th>blocked_shots</th>\n",
       "      <th>penalty_minutes</th>\n",
       "      <th>power_play_percentage</th>\n",
       "      <th>power_play_goals</th>\n",
       "      <th>power_play_chances</th>\n",
       "      <th>faceoff_percent</th>\n",
       "      <th>takeaways</th>\n",
       "      <th>giveaways</th>\n",
       "      <th>hits</th>\n",
       "      <th>goal_diff</th>\n",
       "      <th>won</th>\n",
       "      <th>game_ids</th>\n",
       "    </tr>\n",
       "  </thead>\n",
       "  <tbody>\n",
       "    <tr>\n",
       "      <th>0</th>\n",
       "      <td>Pittsburgh Penguins</td>\n",
       "      <td>away</td>\n",
       "      <td>3</td>\n",
       "      <td>34</td>\n",
       "      <td>11</td>\n",
       "      <td>6</td>\n",
       "      <td>33.3</td>\n",
       "      <td>1.0</td>\n",
       "      <td>3.0</td>\n",
       "      <td>42.0</td>\n",
       "      <td>8</td>\n",
       "      <td>10</td>\n",
       "      <td>23</td>\n",
       "      <td>-3</td>\n",
       "      <td>no</td>\n",
       "      <td>2020020001</td>\n",
       "    </tr>\n",
       "    <tr>\n",
       "      <th>1</th>\n",
       "      <td>Philadelphia Flyers</td>\n",
       "      <td>home</td>\n",
       "      <td>6</td>\n",
       "      <td>27</td>\n",
       "      <td>13</td>\n",
       "      <td>6</td>\n",
       "      <td>66.7</td>\n",
       "      <td>2.0</td>\n",
       "      <td>3.0</td>\n",
       "      <td>58.0</td>\n",
       "      <td>6</td>\n",
       "      <td>10</td>\n",
       "      <td>31</td>\n",
       "      <td>3</td>\n",
       "      <td>yes</td>\n",
       "      <td>2020020001</td>\n",
       "    </tr>\n",
       "    <tr>\n",
       "      <th>2</th>\n",
       "      <td>Chicago Blackhawks</td>\n",
       "      <td>away</td>\n",
       "      <td>1</td>\n",
       "      <td>23</td>\n",
       "      <td>7</td>\n",
       "      <td>8</td>\n",
       "      <td>33.3</td>\n",
       "      <td>1.0</td>\n",
       "      <td>3.0</td>\n",
       "      <td>49.1</td>\n",
       "      <td>4</td>\n",
       "      <td>1</td>\n",
       "      <td>14</td>\n",
       "      <td>-4</td>\n",
       "      <td>no</td>\n",
       "      <td>2020020002</td>\n",
       "    </tr>\n",
       "    <tr>\n",
       "      <th>3</th>\n",
       "      <td>Tampa Bay Lightning</td>\n",
       "      <td>home</td>\n",
       "      <td>5</td>\n",
       "      <td>33</td>\n",
       "      <td>12</td>\n",
       "      <td>6</td>\n",
       "      <td>50.0</td>\n",
       "      <td>2.0</td>\n",
       "      <td>4.0</td>\n",
       "      <td>50.9</td>\n",
       "      <td>4</td>\n",
       "      <td>1</td>\n",
       "      <td>16</td>\n",
       "      <td>4</td>\n",
       "      <td>yes</td>\n",
       "      <td>2020020002</td>\n",
       "    </tr>\n",
       "    <tr>\n",
       "      <th>4</th>\n",
       "      <td>Montréal Canadiens</td>\n",
       "      <td>away</td>\n",
       "      <td>4</td>\n",
       "      <td>32</td>\n",
       "      <td>22</td>\n",
       "      <td>13</td>\n",
       "      <td>66.7</td>\n",
       "      <td>2.0</td>\n",
       "      <td>3.0</td>\n",
       "      <td>46.0</td>\n",
       "      <td>6</td>\n",
       "      <td>13</td>\n",
       "      <td>32</td>\n",
       "      <td>-1</td>\n",
       "      <td>no</td>\n",
       "      <td>2020020003</td>\n",
       "    </tr>\n",
       "  </tbody>\n",
       "</table>\n",
       "</div>"
      ],
      "text/plain": [
       "                  team home_status  goals  shots  blocked_shots  \\\n",
       "0  Pittsburgh Penguins        away      3     34             11   \n",
       "1  Philadelphia Flyers        home      6     27             13   \n",
       "2   Chicago Blackhawks        away      1     23              7   \n",
       "3  Tampa Bay Lightning        home      5     33             12   \n",
       "4   Montréal Canadiens        away      4     32             22   \n",
       "\n",
       "   penalty_minutes  power_play_percentage  power_play_goals  \\\n",
       "0                6                   33.3               1.0   \n",
       "1                6                   66.7               2.0   \n",
       "2                8                   33.3               1.0   \n",
       "3                6                   50.0               2.0   \n",
       "4               13                   66.7               2.0   \n",
       "\n",
       "   power_play_chances  faceoff_percent  takeaways  giveaways  hits  goal_diff  \\\n",
       "0                 3.0             42.0          8         10    23         -3   \n",
       "1                 3.0             58.0          6         10    31          3   \n",
       "2                 3.0             49.1          4          1    14         -4   \n",
       "3                 4.0             50.9          4          1    16          4   \n",
       "4                 3.0             46.0          6         13    32         -1   \n",
       "\n",
       "   won    game_ids  \n",
       "0   no  2020020001  \n",
       "1  yes  2020020001  \n",
       "2   no  2020020002  \n",
       "3  yes  2020020002  \n",
       "4   no  2020020003  "
      ]
     },
     "execution_count": 37,
     "metadata": {},
     "output_type": "execute_result"
    }
   ],
   "source": [
    "model_2020.head()"
   ]
  },
  {
   "cell_type": "code",
   "execution_count": 38,
   "metadata": {
    "ExecuteTime": {
     "end_time": "2021-06-12T00:43:38.608685Z",
     "start_time": "2021-06-12T00:43:38.579612Z"
    }
   },
   "outputs": [
    {
     "data": {
      "text/html": [
       "<div>\n",
       "<style scoped>\n",
       "    .dataframe tbody tr th:only-of-type {\n",
       "        vertical-align: middle;\n",
       "    }\n",
       "\n",
       "    .dataframe tbody tr th {\n",
       "        vertical-align: top;\n",
       "    }\n",
       "\n",
       "    .dataframe thead th {\n",
       "        text-align: right;\n",
       "    }\n",
       "</style>\n",
       "<table border=\"1\" class=\"dataframe\">\n",
       "  <thead>\n",
       "    <tr style=\"text-align: right;\">\n",
       "      <th></th>\n",
       "      <th>team</th>\n",
       "      <th>home_status</th>\n",
       "      <th>goals</th>\n",
       "      <th>shots</th>\n",
       "      <th>blocked_shots</th>\n",
       "      <th>penalty_minutes</th>\n",
       "      <th>power_play_percentage</th>\n",
       "      <th>power_play_goals</th>\n",
       "      <th>power_play_chances</th>\n",
       "      <th>faceoff_percent</th>\n",
       "      <th>takeaways</th>\n",
       "      <th>giveaways</th>\n",
       "      <th>hits</th>\n",
       "      <th>goal_diff</th>\n",
       "      <th>won</th>\n",
       "      <th>game_ids</th>\n",
       "    </tr>\n",
       "  </thead>\n",
       "  <tbody>\n",
       "    <tr>\n",
       "      <th>0</th>\n",
       "      <td>Pittsburgh Penguins</td>\n",
       "      <td>away</td>\n",
       "      <td>3</td>\n",
       "      <td>34</td>\n",
       "      <td>11</td>\n",
       "      <td>6</td>\n",
       "      <td>33.3</td>\n",
       "      <td>1.0</td>\n",
       "      <td>3.0</td>\n",
       "      <td>42.0</td>\n",
       "      <td>8</td>\n",
       "      <td>10</td>\n",
       "      <td>23</td>\n",
       "      <td>-3</td>\n",
       "      <td>no</td>\n",
       "      <td>2020020001</td>\n",
       "    </tr>\n",
       "    <tr>\n",
       "      <th>1</th>\n",
       "      <td>Philadelphia Flyers</td>\n",
       "      <td>home</td>\n",
       "      <td>6</td>\n",
       "      <td>27</td>\n",
       "      <td>13</td>\n",
       "      <td>6</td>\n",
       "      <td>66.7</td>\n",
       "      <td>2.0</td>\n",
       "      <td>3.0</td>\n",
       "      <td>58.0</td>\n",
       "      <td>6</td>\n",
       "      <td>10</td>\n",
       "      <td>31</td>\n",
       "      <td>3</td>\n",
       "      <td>yes</td>\n",
       "      <td>2020020001</td>\n",
       "    </tr>\n",
       "  </tbody>\n",
       "</table>\n",
       "</div>"
      ],
      "text/plain": [
       "                  team home_status  goals  shots  blocked_shots  \\\n",
       "0  Pittsburgh Penguins        away      3     34             11   \n",
       "1  Philadelphia Flyers        home      6     27             13   \n",
       "\n",
       "   penalty_minutes  power_play_percentage  power_play_goals  \\\n",
       "0                6                   33.3               1.0   \n",
       "1                6                   66.7               2.0   \n",
       "\n",
       "   power_play_chances  faceoff_percent  takeaways  giveaways  hits  goal_diff  \\\n",
       "0                 3.0             42.0          8         10    23         -3   \n",
       "1                 3.0             58.0          6         10    31          3   \n",
       "\n",
       "   won    game_ids  \n",
       "0   no  2020020001  \n",
       "1  yes  2020020001  "
      ]
     },
     "execution_count": 38,
     "metadata": {},
     "output_type": "execute_result"
    }
   ],
   "source": [
    "model_2020[0:2]"
   ]
  },
  {
   "cell_type": "code",
   "execution_count": 39,
   "metadata": {
    "ExecuteTime": {
     "end_time": "2021-06-12T00:43:38.623698Z",
     "start_time": "2021-06-12T00:43:38.609686Z"
    }
   },
   "outputs": [
    {
     "data": {
      "text/plain": [
       "(1736, 16)"
      ]
     },
     "execution_count": 39,
     "metadata": {},
     "output_type": "execute_result"
    }
   ],
   "source": [
    "model_2020.shape"
   ]
  },
  {
   "cell_type": "code",
   "execution_count": 40,
   "metadata": {
    "ExecuteTime": {
     "end_time": "2021-06-12T00:43:38.638721Z",
     "start_time": "2021-06-12T00:43:38.625698Z"
    }
   },
   "outputs": [],
   "source": [
    "game_1_diff = model_2020.iloc[1][2:13] -  model_2020.iloc[0][2:13]"
   ]
  },
  {
   "cell_type": "code",
   "execution_count": 41,
   "metadata": {
    "ExecuteTime": {
     "end_time": "2021-06-12T00:43:38.654733Z",
     "start_time": "2021-06-12T00:43:38.640712Z"
    }
   },
   "outputs": [
    {
     "data": {
      "text/plain": [
       "{'goal_diff': 3, 'won': 'yes', 'game_ids': 2020020001}"
      ]
     },
     "execution_count": 41,
     "metadata": {},
     "output_type": "execute_result"
    }
   ],
   "source": [
    "model_2020.iloc[1][13:].to_dict()"
   ]
  },
  {
   "cell_type": "code",
   "execution_count": 42,
   "metadata": {
    "ExecuteTime": {
     "end_time": "2021-06-12T00:43:38.670749Z",
     "start_time": "2021-06-12T00:43:38.656726Z"
    }
   },
   "outputs": [
    {
     "data": {
      "text/plain": [
       "{'goals': 3,\n",
       " 'shots': -7,\n",
       " 'blocked_shots': 2,\n",
       " 'penalty_minutes': 0,\n",
       " 'power_play_percentage': 33.400000000000006,\n",
       " 'power_play_goals': 1.0,\n",
       " 'power_play_chances': 0.0,\n",
       " 'faceoff_percent': 16.0,\n",
       " 'takeaways': -2,\n",
       " 'giveaways': 0,\n",
       " 'hits': 8}"
      ]
     },
     "execution_count": 42,
     "metadata": {},
     "output_type": "execute_result"
    }
   ],
   "source": [
    "game_1_diff.to_dict()"
   ]
  },
  {
   "cell_type": "code",
   "execution_count": 43,
   "metadata": {
    "ExecuteTime": {
     "end_time": "2021-06-12T00:43:38.686754Z",
     "start_time": "2021-06-12T00:43:38.671740Z"
    }
   },
   "outputs": [
    {
     "data": {
      "text/html": [
       "<div>\n",
       "<style scoped>\n",
       "    .dataframe tbody tr th:only-of-type {\n",
       "        vertical-align: middle;\n",
       "    }\n",
       "\n",
       "    .dataframe tbody tr th {\n",
       "        vertical-align: top;\n",
       "    }\n",
       "\n",
       "    .dataframe thead th {\n",
       "        text-align: right;\n",
       "    }\n",
       "</style>\n",
       "<table border=\"1\" class=\"dataframe\">\n",
       "  <thead>\n",
       "    <tr style=\"text-align: right;\">\n",
       "      <th></th>\n",
       "      <th>goals</th>\n",
       "      <th>shots</th>\n",
       "      <th>blocked_shots</th>\n",
       "      <th>penalty_minutes</th>\n",
       "      <th>power_play_percentage</th>\n",
       "      <th>power_play_goals</th>\n",
       "      <th>power_play_chances</th>\n",
       "      <th>faceoff_percent</th>\n",
       "      <th>takeaways</th>\n",
       "      <th>giveaways</th>\n",
       "      <th>hits</th>\n",
       "    </tr>\n",
       "  </thead>\n",
       "  <tbody>\n",
       "    <tr>\n",
       "      <th>0</th>\n",
       "      <td>3</td>\n",
       "      <td>-7</td>\n",
       "      <td>2</td>\n",
       "      <td>0</td>\n",
       "      <td>33.4</td>\n",
       "      <td>1.0</td>\n",
       "      <td>0.0</td>\n",
       "      <td>16.0</td>\n",
       "      <td>-2</td>\n",
       "      <td>0</td>\n",
       "      <td>8</td>\n",
       "    </tr>\n",
       "  </tbody>\n",
       "</table>\n",
       "</div>"
      ],
      "text/plain": [
       "   goals  shots  blocked_shots  penalty_minutes  power_play_percentage  \\\n",
       "0      3     -7              2                0                   33.4   \n",
       "\n",
       "   power_play_goals  power_play_chances  faceoff_percent  takeaways  \\\n",
       "0               1.0                 0.0             16.0         -2   \n",
       "\n",
       "   giveaways  hits  \n",
       "0          0     8  "
      ]
     },
     "execution_count": 43,
     "metadata": {},
     "output_type": "execute_result"
    }
   ],
   "source": [
    "pd.DataFrame(game_1_diff.to_dict(), index=[0])"
   ]
  },
  {
   "cell_type": "code",
   "execution_count": 44,
   "metadata": {
    "ExecuteTime": {
     "end_time": "2021-06-12T00:43:41.658215Z",
     "start_time": "2021-06-12T00:43:38.687754Z"
    }
   },
   "outputs": [],
   "source": [
    "game_difference_df = pd.DataFrame()\n",
    "a=0\n",
    "for i in range(1,1736,2):\n",
    "        game_info = model_2020.iloc[i][13:].to_dict()\n",
    "        game_stats = model_2020.iloc[i][2:13] -  model_2020.iloc[i-1][2:13]\n",
    "        game_info.update(game_stats.to_dict())\n",
    "        temp_diff = pd.DataFrame(game_info, index=[a])\n",
    "        game_difference_df = pd.concat([game_difference_df, temp_diff], axis=0, ignore_index=True)\n",
    "        a += 1\n",
    "        \n",
    "        \n",
    "        \n",
    "        \n",
    "        "
   ]
  },
  {
   "cell_type": "code",
   "execution_count": 45,
   "metadata": {
    "ExecuteTime": {
     "end_time": "2021-06-12T00:43:41.689118Z",
     "start_time": "2021-06-12T00:43:41.659092Z"
    },
    "scrolled": false
   },
   "outputs": [
    {
     "data": {
      "text/html": [
       "<div>\n",
       "<style scoped>\n",
       "    .dataframe tbody tr th:only-of-type {\n",
       "        vertical-align: middle;\n",
       "    }\n",
       "\n",
       "    .dataframe tbody tr th {\n",
       "        vertical-align: top;\n",
       "    }\n",
       "\n",
       "    .dataframe thead th {\n",
       "        text-align: right;\n",
       "    }\n",
       "</style>\n",
       "<table border=\"1\" class=\"dataframe\">\n",
       "  <thead>\n",
       "    <tr style=\"text-align: right;\">\n",
       "      <th></th>\n",
       "      <th>goal_diff</th>\n",
       "      <th>won</th>\n",
       "      <th>game_ids</th>\n",
       "      <th>goals</th>\n",
       "      <th>shots</th>\n",
       "      <th>blocked_shots</th>\n",
       "      <th>penalty_minutes</th>\n",
       "      <th>power_play_percentage</th>\n",
       "      <th>power_play_goals</th>\n",
       "      <th>power_play_chances</th>\n",
       "      <th>faceoff_percent</th>\n",
       "      <th>takeaways</th>\n",
       "      <th>giveaways</th>\n",
       "      <th>hits</th>\n",
       "    </tr>\n",
       "  </thead>\n",
       "  <tbody>\n",
       "    <tr>\n",
       "      <th>0</th>\n",
       "      <td>3</td>\n",
       "      <td>yes</td>\n",
       "      <td>2020020001</td>\n",
       "      <td>3</td>\n",
       "      <td>-7</td>\n",
       "      <td>2</td>\n",
       "      <td>0</td>\n",
       "      <td>33.4</td>\n",
       "      <td>1.0</td>\n",
       "      <td>0.0</td>\n",
       "      <td>16.0</td>\n",
       "      <td>-2</td>\n",
       "      <td>0</td>\n",
       "      <td>8</td>\n",
       "    </tr>\n",
       "    <tr>\n",
       "      <th>1</th>\n",
       "      <td>4</td>\n",
       "      <td>yes</td>\n",
       "      <td>2020020002</td>\n",
       "      <td>4</td>\n",
       "      <td>10</td>\n",
       "      <td>5</td>\n",
       "      <td>-2</td>\n",
       "      <td>16.7</td>\n",
       "      <td>1.0</td>\n",
       "      <td>1.0</td>\n",
       "      <td>1.8</td>\n",
       "      <td>0</td>\n",
       "      <td>0</td>\n",
       "      <td>2</td>\n",
       "    </tr>\n",
       "    <tr>\n",
       "      <th>2</th>\n",
       "      <td>1</td>\n",
       "      <td>yes</td>\n",
       "      <td>2020020003</td>\n",
       "      <td>1</td>\n",
       "      <td>2</td>\n",
       "      <td>-5</td>\n",
       "      <td>-2</td>\n",
       "      <td>-16.7</td>\n",
       "      <td>0.0</td>\n",
       "      <td>1.0</td>\n",
       "      <td>8.0</td>\n",
       "      <td>-1</td>\n",
       "      <td>-4</td>\n",
       "      <td>-18</td>\n",
       "    </tr>\n",
       "    <tr>\n",
       "      <th>3</th>\n",
       "      <td>-2</td>\n",
       "      <td>no</td>\n",
       "      <td>2020020004</td>\n",
       "      <td>-2</td>\n",
       "      <td>-4</td>\n",
       "      <td>3</td>\n",
       "      <td>-4</td>\n",
       "      <td>0.0</td>\n",
       "      <td>0.0</td>\n",
       "      <td>2.0</td>\n",
       "      <td>3.6</td>\n",
       "      <td>-1</td>\n",
       "      <td>4</td>\n",
       "      <td>-1</td>\n",
       "    </tr>\n",
       "    <tr>\n",
       "      <th>4</th>\n",
       "      <td>-3</td>\n",
       "      <td>no</td>\n",
       "      <td>2020020005</td>\n",
       "      <td>-3</td>\n",
       "      <td>-5</td>\n",
       "      <td>-8</td>\n",
       "      <td>-4</td>\n",
       "      <td>25.0</td>\n",
       "      <td>1.0</td>\n",
       "      <td>2.0</td>\n",
       "      <td>8.8</td>\n",
       "      <td>3</td>\n",
       "      <td>5</td>\n",
       "      <td>1</td>\n",
       "    </tr>\n",
       "    <tr>\n",
       "      <th>...</th>\n",
       "      <td>...</td>\n",
       "      <td>...</td>\n",
       "      <td>...</td>\n",
       "      <td>...</td>\n",
       "      <td>...</td>\n",
       "      <td>...</td>\n",
       "      <td>...</td>\n",
       "      <td>...</td>\n",
       "      <td>...</td>\n",
       "      <td>...</td>\n",
       "      <td>...</td>\n",
       "      <td>...</td>\n",
       "      <td>...</td>\n",
       "      <td>...</td>\n",
       "    </tr>\n",
       "    <tr>\n",
       "      <th>863</th>\n",
       "      <td>2</td>\n",
       "      <td>yes</td>\n",
       "      <td>2020020864</td>\n",
       "      <td>2</td>\n",
       "      <td>-16</td>\n",
       "      <td>2</td>\n",
       "      <td>0</td>\n",
       "      <td>0.0</td>\n",
       "      <td>0.0</td>\n",
       "      <td>0.0</td>\n",
       "      <td>-5.0</td>\n",
       "      <td>-3</td>\n",
       "      <td>0</td>\n",
       "      <td>-9</td>\n",
       "    </tr>\n",
       "    <tr>\n",
       "      <th>864</th>\n",
       "      <td>1</td>\n",
       "      <td>yes</td>\n",
       "      <td>2020020865</td>\n",
       "      <td>1</td>\n",
       "      <td>3</td>\n",
       "      <td>7</td>\n",
       "      <td>-6</td>\n",
       "      <td>25.0</td>\n",
       "      <td>1.0</td>\n",
       "      <td>3.0</td>\n",
       "      <td>-1.8</td>\n",
       "      <td>7</td>\n",
       "      <td>3</td>\n",
       "      <td>1</td>\n",
       "    </tr>\n",
       "    <tr>\n",
       "      <th>865</th>\n",
       "      <td>3</td>\n",
       "      <td>yes</td>\n",
       "      <td>2020020866</td>\n",
       "      <td>3</td>\n",
       "      <td>8</td>\n",
       "      <td>-1</td>\n",
       "      <td>-2</td>\n",
       "      <td>25.0</td>\n",
       "      <td>1.0</td>\n",
       "      <td>1.0</td>\n",
       "      <td>-14.2</td>\n",
       "      <td>0</td>\n",
       "      <td>-9</td>\n",
       "      <td>-17</td>\n",
       "    </tr>\n",
       "    <tr>\n",
       "      <th>866</th>\n",
       "      <td>-1</td>\n",
       "      <td>no</td>\n",
       "      <td>2020020867</td>\n",
       "      <td>-1</td>\n",
       "      <td>-12</td>\n",
       "      <td>-1</td>\n",
       "      <td>2</td>\n",
       "      <td>-33.3</td>\n",
       "      <td>-1.0</td>\n",
       "      <td>-1.0</td>\n",
       "      <td>15.6</td>\n",
       "      <td>-4</td>\n",
       "      <td>-2</td>\n",
       "      <td>-7</td>\n",
       "    </tr>\n",
       "    <tr>\n",
       "      <th>867</th>\n",
       "      <td>-1</td>\n",
       "      <td>no</td>\n",
       "      <td>2020020868</td>\n",
       "      <td>-1</td>\n",
       "      <td>16</td>\n",
       "      <td>-2</td>\n",
       "      <td>0</td>\n",
       "      <td>-50.0</td>\n",
       "      <td>-1.0</td>\n",
       "      <td>0.0</td>\n",
       "      <td>-3.2</td>\n",
       "      <td>1</td>\n",
       "      <td>3</td>\n",
       "      <td>-1</td>\n",
       "    </tr>\n",
       "  </tbody>\n",
       "</table>\n",
       "<p>868 rows × 14 columns</p>\n",
       "</div>"
      ],
      "text/plain": [
       "     goal_diff  won    game_ids  goals  shots  blocked_shots  penalty_minutes  \\\n",
       "0            3  yes  2020020001      3     -7              2                0   \n",
       "1            4  yes  2020020002      4     10              5               -2   \n",
       "2            1  yes  2020020003      1      2             -5               -2   \n",
       "3           -2   no  2020020004     -2     -4              3               -4   \n",
       "4           -3   no  2020020005     -3     -5             -8               -4   \n",
       "..         ...  ...         ...    ...    ...            ...              ...   \n",
       "863          2  yes  2020020864      2    -16              2                0   \n",
       "864          1  yes  2020020865      1      3              7               -6   \n",
       "865          3  yes  2020020866      3      8             -1               -2   \n",
       "866         -1   no  2020020867     -1    -12             -1                2   \n",
       "867         -1   no  2020020868     -1     16             -2                0   \n",
       "\n",
       "     power_play_percentage  power_play_goals  power_play_chances  \\\n",
       "0                     33.4               1.0                 0.0   \n",
       "1                     16.7               1.0                 1.0   \n",
       "2                    -16.7               0.0                 1.0   \n",
       "3                      0.0               0.0                 2.0   \n",
       "4                     25.0               1.0                 2.0   \n",
       "..                     ...               ...                 ...   \n",
       "863                    0.0               0.0                 0.0   \n",
       "864                   25.0               1.0                 3.0   \n",
       "865                   25.0               1.0                 1.0   \n",
       "866                  -33.3              -1.0                -1.0   \n",
       "867                  -50.0              -1.0                 0.0   \n",
       "\n",
       "     faceoff_percent  takeaways  giveaways  hits  \n",
       "0               16.0         -2          0     8  \n",
       "1                1.8          0          0     2  \n",
       "2                8.0         -1         -4   -18  \n",
       "3                3.6         -1          4    -1  \n",
       "4                8.8          3          5     1  \n",
       "..               ...        ...        ...   ...  \n",
       "863             -5.0         -3          0    -9  \n",
       "864             -1.8          7          3     1  \n",
       "865            -14.2          0         -9   -17  \n",
       "866             15.6         -4         -2    -7  \n",
       "867             -3.2          1          3    -1  \n",
       "\n",
       "[868 rows x 14 columns]"
      ]
     },
     "execution_count": 45,
     "metadata": {},
     "output_type": "execute_result"
    }
   ],
   "source": [
    "game_difference_df"
   ]
  },
  {
   "cell_type": "code",
   "execution_count": 46,
   "metadata": {
    "ExecuteTime": {
     "end_time": "2021-06-12T00:43:41.705132Z",
     "start_time": "2021-06-12T00:43:41.690109Z"
    }
   },
   "outputs": [],
   "source": [
    "full_tilt = [-1 * x for x in full_tilt]"
   ]
  },
  {
   "cell_type": "code",
   "execution_count": 47,
   "metadata": {
    "ExecuteTime": {
     "end_time": "2021-06-12T00:43:41.720146Z",
     "start_time": "2021-06-12T00:43:41.706133Z"
    }
   },
   "outputs": [],
   "source": [
    "game_difference_df['ice_tilt'] = full_tilt"
   ]
  },
  {
   "cell_type": "code",
   "execution_count": 48,
   "metadata": {
    "ExecuteTime": {
     "end_time": "2021-06-12T00:43:41.736149Z",
     "start_time": "2021-06-12T00:43:41.721137Z"
    }
   },
   "outputs": [
    {
     "data": {
      "text/html": [
       "<div>\n",
       "<style scoped>\n",
       "    .dataframe tbody tr th:only-of-type {\n",
       "        vertical-align: middle;\n",
       "    }\n",
       "\n",
       "    .dataframe tbody tr th {\n",
       "        vertical-align: top;\n",
       "    }\n",
       "\n",
       "    .dataframe thead th {\n",
       "        text-align: right;\n",
       "    }\n",
       "</style>\n",
       "<table border=\"1\" class=\"dataframe\">\n",
       "  <thead>\n",
       "    <tr style=\"text-align: right;\">\n",
       "      <th></th>\n",
       "      <th>goal_diff</th>\n",
       "      <th>won</th>\n",
       "      <th>game_ids</th>\n",
       "      <th>goals</th>\n",
       "      <th>shots</th>\n",
       "      <th>blocked_shots</th>\n",
       "      <th>penalty_minutes</th>\n",
       "      <th>power_play_percentage</th>\n",
       "      <th>power_play_goals</th>\n",
       "      <th>power_play_chances</th>\n",
       "      <th>faceoff_percent</th>\n",
       "      <th>takeaways</th>\n",
       "      <th>giveaways</th>\n",
       "      <th>hits</th>\n",
       "      <th>ice_tilt</th>\n",
       "    </tr>\n",
       "  </thead>\n",
       "  <tbody>\n",
       "    <tr>\n",
       "      <th>0</th>\n",
       "      <td>3</td>\n",
       "      <td>yes</td>\n",
       "      <td>2020020001</td>\n",
       "      <td>3</td>\n",
       "      <td>-7</td>\n",
       "      <td>2</td>\n",
       "      <td>0</td>\n",
       "      <td>33.4</td>\n",
       "      <td>1.0</td>\n",
       "      <td>0.0</td>\n",
       "      <td>16.0</td>\n",
       "      <td>-2</td>\n",
       "      <td>0</td>\n",
       "      <td>8</td>\n",
       "      <td>-1058.0</td>\n",
       "    </tr>\n",
       "    <tr>\n",
       "      <th>1</th>\n",
       "      <td>4</td>\n",
       "      <td>yes</td>\n",
       "      <td>2020020002</td>\n",
       "      <td>4</td>\n",
       "      <td>10</td>\n",
       "      <td>5</td>\n",
       "      <td>-2</td>\n",
       "      <td>16.7</td>\n",
       "      <td>1.0</td>\n",
       "      <td>1.0</td>\n",
       "      <td>1.8</td>\n",
       "      <td>0</td>\n",
       "      <td>0</td>\n",
       "      <td>2</td>\n",
       "      <td>89.0</td>\n",
       "    </tr>\n",
       "    <tr>\n",
       "      <th>2</th>\n",
       "      <td>1</td>\n",
       "      <td>yes</td>\n",
       "      <td>2020020003</td>\n",
       "      <td>1</td>\n",
       "      <td>2</td>\n",
       "      <td>-5</td>\n",
       "      <td>-2</td>\n",
       "      <td>-16.7</td>\n",
       "      <td>0.0</td>\n",
       "      <td>1.0</td>\n",
       "      <td>8.0</td>\n",
       "      <td>-1</td>\n",
       "      <td>-4</td>\n",
       "      <td>-18</td>\n",
       "      <td>1328.0</td>\n",
       "    </tr>\n",
       "    <tr>\n",
       "      <th>3</th>\n",
       "      <td>-2</td>\n",
       "      <td>no</td>\n",
       "      <td>2020020004</td>\n",
       "      <td>-2</td>\n",
       "      <td>-4</td>\n",
       "      <td>3</td>\n",
       "      <td>-4</td>\n",
       "      <td>0.0</td>\n",
       "      <td>0.0</td>\n",
       "      <td>2.0</td>\n",
       "      <td>3.6</td>\n",
       "      <td>-1</td>\n",
       "      <td>4</td>\n",
       "      <td>-1</td>\n",
       "      <td>695.0</td>\n",
       "    </tr>\n",
       "    <tr>\n",
       "      <th>4</th>\n",
       "      <td>-3</td>\n",
       "      <td>no</td>\n",
       "      <td>2020020005</td>\n",
       "      <td>-3</td>\n",
       "      <td>-5</td>\n",
       "      <td>-8</td>\n",
       "      <td>-4</td>\n",
       "      <td>25.0</td>\n",
       "      <td>1.0</td>\n",
       "      <td>2.0</td>\n",
       "      <td>8.8</td>\n",
       "      <td>3</td>\n",
       "      <td>5</td>\n",
       "      <td>1</td>\n",
       "      <td>405.0</td>\n",
       "    </tr>\n",
       "  </tbody>\n",
       "</table>\n",
       "</div>"
      ],
      "text/plain": [
       "   goal_diff  won    game_ids  goals  shots  blocked_shots  penalty_minutes  \\\n",
       "0          3  yes  2020020001      3     -7              2                0   \n",
       "1          4  yes  2020020002      4     10              5               -2   \n",
       "2          1  yes  2020020003      1      2             -5               -2   \n",
       "3         -2   no  2020020004     -2     -4              3               -4   \n",
       "4         -3   no  2020020005     -3     -5             -8               -4   \n",
       "\n",
       "   power_play_percentage  power_play_goals  power_play_chances  \\\n",
       "0                   33.4               1.0                 0.0   \n",
       "1                   16.7               1.0                 1.0   \n",
       "2                  -16.7               0.0                 1.0   \n",
       "3                    0.0               0.0                 2.0   \n",
       "4                   25.0               1.0                 2.0   \n",
       "\n",
       "   faceoff_percent  takeaways  giveaways  hits  ice_tilt  \n",
       "0             16.0         -2          0     8   -1058.0  \n",
       "1              1.8          0          0     2      89.0  \n",
       "2              8.0         -1         -4   -18    1328.0  \n",
       "3              3.6         -1          4    -1     695.0  \n",
       "4              8.8          3          5     1     405.0  "
      ]
     },
     "execution_count": 48,
     "metadata": {},
     "output_type": "execute_result"
    }
   ],
   "source": [
    "game_difference_df.head()"
   ]
  },
  {
   "cell_type": "code",
   "execution_count": 49,
   "metadata": {
    "ExecuteTime": {
     "end_time": "2021-06-12T00:43:41.752174Z",
     "start_time": "2021-06-12T00:43:41.737150Z"
    }
   },
   "outputs": [],
   "source": [
    "#game_difference_df.to_csv('./data_frames/game_stats_differences_2020.csv', index=False)"
   ]
  },
  {
   "cell_type": "code",
   "execution_count": 50,
   "metadata": {
    "ExecuteTime": {
     "end_time": "2021-06-12T00:43:41.768188Z",
     "start_time": "2021-06-12T00:43:41.753166Z"
    }
   },
   "outputs": [
    {
     "data": {
      "text/plain": [
       "no     436\n",
       "yes    432\n",
       "Name: won, dtype: int64"
      ]
     },
     "execution_count": 50,
     "metadata": {},
     "output_type": "execute_result"
    }
   ],
   "source": [
    "game_difference_df['won'].value_counts()"
   ]
  },
  {
   "cell_type": "markdown",
   "metadata": {},
   "source": [
    "multiple model approach DFs"
   ]
  },
  {
   "cell_type": "code",
   "execution_count": 51,
   "metadata": {
    "ExecuteTime": {
     "end_time": "2021-06-12T00:43:41.798416Z",
     "start_time": "2021-06-12T00:43:41.769189Z"
    }
   },
   "outputs": [
    {
     "data": {
      "text/html": [
       "<div>\n",
       "<style scoped>\n",
       "    .dataframe tbody tr th:only-of-type {\n",
       "        vertical-align: middle;\n",
       "    }\n",
       "\n",
       "    .dataframe tbody tr th {\n",
       "        vertical-align: top;\n",
       "    }\n",
       "\n",
       "    .dataframe thead th {\n",
       "        text-align: right;\n",
       "    }\n",
       "</style>\n",
       "<table border=\"1\" class=\"dataframe\">\n",
       "  <thead>\n",
       "    <tr style=\"text-align: right;\">\n",
       "      <th></th>\n",
       "      <th>event</th>\n",
       "      <th>team</th>\n",
       "      <th>x_coordinate</th>\n",
       "      <th>y_coordinate</th>\n",
       "      <th>period</th>\n",
       "      <th>period_time</th>\n",
       "      <th>game_id</th>\n",
       "      <th>score</th>\n",
       "      <th>home_team</th>\n",
       "    </tr>\n",
       "  </thead>\n",
       "  <tbody>\n",
       "    <tr>\n",
       "      <th>0</th>\n",
       "      <td>Faceoff</td>\n",
       "      <td>Pittsburgh Penguins</td>\n",
       "      <td>0.0</td>\n",
       "      <td>0.0</td>\n",
       "      <td>1</td>\n",
       "      <td>00:00</td>\n",
       "      <td>2020020001</td>\n",
       "      <td>NaN</td>\n",
       "      <td>Philadelphia Flyers</td>\n",
       "    </tr>\n",
       "    <tr>\n",
       "      <th>1</th>\n",
       "      <td>Shot</td>\n",
       "      <td>Philadelphia Flyers</td>\n",
       "      <td>-74.0</td>\n",
       "      <td>29.0</td>\n",
       "      <td>1</td>\n",
       "      <td>00:16</td>\n",
       "      <td>2020020001</td>\n",
       "      <td>NaN</td>\n",
       "      <td>Philadelphia Flyers</td>\n",
       "    </tr>\n",
       "    <tr>\n",
       "      <th>2</th>\n",
       "      <td>Takeaway</td>\n",
       "      <td>Philadelphia Flyers</td>\n",
       "      <td>-39.0</td>\n",
       "      <td>-36.0</td>\n",
       "      <td>1</td>\n",
       "      <td>00:23</td>\n",
       "      <td>2020020001</td>\n",
       "      <td>NaN</td>\n",
       "      <td>Philadelphia Flyers</td>\n",
       "    </tr>\n",
       "    <tr>\n",
       "      <th>3</th>\n",
       "      <td>Blocked Shot</td>\n",
       "      <td>Pittsburgh Penguins</td>\n",
       "      <td>-58.0</td>\n",
       "      <td>-7.0</td>\n",
       "      <td>1</td>\n",
       "      <td>00:28</td>\n",
       "      <td>2020020001</td>\n",
       "      <td>NaN</td>\n",
       "      <td>Philadelphia Flyers</td>\n",
       "    </tr>\n",
       "    <tr>\n",
       "      <th>4</th>\n",
       "      <td>Shot</td>\n",
       "      <td>Pittsburgh Penguins</td>\n",
       "      <td>49.0</td>\n",
       "      <td>-25.0</td>\n",
       "      <td>1</td>\n",
       "      <td>00:34</td>\n",
       "      <td>2020020001</td>\n",
       "      <td>NaN</td>\n",
       "      <td>Philadelphia Flyers</td>\n",
       "    </tr>\n",
       "    <tr>\n",
       "      <th>...</th>\n",
       "      <td>...</td>\n",
       "      <td>...</td>\n",
       "      <td>...</td>\n",
       "      <td>...</td>\n",
       "      <td>...</td>\n",
       "      <td>...</td>\n",
       "      <td>...</td>\n",
       "      <td>...</td>\n",
       "      <td>...</td>\n",
       "    </tr>\n",
       "    <tr>\n",
       "      <th>264306</th>\n",
       "      <td>Goal</td>\n",
       "      <td>Arizona Coyotes</td>\n",
       "      <td>76.0</td>\n",
       "      <td>-15.0</td>\n",
       "      <td>4</td>\n",
       "      <td>02:30</td>\n",
       "      <td>2020020868</td>\n",
       "      <td>NaN</td>\n",
       "      <td>San Jose Sharks</td>\n",
       "    </tr>\n",
       "    <tr>\n",
       "      <th>264307</th>\n",
       "      <td>Period End</td>\n",
       "      <td>NaN</td>\n",
       "      <td>NaN</td>\n",
       "      <td>NaN</td>\n",
       "      <td>4</td>\n",
       "      <td>02:30</td>\n",
       "      <td>2020020868</td>\n",
       "      <td>NaN</td>\n",
       "      <td>San Jose Sharks</td>\n",
       "    </tr>\n",
       "    <tr>\n",
       "      <th>264308</th>\n",
       "      <td>Period Official</td>\n",
       "      <td>NaN</td>\n",
       "      <td>NaN</td>\n",
       "      <td>NaN</td>\n",
       "      <td>4</td>\n",
       "      <td>02:30</td>\n",
       "      <td>2020020868</td>\n",
       "      <td>NaN</td>\n",
       "      <td>San Jose Sharks</td>\n",
       "    </tr>\n",
       "    <tr>\n",
       "      <th>264309</th>\n",
       "      <td>Game End</td>\n",
       "      <td>NaN</td>\n",
       "      <td>NaN</td>\n",
       "      <td>NaN</td>\n",
       "      <td>4</td>\n",
       "      <td>02:30</td>\n",
       "      <td>2020020868</td>\n",
       "      <td>NaN</td>\n",
       "      <td>San Jose Sharks</td>\n",
       "    </tr>\n",
       "    <tr>\n",
       "      <th>264310</th>\n",
       "      <td>Game Official</td>\n",
       "      <td>NaN</td>\n",
       "      <td>NaN</td>\n",
       "      <td>NaN</td>\n",
       "      <td>4</td>\n",
       "      <td>02:30</td>\n",
       "      <td>2020020868</td>\n",
       "      <td>NaN</td>\n",
       "      <td>San Jose Sharks</td>\n",
       "    </tr>\n",
       "  </tbody>\n",
       "</table>\n",
       "<p>264311 rows × 9 columns</p>\n",
       "</div>"
      ],
      "text/plain": [
       "                  event                 team  x_coordinate  y_coordinate  \\\n",
       "0               Faceoff  Pittsburgh Penguins           0.0           0.0   \n",
       "1                  Shot  Philadelphia Flyers         -74.0          29.0   \n",
       "2              Takeaway  Philadelphia Flyers         -39.0         -36.0   \n",
       "3          Blocked Shot  Pittsburgh Penguins         -58.0          -7.0   \n",
       "4                  Shot  Pittsburgh Penguins          49.0         -25.0   \n",
       "...                 ...                  ...           ...           ...   \n",
       "264306             Goal      Arizona Coyotes          76.0         -15.0   \n",
       "264307       Period End                  NaN           NaN           NaN   \n",
       "264308  Period Official                  NaN           NaN           NaN   \n",
       "264309         Game End                  NaN           NaN           NaN   \n",
       "264310    Game Official                  NaN           NaN           NaN   \n",
       "\n",
       "        period period_time     game_id  score            home_team  \n",
       "0            1       00:00  2020020001    NaN  Philadelphia Flyers  \n",
       "1            1       00:16  2020020001    NaN  Philadelphia Flyers  \n",
       "2            1       00:23  2020020001    NaN  Philadelphia Flyers  \n",
       "3            1       00:28  2020020001    NaN  Philadelphia Flyers  \n",
       "4            1       00:34  2020020001    NaN  Philadelphia Flyers  \n",
       "...        ...         ...         ...    ...                  ...  \n",
       "264306       4       02:30  2020020868    NaN      San Jose Sharks  \n",
       "264307       4       02:30  2020020868    NaN      San Jose Sharks  \n",
       "264308       4       02:30  2020020868    NaN      San Jose Sharks  \n",
       "264309       4       02:30  2020020868    NaN      San Jose Sharks  \n",
       "264310       4       02:30  2020020868    NaN      San Jose Sharks  \n",
       "\n",
       "[264311 rows x 9 columns]"
      ]
     },
     "execution_count": 51,
     "metadata": {},
     "output_type": "execute_result"
    }
   ],
   "source": [
    "all_game_events"
   ]
  },
  {
   "cell_type": "code",
   "execution_count": 52,
   "metadata": {
    "ExecuteTime": {
     "end_time": "2021-06-12T00:43:41.814430Z",
     "start_time": "2021-06-12T00:43:41.800407Z"
    },
    "scrolled": false
   },
   "outputs": [
    {
     "name": "stdout",
     "output_type": "stream",
     "text": [
      "<class 'pandas.core.frame.DataFrame'>\n",
      "Int64Index: 289 entries, 0 to 288\n",
      "Data columns (total 9 columns):\n",
      " #   Column        Non-Null Count  Dtype  \n",
      "---  ------        --------------  -----  \n",
      " 0   event         289 non-null    object \n",
      " 1   team          244 non-null    object \n",
      " 2   x_coordinate  244 non-null    float64\n",
      " 3   y_coordinate  244 non-null    float64\n",
      " 4   period        289 non-null    int64  \n",
      " 5   period_time   289 non-null    object \n",
      " 6   game_id       289 non-null    int64  \n",
      " 7   score         0 non-null      float64\n",
      " 8   home_team     289 non-null    object \n",
      "dtypes: float64(3), int64(2), object(4)\n",
      "memory usage: 22.6+ KB\n"
     ]
    }
   ],
   "source": [
    "game_1.info()"
   ]
  },
  {
   "cell_type": "code",
   "execution_count": 53,
   "metadata": {
    "ExecuteTime": {
     "end_time": "2021-06-12T00:43:41.830444Z",
     "start_time": "2021-06-12T00:43:41.815431Z"
    }
   },
   "outputs": [
    {
     "data": {
      "text/plain": [
       "Hit                54\n",
       "Shot               52\n",
       "Faceoff            50\n",
       "Stoppage           33\n",
       "Blocked Shot       24\n",
       "Giveaway           20\n",
       "Missed Shot        15\n",
       "Takeaway           14\n",
       "Goal                9\n",
       "Penalty             6\n",
       "Period Official     3\n",
       "Period End          3\n",
       "Period Start        2\n",
       "Period Ready        2\n",
       "Game Official       1\n",
       "Game End            1\n",
       "Name: event, dtype: int64"
      ]
     },
     "execution_count": 53,
     "metadata": {},
     "output_type": "execute_result"
    }
   ],
   "source": [
    "game_1['event'].value_counts()"
   ]
  },
  {
   "cell_type": "code",
   "execution_count": 54,
   "metadata": {
    "ExecuteTime": {
     "end_time": "2021-06-12T00:43:41.846460Z",
     "start_time": "2021-06-12T00:43:41.831445Z"
    }
   },
   "outputs": [],
   "source": [
    "def time_to_int(column):\n",
    "    output_list = []\n",
    "    for i in [x for x in column]:\n",
    "        numeric_time = []\n",
    "        for digit in i:\n",
    "            if digit != \":\":\n",
    "                numeric_time.append((digit))\n",
    "            if len(numeric_time) == 4:\n",
    "                numeric_time = \"\".join(numeric_time)\n",
    "                int(numeric_time)\n",
    "        output_list.append(numeric_time)\n",
    "    return output_list\n",
    "        "
   ]
  },
  {
   "cell_type": "code",
   "execution_count": 55,
   "metadata": {
    "ExecuteTime": {
     "end_time": "2021-06-12T00:43:41.862472Z",
     "start_time": "2021-06-12T00:43:41.848450Z"
    }
   },
   "outputs": [
    {
     "data": {
      "text/plain": [
       "['0000',\n",
       " '0016',\n",
       " '0023',\n",
       " '0028',\n",
       " '0034',\n",
       " '0051',\n",
       " '0103',\n",
       " '0105',\n",
       " '0105',\n",
       " '0105',\n",
       " '0114',\n",
       " '0117',\n",
       " '0117',\n",
       " '0129',\n",
       " '0131',\n",
       " '0141',\n",
       " '0150',\n",
       " '0209',\n",
       " '0209',\n",
       " '0251',\n",
       " '0251',\n",
       " '0251',\n",
       " '0329',\n",
       " '0343',\n",
       " '0344',\n",
       " '0346',\n",
       " '0405',\n",
       " '0430',\n",
       " '0430',\n",
       " '0439',\n",
       " '0454',\n",
       " '0512',\n",
       " '0512',\n",
       " '0512',\n",
       " '0532',\n",
       " '0544',\n",
       " '0544',\n",
       " '0601',\n",
       " '0615',\n",
       " '0615',\n",
       " '0638',\n",
       " '0717',\n",
       " '0720',\n",
       " '0720',\n",
       " '0720',\n",
       " '0811',\n",
       " '0815',\n",
       " '0825',\n",
       " '0903',\n",
       " '0908',\n",
       " '0913',\n",
       " '0913',\n",
       " '0934',\n",
       " '1000',\n",
       " '1033',\n",
       " '1121',\n",
       " '1121',\n",
       " '1135',\n",
       " '1139',\n",
       " '1145',\n",
       " '1147',\n",
       " '1223',\n",
       " '1237',\n",
       " '1240',\n",
       " '1309',\n",
       " '1333',\n",
       " '1346',\n",
       " '1347',\n",
       " '1347',\n",
       " '1354',\n",
       " '1411',\n",
       " '1416',\n",
       " '1443',\n",
       " '1511',\n",
       " '1511',\n",
       " '1542',\n",
       " '1542',\n",
       " '1542',\n",
       " '1547',\n",
       " '1559',\n",
       " '1606',\n",
       " '1627',\n",
       " '1633',\n",
       " '1658',\n",
       " '1702',\n",
       " '1719',\n",
       " '1719',\n",
       " '1719',\n",
       " '1807',\n",
       " '1820',\n",
       " '1824',\n",
       " '1830',\n",
       " '1847',\n",
       " '1847',\n",
       " '1847',\n",
       " '1919',\n",
       " '1944',\n",
       " '1944',\n",
       " '1952',\n",
       " '1952',\n",
       " '1958',\n",
       " '1958',\n",
       " '2000',\n",
       " '2000',\n",
       " '0000',\n",
       " '0000',\n",
       " '0000',\n",
       " '0023',\n",
       " '0023',\n",
       " '0039',\n",
       " '0052',\n",
       " '0052',\n",
       " '0108',\n",
       " '0111',\n",
       " '0111',\n",
       " '0117',\n",
       " '0151',\n",
       " '0152',\n",
       " '0152',\n",
       " '0207',\n",
       " '0338',\n",
       " '0339',\n",
       " '0339',\n",
       " '0345',\n",
       " '0444',\n",
       " '0448',\n",
       " '0453',\n",
       " '0501',\n",
       " '0554',\n",
       " '0556',\n",
       " '0604',\n",
       " '0606',\n",
       " '0639',\n",
       " '0704',\n",
       " '0704',\n",
       " '0723',\n",
       " '0723',\n",
       " '0746',\n",
       " '0753',\n",
       " '0838',\n",
       " '0846',\n",
       " '0906',\n",
       " '0911',\n",
       " '0924',\n",
       " '0926',\n",
       " '0926',\n",
       " '0926',\n",
       " '0944',\n",
       " '1004',\n",
       " '1012',\n",
       " '1111',\n",
       " '1156',\n",
       " '1305',\n",
       " '1307',\n",
       " '1311',\n",
       " '1349',\n",
       " '1419',\n",
       " '1427',\n",
       " '1427',\n",
       " '1427',\n",
       " '1446',\n",
       " '1446',\n",
       " '1446',\n",
       " '1458',\n",
       " '1458',\n",
       " '1509',\n",
       " '1515',\n",
       " '1515',\n",
       " '1515',\n",
       " '1526',\n",
       " '1533',\n",
       " '1535',\n",
       " '1619',\n",
       " '1646',\n",
       " '1657',\n",
       " '1715',\n",
       " '1723',\n",
       " '1839',\n",
       " '1839',\n",
       " '1850',\n",
       " '1854',\n",
       " '1854',\n",
       " '1908',\n",
       " '1927',\n",
       " '1951',\n",
       " '1956',\n",
       " '2000',\n",
       " '2000',\n",
       " '0000',\n",
       " '0000',\n",
       " '0000',\n",
       " '0030',\n",
       " '0039',\n",
       " '0039',\n",
       " '0044',\n",
       " '0105',\n",
       " '0144',\n",
       " '0149',\n",
       " '0208',\n",
       " '0226',\n",
       " '0226',\n",
       " '0226',\n",
       " '0251',\n",
       " '0301',\n",
       " '0301',\n",
       " '0332',\n",
       " '0400',\n",
       " '0418',\n",
       " '0418',\n",
       " '0418',\n",
       " '0431',\n",
       " '0443',\n",
       " '0453',\n",
       " '0502',\n",
       " '0513',\n",
       " '0516',\n",
       " '0525',\n",
       " '0525',\n",
       " '0525',\n",
       " '0537',\n",
       " '0537',\n",
       " '0550',\n",
       " '0551',\n",
       " '0551',\n",
       " '0605',\n",
       " '0616',\n",
       " '0616',\n",
       " '0625',\n",
       " '0643',\n",
       " '0700',\n",
       " '0712',\n",
       " '0718',\n",
       " '0755',\n",
       " '0802',\n",
       " '0828',\n",
       " '0917',\n",
       " '0935',\n",
       " '1020',\n",
       " '1110',\n",
       " '1110',\n",
       " '1119',\n",
       " '1141',\n",
       " '1213',\n",
       " '1214',\n",
       " '1214',\n",
       " '1233',\n",
       " '1234',\n",
       " '1234',\n",
       " '1249',\n",
       " '1304',\n",
       " '1304',\n",
       " '1311',\n",
       " '1323',\n",
       " '1403',\n",
       " '1427',\n",
       " '1433',\n",
       " '1436',\n",
       " '1444',\n",
       " '1506',\n",
       " '1518',\n",
       " '1523',\n",
       " '1531',\n",
       " '1554',\n",
       " '1558',\n",
       " '1558',\n",
       " '1646',\n",
       " '1717',\n",
       " '1717',\n",
       " '1725',\n",
       " '1737',\n",
       " '1745',\n",
       " '1749',\n",
       " '1749',\n",
       " '1749',\n",
       " '1811',\n",
       " '1820',\n",
       " '1835',\n",
       " '1845',\n",
       " '1856',\n",
       " '1859',\n",
       " '1907',\n",
       " '1910',\n",
       " '1930',\n",
       " '1935',\n",
       " '1940',\n",
       " '2000',\n",
       " '2000',\n",
       " '2000',\n",
       " '2000']"
      ]
     },
     "execution_count": 55,
     "metadata": {},
     "output_type": "execute_result"
    }
   ],
   "source": [
    "time_to_int(game_1['period_time'])"
   ]
  },
  {
   "cell_type": "code",
   "execution_count": 56,
   "metadata": {
    "ExecuteTime": {
     "end_time": "2021-06-12T00:43:41.878502Z",
     "start_time": "2021-06-12T00:43:41.864464Z"
    }
   },
   "outputs": [],
   "source": [
    "game_1['period_time_int'] = [int(x) for x in time_to_int(game_1['period_time'])]"
   ]
  },
  {
   "cell_type": "code",
   "execution_count": 57,
   "metadata": {
    "ExecuteTime": {
     "end_time": "2021-06-12T00:43:41.894516Z",
     "start_time": "2021-06-12T00:43:41.880493Z"
    }
   },
   "outputs": [],
   "source": [
    "def period_time_to_full_time(df):\n",
    "    first_period = df[df['period'] == 1]\n",
    "    second_period = df[df['period'] == 2]\n",
    "    third_period = df[df['period'] == 3]\n",
    "    second_period['period_time_int'] = second_period['period_time_int'] + 2000\n",
    "    third_period['period_time_int'] = third_period['period_time_int'] + 4000\n",
    "    output_df = pd.concat([first_period,second_period], axis=0, ignore_index=True)\n",
    "    output_df = pd.concat([output_df,third_period], axis=0, ignore_index=True)\n",
    "    return output_df\n",
    "    "
   ]
  },
  {
   "cell_type": "code",
   "execution_count": 74,
   "metadata": {
    "ExecuteTime": {
     "end_time": "2021-06-12T00:45:54.164513Z",
     "start_time": "2021-06-12T00:45:54.139493Z"
    }
   },
   "outputs": [],
   "source": [
    "game_1 = period_time_to_full_time(game_1)"
   ]
  },
  {
   "cell_type": "code",
   "execution_count": 75,
   "metadata": {
    "ExecuteTime": {
     "end_time": "2021-06-12T00:45:55.233721Z",
     "start_time": "2021-06-12T00:45:55.214481Z"
    },
    "scrolled": true
   },
   "outputs": [
    {
     "data": {
      "text/plain": [
       "0         0\n",
       "1        16\n",
       "2        23\n",
       "3        28\n",
       "4        34\n",
       "       ... \n",
       "284    5940\n",
       "285    6000\n",
       "286    6000\n",
       "287    6000\n",
       "288    6000\n",
       "Name: period_time_int, Length: 289, dtype: int64"
      ]
     },
     "execution_count": 75,
     "metadata": {},
     "output_type": "execute_result"
    }
   ],
   "source": [
    "game_1['period_time_int']"
   ]
  },
  {
   "cell_type": "code",
   "execution_count": 76,
   "metadata": {
    "ExecuteTime": {
     "end_time": "2021-06-12T00:45:58.849124Z",
     "start_time": "2021-06-12T00:45:58.844130Z"
    }
   },
   "outputs": [],
   "source": [
    "game_1_first_2 = game_1[(game_1['period_time_int'] < 200) & (game_1['period'] == 1)]"
   ]
  },
  {
   "cell_type": "code",
   "execution_count": 77,
   "metadata": {
    "ExecuteTime": {
     "end_time": "2021-06-12T00:45:59.237661Z",
     "start_time": "2021-06-12T00:45:59.223637Z"
    }
   },
   "outputs": [],
   "source": [
    "game_1_first_2_home = game_1_first_2[game_1_first_2['team'] == game_1_first_2['home_team']]"
   ]
  },
  {
   "cell_type": "code",
   "execution_count": 78,
   "metadata": {
    "ExecuteTime": {
     "end_time": "2021-06-12T00:45:59.810646Z",
     "start_time": "2021-06-12T00:45:59.789120Z"
    },
    "scrolled": true
   },
   "outputs": [
    {
     "data": {
      "text/html": [
       "<div>\n",
       "<style scoped>\n",
       "    .dataframe tbody tr th:only-of-type {\n",
       "        vertical-align: middle;\n",
       "    }\n",
       "\n",
       "    .dataframe tbody tr th {\n",
       "        vertical-align: top;\n",
       "    }\n",
       "\n",
       "    .dataframe thead th {\n",
       "        text-align: right;\n",
       "    }\n",
       "</style>\n",
       "<table border=\"1\" class=\"dataframe\">\n",
       "  <thead>\n",
       "    <tr style=\"text-align: right;\">\n",
       "      <th></th>\n",
       "      <th>event</th>\n",
       "      <th>team</th>\n",
       "      <th>x_coordinate</th>\n",
       "      <th>y_coordinate</th>\n",
       "      <th>period</th>\n",
       "      <th>period_time</th>\n",
       "      <th>game_id</th>\n",
       "      <th>score</th>\n",
       "      <th>home_team</th>\n",
       "      <th>period_time_int</th>\n",
       "    </tr>\n",
       "  </thead>\n",
       "  <tbody>\n",
       "    <tr>\n",
       "      <th>1</th>\n",
       "      <td>Shot</td>\n",
       "      <td>Philadelphia Flyers</td>\n",
       "      <td>-74.0</td>\n",
       "      <td>29.0</td>\n",
       "      <td>1</td>\n",
       "      <td>00:16</td>\n",
       "      <td>2020020001</td>\n",
       "      <td>NaN</td>\n",
       "      <td>Philadelphia Flyers</td>\n",
       "      <td>16</td>\n",
       "    </tr>\n",
       "    <tr>\n",
       "      <th>2</th>\n",
       "      <td>Takeaway</td>\n",
       "      <td>Philadelphia Flyers</td>\n",
       "      <td>-39.0</td>\n",
       "      <td>-36.0</td>\n",
       "      <td>1</td>\n",
       "      <td>00:23</td>\n",
       "      <td>2020020001</td>\n",
       "      <td>NaN</td>\n",
       "      <td>Philadelphia Flyers</td>\n",
       "      <td>23</td>\n",
       "    </tr>\n",
       "    <tr>\n",
       "      <th>5</th>\n",
       "      <td>Hit</td>\n",
       "      <td>Philadelphia Flyers</td>\n",
       "      <td>-96.0</td>\n",
       "      <td>-24.0</td>\n",
       "      <td>1</td>\n",
       "      <td>00:51</td>\n",
       "      <td>2020020001</td>\n",
       "      <td>NaN</td>\n",
       "      <td>Philadelphia Flyers</td>\n",
       "      <td>51</td>\n",
       "    </tr>\n",
       "    <tr>\n",
       "      <th>6</th>\n",
       "      <td>Hit</td>\n",
       "      <td>Philadelphia Flyers</td>\n",
       "      <td>-87.0</td>\n",
       "      <td>-33.0</td>\n",
       "      <td>1</td>\n",
       "      <td>01:03</td>\n",
       "      <td>2020020001</td>\n",
       "      <td>NaN</td>\n",
       "      <td>Philadelphia Flyers</td>\n",
       "      <td>103</td>\n",
       "    </tr>\n",
       "    <tr>\n",
       "      <th>7</th>\n",
       "      <td>Shot</td>\n",
       "      <td>Philadelphia Flyers</td>\n",
       "      <td>-52.0</td>\n",
       "      <td>-31.0</td>\n",
       "      <td>1</td>\n",
       "      <td>01:05</td>\n",
       "      <td>2020020001</td>\n",
       "      <td>NaN</td>\n",
       "      <td>Philadelphia Flyers</td>\n",
       "      <td>105</td>\n",
       "    </tr>\n",
       "    <tr>\n",
       "      <th>9</th>\n",
       "      <td>Faceoff</td>\n",
       "      <td>Philadelphia Flyers</td>\n",
       "      <td>-69.0</td>\n",
       "      <td>-22.0</td>\n",
       "      <td>1</td>\n",
       "      <td>01:05</td>\n",
       "      <td>2020020001</td>\n",
       "      <td>NaN</td>\n",
       "      <td>Philadelphia Flyers</td>\n",
       "      <td>105</td>\n",
       "    </tr>\n",
       "    <tr>\n",
       "      <th>10</th>\n",
       "      <td>Hit</td>\n",
       "      <td>Philadelphia Flyers</td>\n",
       "      <td>-75.0</td>\n",
       "      <td>-30.0</td>\n",
       "      <td>1</td>\n",
       "      <td>01:14</td>\n",
       "      <td>2020020001</td>\n",
       "      <td>NaN</td>\n",
       "      <td>Philadelphia Flyers</td>\n",
       "      <td>114</td>\n",
       "    </tr>\n",
       "    <tr>\n",
       "      <th>12</th>\n",
       "      <td>Faceoff</td>\n",
       "      <td>Philadelphia Flyers</td>\n",
       "      <td>-69.0</td>\n",
       "      <td>22.0</td>\n",
       "      <td>1</td>\n",
       "      <td>01:17</td>\n",
       "      <td>2020020001</td>\n",
       "      <td>NaN</td>\n",
       "      <td>Philadelphia Flyers</td>\n",
       "      <td>117</td>\n",
       "    </tr>\n",
       "    <tr>\n",
       "      <th>13</th>\n",
       "      <td>Blocked Shot</td>\n",
       "      <td>Philadelphia Flyers</td>\n",
       "      <td>54.0</td>\n",
       "      <td>-16.0</td>\n",
       "      <td>1</td>\n",
       "      <td>01:29</td>\n",
       "      <td>2020020001</td>\n",
       "      <td>NaN</td>\n",
       "      <td>Philadelphia Flyers</td>\n",
       "      <td>129</td>\n",
       "    </tr>\n",
       "    <tr>\n",
       "      <th>14</th>\n",
       "      <td>Hit</td>\n",
       "      <td>Philadelphia Flyers</td>\n",
       "      <td>93.0</td>\n",
       "      <td>-23.0</td>\n",
       "      <td>1</td>\n",
       "      <td>01:31</td>\n",
       "      <td>2020020001</td>\n",
       "      <td>NaN</td>\n",
       "      <td>Philadelphia Flyers</td>\n",
       "      <td>131</td>\n",
       "    </tr>\n",
       "    <tr>\n",
       "      <th>15</th>\n",
       "      <td>Blocked Shot</td>\n",
       "      <td>Philadelphia Flyers</td>\n",
       "      <td>49.0</td>\n",
       "      <td>-25.0</td>\n",
       "      <td>1</td>\n",
       "      <td>01:41</td>\n",
       "      <td>2020020001</td>\n",
       "      <td>NaN</td>\n",
       "      <td>Philadelphia Flyers</td>\n",
       "      <td>141</td>\n",
       "    </tr>\n",
       "  </tbody>\n",
       "</table>\n",
       "</div>"
      ],
      "text/plain": [
       "           event                 team  x_coordinate  y_coordinate  period  \\\n",
       "1           Shot  Philadelphia Flyers         -74.0          29.0       1   \n",
       "2       Takeaway  Philadelphia Flyers         -39.0         -36.0       1   \n",
       "5            Hit  Philadelphia Flyers         -96.0         -24.0       1   \n",
       "6            Hit  Philadelphia Flyers         -87.0         -33.0       1   \n",
       "7           Shot  Philadelphia Flyers         -52.0         -31.0       1   \n",
       "9        Faceoff  Philadelphia Flyers         -69.0         -22.0       1   \n",
       "10           Hit  Philadelphia Flyers         -75.0         -30.0       1   \n",
       "12       Faceoff  Philadelphia Flyers         -69.0          22.0       1   \n",
       "13  Blocked Shot  Philadelphia Flyers          54.0         -16.0       1   \n",
       "14           Hit  Philadelphia Flyers          93.0         -23.0       1   \n",
       "15  Blocked Shot  Philadelphia Flyers          49.0         -25.0       1   \n",
       "\n",
       "   period_time     game_id  score            home_team  period_time_int  \n",
       "1        00:16  2020020001    NaN  Philadelphia Flyers               16  \n",
       "2        00:23  2020020001    NaN  Philadelphia Flyers               23  \n",
       "5        00:51  2020020001    NaN  Philadelphia Flyers               51  \n",
       "6        01:03  2020020001    NaN  Philadelphia Flyers              103  \n",
       "7        01:05  2020020001    NaN  Philadelphia Flyers              105  \n",
       "9        01:05  2020020001    NaN  Philadelphia Flyers              105  \n",
       "10       01:14  2020020001    NaN  Philadelphia Flyers              114  \n",
       "12       01:17  2020020001    NaN  Philadelphia Flyers              117  \n",
       "13       01:29  2020020001    NaN  Philadelphia Flyers              129  \n",
       "14       01:31  2020020001    NaN  Philadelphia Flyers              131  \n",
       "15       01:41  2020020001    NaN  Philadelphia Flyers              141  "
      ]
     },
     "execution_count": 78,
     "metadata": {},
     "output_type": "execute_result"
    }
   ],
   "source": [
    "game_1_first_2_home"
   ]
  },
  {
   "cell_type": "code",
   "execution_count": 79,
   "metadata": {
    "ExecuteTime": {
     "end_time": "2021-06-12T00:46:00.242804Z",
     "start_time": "2021-06-12T00:46:00.216781Z"
    }
   },
   "outputs": [
    {
     "data": {
      "text/html": [
       "<div>\n",
       "<style scoped>\n",
       "    .dataframe tbody tr th:only-of-type {\n",
       "        vertical-align: middle;\n",
       "    }\n",
       "\n",
       "    .dataframe tbody tr th {\n",
       "        vertical-align: top;\n",
       "    }\n",
       "\n",
       "    .dataframe thead th {\n",
       "        text-align: right;\n",
       "    }\n",
       "</style>\n",
       "<table border=\"1\" class=\"dataframe\">\n",
       "  <thead>\n",
       "    <tr style=\"text-align: right;\">\n",
       "      <th></th>\n",
       "      <th>event</th>\n",
       "      <th>team</th>\n",
       "      <th>x_coordinate</th>\n",
       "      <th>y_coordinate</th>\n",
       "      <th>period</th>\n",
       "      <th>period_time</th>\n",
       "      <th>game_id</th>\n",
       "      <th>score</th>\n",
       "      <th>home_team</th>\n",
       "      <th>period_time_int</th>\n",
       "    </tr>\n",
       "  </thead>\n",
       "  <tbody>\n",
       "    <tr>\n",
       "      <th>1</th>\n",
       "      <td>Shot</td>\n",
       "      <td>Philadelphia Flyers</td>\n",
       "      <td>-74.0</td>\n",
       "      <td>29.0</td>\n",
       "      <td>1</td>\n",
       "      <td>00:16</td>\n",
       "      <td>2020020001</td>\n",
       "      <td>NaN</td>\n",
       "      <td>Philadelphia Flyers</td>\n",
       "      <td>16</td>\n",
       "    </tr>\n",
       "    <tr>\n",
       "      <th>2</th>\n",
       "      <td>Takeaway</td>\n",
       "      <td>Philadelphia Flyers</td>\n",
       "      <td>-39.0</td>\n",
       "      <td>-36.0</td>\n",
       "      <td>1</td>\n",
       "      <td>00:23</td>\n",
       "      <td>2020020001</td>\n",
       "      <td>NaN</td>\n",
       "      <td>Philadelphia Flyers</td>\n",
       "      <td>23</td>\n",
       "    </tr>\n",
       "    <tr>\n",
       "      <th>5</th>\n",
       "      <td>Hit</td>\n",
       "      <td>Philadelphia Flyers</td>\n",
       "      <td>-96.0</td>\n",
       "      <td>-24.0</td>\n",
       "      <td>1</td>\n",
       "      <td>00:51</td>\n",
       "      <td>2020020001</td>\n",
       "      <td>NaN</td>\n",
       "      <td>Philadelphia Flyers</td>\n",
       "      <td>51</td>\n",
       "    </tr>\n",
       "    <tr>\n",
       "      <th>6</th>\n",
       "      <td>Hit</td>\n",
       "      <td>Philadelphia Flyers</td>\n",
       "      <td>-87.0</td>\n",
       "      <td>-33.0</td>\n",
       "      <td>1</td>\n",
       "      <td>01:03</td>\n",
       "      <td>2020020001</td>\n",
       "      <td>NaN</td>\n",
       "      <td>Philadelphia Flyers</td>\n",
       "      <td>103</td>\n",
       "    </tr>\n",
       "    <tr>\n",
       "      <th>7</th>\n",
       "      <td>Shot</td>\n",
       "      <td>Philadelphia Flyers</td>\n",
       "      <td>-52.0</td>\n",
       "      <td>-31.0</td>\n",
       "      <td>1</td>\n",
       "      <td>01:05</td>\n",
       "      <td>2020020001</td>\n",
       "      <td>NaN</td>\n",
       "      <td>Philadelphia Flyers</td>\n",
       "      <td>105</td>\n",
       "    </tr>\n",
       "    <tr>\n",
       "      <th>9</th>\n",
       "      <td>Faceoff</td>\n",
       "      <td>Philadelphia Flyers</td>\n",
       "      <td>-69.0</td>\n",
       "      <td>-22.0</td>\n",
       "      <td>1</td>\n",
       "      <td>01:05</td>\n",
       "      <td>2020020001</td>\n",
       "      <td>NaN</td>\n",
       "      <td>Philadelphia Flyers</td>\n",
       "      <td>105</td>\n",
       "    </tr>\n",
       "    <tr>\n",
       "      <th>10</th>\n",
       "      <td>Hit</td>\n",
       "      <td>Philadelphia Flyers</td>\n",
       "      <td>-75.0</td>\n",
       "      <td>-30.0</td>\n",
       "      <td>1</td>\n",
       "      <td>01:14</td>\n",
       "      <td>2020020001</td>\n",
       "      <td>NaN</td>\n",
       "      <td>Philadelphia Flyers</td>\n",
       "      <td>114</td>\n",
       "    </tr>\n",
       "    <tr>\n",
       "      <th>12</th>\n",
       "      <td>Faceoff</td>\n",
       "      <td>Philadelphia Flyers</td>\n",
       "      <td>-69.0</td>\n",
       "      <td>22.0</td>\n",
       "      <td>1</td>\n",
       "      <td>01:17</td>\n",
       "      <td>2020020001</td>\n",
       "      <td>NaN</td>\n",
       "      <td>Philadelphia Flyers</td>\n",
       "      <td>117</td>\n",
       "    </tr>\n",
       "    <tr>\n",
       "      <th>13</th>\n",
       "      <td>Blocked Shot</td>\n",
       "      <td>Philadelphia Flyers</td>\n",
       "      <td>54.0</td>\n",
       "      <td>-16.0</td>\n",
       "      <td>1</td>\n",
       "      <td>01:29</td>\n",
       "      <td>2020020001</td>\n",
       "      <td>NaN</td>\n",
       "      <td>Philadelphia Flyers</td>\n",
       "      <td>129</td>\n",
       "    </tr>\n",
       "    <tr>\n",
       "      <th>14</th>\n",
       "      <td>Hit</td>\n",
       "      <td>Philadelphia Flyers</td>\n",
       "      <td>93.0</td>\n",
       "      <td>-23.0</td>\n",
       "      <td>1</td>\n",
       "      <td>01:31</td>\n",
       "      <td>2020020001</td>\n",
       "      <td>NaN</td>\n",
       "      <td>Philadelphia Flyers</td>\n",
       "      <td>131</td>\n",
       "    </tr>\n",
       "    <tr>\n",
       "      <th>15</th>\n",
       "      <td>Blocked Shot</td>\n",
       "      <td>Philadelphia Flyers</td>\n",
       "      <td>49.0</td>\n",
       "      <td>-25.0</td>\n",
       "      <td>1</td>\n",
       "      <td>01:41</td>\n",
       "      <td>2020020001</td>\n",
       "      <td>NaN</td>\n",
       "      <td>Philadelphia Flyers</td>\n",
       "      <td>141</td>\n",
       "    </tr>\n",
       "  </tbody>\n",
       "</table>\n",
       "</div>"
      ],
      "text/plain": [
       "           event                 team  x_coordinate  y_coordinate  period  \\\n",
       "1           Shot  Philadelphia Flyers         -74.0          29.0       1   \n",
       "2       Takeaway  Philadelphia Flyers         -39.0         -36.0       1   \n",
       "5            Hit  Philadelphia Flyers         -96.0         -24.0       1   \n",
       "6            Hit  Philadelphia Flyers         -87.0         -33.0       1   \n",
       "7           Shot  Philadelphia Flyers         -52.0         -31.0       1   \n",
       "9        Faceoff  Philadelphia Flyers         -69.0         -22.0       1   \n",
       "10           Hit  Philadelphia Flyers         -75.0         -30.0       1   \n",
       "12       Faceoff  Philadelphia Flyers         -69.0          22.0       1   \n",
       "13  Blocked Shot  Philadelphia Flyers          54.0         -16.0       1   \n",
       "14           Hit  Philadelphia Flyers          93.0         -23.0       1   \n",
       "15  Blocked Shot  Philadelphia Flyers          49.0         -25.0       1   \n",
       "\n",
       "   period_time     game_id  score            home_team  period_time_int  \n",
       "1        00:16  2020020001    NaN  Philadelphia Flyers               16  \n",
       "2        00:23  2020020001    NaN  Philadelphia Flyers               23  \n",
       "5        00:51  2020020001    NaN  Philadelphia Flyers               51  \n",
       "6        01:03  2020020001    NaN  Philadelphia Flyers              103  \n",
       "7        01:05  2020020001    NaN  Philadelphia Flyers              105  \n",
       "9        01:05  2020020001    NaN  Philadelphia Flyers              105  \n",
       "10       01:14  2020020001    NaN  Philadelphia Flyers              114  \n",
       "12       01:17  2020020001    NaN  Philadelphia Flyers              117  \n",
       "13       01:29  2020020001    NaN  Philadelphia Flyers              129  \n",
       "14       01:31  2020020001    NaN  Philadelphia Flyers              131  \n",
       "15       01:41  2020020001    NaN  Philadelphia Flyers              141  "
      ]
     },
     "execution_count": 79,
     "metadata": {},
     "output_type": "execute_result"
    }
   ],
   "source": [
    "game_1_first_2_home"
   ]
  },
  {
   "cell_type": "code",
   "execution_count": 80,
   "metadata": {
    "ExecuteTime": {
     "end_time": "2021-06-12T00:46:00.677931Z",
     "start_time": "2021-06-12T00:46:00.666771Z"
    }
   },
   "outputs": [
    {
     "data": {
      "text/plain": [
       "{'Blocked Shot': 2, 'Faceoff': 2, 'Hit': 4, 'Shot': 2, 'Takeaway': 1}"
      ]
     },
     "execution_count": 80,
     "metadata": {},
     "output_type": "execute_result"
    }
   ],
   "source": [
    "game_1_first_2_home.groupby('event').count()['team'].to_dict()"
   ]
  },
  {
   "cell_type": "code",
   "execution_count": 81,
   "metadata": {
    "ExecuteTime": {
     "end_time": "2021-06-12T00:46:01.205333Z",
     "start_time": "2021-06-12T00:46:01.199327Z"
    }
   },
   "outputs": [
    {
     "data": {
      "text/plain": [
       "-365.0"
      ]
     },
     "execution_count": 81,
     "metadata": {},
     "output_type": "execute_result"
    }
   ],
   "source": [
    "game_1_first_2_home.groupby('event')['x_coordinate'].sum().sum()"
   ]
  },
  {
   "cell_type": "code",
   "execution_count": 82,
   "metadata": {
    "ExecuteTime": {
     "end_time": "2021-06-12T00:46:01.640252Z",
     "start_time": "2021-06-12T00:46:01.617221Z"
    },
    "scrolled": true
   },
   "outputs": [
    {
     "data": {
      "text/html": [
       "<div>\n",
       "<style scoped>\n",
       "    .dataframe tbody tr th:only-of-type {\n",
       "        vertical-align: middle;\n",
       "    }\n",
       "\n",
       "    .dataframe tbody tr th {\n",
       "        vertical-align: top;\n",
       "    }\n",
       "\n",
       "    .dataframe thead th {\n",
       "        text-align: right;\n",
       "    }\n",
       "</style>\n",
       "<table border=\"1\" class=\"dataframe\">\n",
       "  <thead>\n",
       "    <tr style=\"text-align: right;\">\n",
       "      <th></th>\n",
       "      <th>x_coordinate</th>\n",
       "      <th>y_coordinate</th>\n",
       "      <th>period</th>\n",
       "      <th>game_id</th>\n",
       "      <th>score</th>\n",
       "      <th>period_time_int</th>\n",
       "    </tr>\n",
       "    <tr>\n",
       "      <th>event</th>\n",
       "      <th></th>\n",
       "      <th></th>\n",
       "      <th></th>\n",
       "      <th></th>\n",
       "      <th></th>\n",
       "      <th></th>\n",
       "    </tr>\n",
       "  </thead>\n",
       "  <tbody>\n",
       "    <tr>\n",
       "      <th>Blocked Shot</th>\n",
       "      <td>45.0</td>\n",
       "      <td>-48.0</td>\n",
       "      <td>3</td>\n",
       "      <td>6060060003</td>\n",
       "      <td>0.0</td>\n",
       "      <td>298</td>\n",
       "    </tr>\n",
       "    <tr>\n",
       "      <th>Faceoff</th>\n",
       "      <td>-138.0</td>\n",
       "      <td>0.0</td>\n",
       "      <td>3</td>\n",
       "      <td>6060060003</td>\n",
       "      <td>0.0</td>\n",
       "      <td>222</td>\n",
       "    </tr>\n",
       "    <tr>\n",
       "      <th>Hit</th>\n",
       "      <td>-78.0</td>\n",
       "      <td>-78.0</td>\n",
       "      <td>5</td>\n",
       "      <td>10100100005</td>\n",
       "      <td>0.0</td>\n",
       "      <td>549</td>\n",
       "    </tr>\n",
       "    <tr>\n",
       "      <th>Shot</th>\n",
       "      <td>-77.0</td>\n",
       "      <td>-27.0</td>\n",
       "      <td>3</td>\n",
       "      <td>6060060003</td>\n",
       "      <td>0.0</td>\n",
       "      <td>155</td>\n",
       "    </tr>\n",
       "    <tr>\n",
       "      <th>Stoppage</th>\n",
       "      <td>0.0</td>\n",
       "      <td>0.0</td>\n",
       "      <td>2</td>\n",
       "      <td>4040040002</td>\n",
       "      <td>0.0</td>\n",
       "      <td>222</td>\n",
       "    </tr>\n",
       "    <tr>\n",
       "      <th>Takeaway</th>\n",
       "      <td>-39.0</td>\n",
       "      <td>-36.0</td>\n",
       "      <td>1</td>\n",
       "      <td>2020020001</td>\n",
       "      <td>0.0</td>\n",
       "      <td>23</td>\n",
       "    </tr>\n",
       "  </tbody>\n",
       "</table>\n",
       "</div>"
      ],
      "text/plain": [
       "              x_coordinate  y_coordinate  period      game_id  score  \\\n",
       "event                                                                  \n",
       "Blocked Shot          45.0         -48.0       3   6060060003    0.0   \n",
       "Faceoff             -138.0           0.0       3   6060060003    0.0   \n",
       "Hit                  -78.0         -78.0       5  10100100005    0.0   \n",
       "Shot                 -77.0         -27.0       3   6060060003    0.0   \n",
       "Stoppage               0.0           0.0       2   4040040002    0.0   \n",
       "Takeaway             -39.0         -36.0       1   2020020001    0.0   \n",
       "\n",
       "              period_time_int  \n",
       "event                          \n",
       "Blocked Shot              298  \n",
       "Faceoff                   222  \n",
       "Hit                       549  \n",
       "Shot                      155  \n",
       "Stoppage                  222  \n",
       "Takeaway                   23  "
      ]
     },
     "execution_count": 82,
     "metadata": {},
     "output_type": "execute_result"
    }
   ],
   "source": [
    "game_1_first_2.groupby('event').sum()"
   ]
  },
  {
   "cell_type": "code",
   "execution_count": null,
   "metadata": {},
   "outputs": [],
   "source": []
  },
  {
   "cell_type": "code",
   "execution_count": 86,
   "metadata": {
    "ExecuteTime": {
     "end_time": "2021-06-12T00:46:15.304776Z",
     "start_time": "2021-06-12T00:46:15.297780Z"
    }
   },
   "outputs": [],
   "source": [
    "def minutes_into_game_df(df, minute_interval = 200):\n",
    "            events = df[df['period_time_int'] <= minute_interval]\n",
    "            events_home = events[events['team'] == events['home_team']]\n",
    "            events_home_dict = events_home.groupby('event').count()['team'].to_dict()\n",
    "            ice_tilt_minutes = events_home.groupby('event')['x_coordinate'].sum().sum()\n",
    "            base_dic_home = {\n",
    "            'Goals':0, 'Shots':0, 'Blocked Shots': 0,\n",
    "            'Faceoff':0 , 'takeaways':0, 'giveaways': 0,\n",
    "            'hits': 0, 'Missed Shot':0, 'Penalty': 0, 'Stoppage':0\n",
    "            }\n",
    "            base_dic_home.update(events_home_dict)\n",
    "            print(events_home_dict)\n",
    "            return base_dic_home\n",
    "        "
   ]
  },
  {
   "cell_type": "code",
   "execution_count": 88,
   "metadata": {
    "ExecuteTime": {
     "end_time": "2021-06-12T00:46:17.882141Z",
     "start_time": "2021-06-12T00:46:17.872855Z"
    }
   },
   "outputs": [
    {
     "name": "stdout",
     "output_type": "stream",
     "text": [
      "{'Blocked Shot': 2, 'Faceoff': 2, 'Hit': 4, 'Shot': 2, 'Takeaway': 1}\n"
     ]
    },
    {
     "data": {
      "text/plain": [
       "{'Goals': 0,\n",
       " 'Shots': 0,\n",
       " 'Blocked Shots': 0,\n",
       " 'Faceoff': 2,\n",
       " 'takeaways': 0,\n",
       " 'giveaways': 0,\n",
       " 'hits': 0,\n",
       " 'Missed Shot': 0,\n",
       " 'Penalty': 0,\n",
       " 'Stoppage': 0,\n",
       " 'Blocked Shot': 2,\n",
       " 'Hit': 4,\n",
       " 'Shot': 2,\n",
       " 'Takeaway': 1}"
      ]
     },
     "execution_count": 88,
     "metadata": {},
     "output_type": "execute_result"
    }
   ],
   "source": [
    "minutes_into_game_df(game_1)"
   ]
  },
  {
   "cell_type": "code",
   "execution_count": null,
   "metadata": {
    "ExecuteTime": {
     "end_time": "2021-06-12T00:43:42.413736Z",
     "start_time": "2021-06-12T00:43:32.688Z"
    }
   },
   "outputs": [],
   "source": [
    "game_difference_df"
   ]
  },
  {
   "cell_type": "code",
   "execution_count": null,
   "metadata": {
    "ExecuteTime": {
     "end_time": "2021-06-12T00:43:42.414736Z",
     "start_time": "2021-06-12T00:43:32.690Z"
    }
   },
   "outputs": [],
   "source": [
    "model_2020[0:2]"
   ]
  },
  {
   "cell_type": "code",
   "execution_count": null,
   "metadata": {
    "ExecuteTime": {
     "end_time": "2021-06-12T00:43:42.415748Z",
     "start_time": "2021-06-12T00:43:32.692Z"
    }
   },
   "outputs": [],
   "source": [
    "base_dic = {\n",
    "    'goals':0, 'shots':0, 'blocked_shots': 0,'penalty_minutes':0, 'power_play_percentage':0,\n",
    "    'power_play_goals':0,'power_play_chances':0,'faceoff_percent':0, 'takeaways':0, 'giveaways': 0,\n",
    "    'hits': 0\n",
    "}"
   ]
  },
  {
   "cell_type": "code",
   "execution_count": null,
   "metadata": {},
   "outputs": [],
   "source": []
  },
  {
   "cell_type": "code",
   "execution_count": null,
   "metadata": {},
   "outputs": [],
   "source": []
  },
  {
   "cell_type": "code",
   "execution_count": null,
   "metadata": {},
   "outputs": [],
   "source": []
  }
 ],
 "metadata": {
  "kernelspec": {
   "display_name": "Python 3",
   "language": "python",
   "name": "python3"
  },
  "language_info": {
   "codemirror_mode": {
    "name": "ipython",
    "version": 3
   },
   "file_extension": ".py",
   "mimetype": "text/x-python",
   "name": "python",
   "nbconvert_exporter": "python",
   "pygments_lexer": "ipython3",
   "version": "3.8.5"
  }
 },
 "nbformat": 4,
 "nbformat_minor": 4
}
