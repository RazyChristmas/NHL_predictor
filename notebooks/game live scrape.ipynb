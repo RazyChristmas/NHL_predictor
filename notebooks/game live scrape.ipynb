{
 "cells": [
  {
   "cell_type": "code",
   "execution_count": null,
   "metadata": {
    "ExecuteTime": {
     "end_time": "2021-06-13T18:51:45.396930Z",
     "start_time": "2021-06-13T18:51:43.626143Z"
    }
   },
   "outputs": [],
   "source": [
    "import pandas as pd\n",
    "import datetime as dt\n",
    "import time\n",
    "import requests\n",
    "import numpy as np\n",
    "\n",
    "import joblib\n",
    "\n",
    "import warnings\n",
    "warnings.filterwarnings('ignore')"
   ]
  },
  {
   "cell_type": "markdown",
   "metadata": {},
   "source": [
    "Getting the ID for the game of the day. When this notebook was created there was only one game being played per day becuase of the playoffs. Improving this portion of the notebook to be more robust is a priority moving forward on the project. "
   ]
  },
  {
   "cell_type": "code",
   "execution_count": 3,
   "metadata": {
    "ExecuteTime": {
     "end_time": "2021-06-13T18:51:46.144799Z",
     "start_time": "2021-06-13T18:51:45.986790Z"
    }
   },
   "outputs": [],
   "source": [
    "schedule = requests.get('https://statsapi.web.nhl.com/api/v1/schedule')"
   ]
  },
  {
   "cell_type": "code",
   "execution_count": 4,
   "metadata": {
    "ExecuteTime": {
     "end_time": "2021-06-13T18:51:47.142992Z",
     "start_time": "2021-06-13T18:51:47.139989Z"
    }
   },
   "outputs": [],
   "source": [
    "schedule = schedule.json()"
   ]
  },
  {
   "cell_type": "code",
   "execution_count": 5,
   "metadata": {
    "ExecuteTime": {
     "end_time": "2021-06-13T18:51:49.050801Z",
     "start_time": "2021-06-13T18:51:49.034787Z"
    }
   },
   "outputs": [],
   "source": [
    "game_link = schedule['dates'][0]['games'][0]['link']"
   ]
  },
  {
   "cell_type": "code",
   "execution_count": 6,
   "metadata": {
    "ExecuteTime": {
     "end_time": "2021-06-13T18:51:49.576960Z",
     "start_time": "2021-06-13T18:51:49.561946Z"
    }
   },
   "outputs": [],
   "source": [
    "away_team = schedule['dates'][0]['games'][0]['teams']['away']['team']['name']"
   ]
  },
  {
   "cell_type": "code",
   "execution_count": 7,
   "metadata": {
    "ExecuteTime": {
     "end_time": "2021-06-13T18:51:50.205726Z",
     "start_time": "2021-06-13T18:51:50.194716Z"
    }
   },
   "outputs": [],
   "source": [
    "home_team = schedule['dates'][0]['games'][0]['teams']['home']['team']['name']"
   ]
  },
  {
   "cell_type": "code",
   "execution_count": 8,
   "metadata": {
    "ExecuteTime": {
     "end_time": "2021-06-13T18:51:51.600283Z",
     "start_time": "2021-06-13T18:51:51.592275Z"
    }
   },
   "outputs": [],
   "source": [
    "base_url = 'https://statsapi.web.nhl.com'"
   ]
  },
  {
   "cell_type": "code",
   "execution_count": 9,
   "metadata": {
    "ExecuteTime": {
     "end_time": "2021-06-13T18:51:54.515299Z",
     "start_time": "2021-06-13T18:51:54.500287Z"
    }
   },
   "outputs": [
    {
     "data": {
      "text/plain": [
       "'/api/v1/game/2020030321/feed/live'"
      ]
     },
     "execution_count": 9,
     "metadata": {},
     "output_type": "execute_result"
    }
   ],
   "source": [
    "game_link"
   ]
  },
  {
   "cell_type": "code",
   "execution_count": 14,
   "metadata": {
    "ExecuteTime": {
     "end_time": "2021-06-13T18:52:53.749467Z",
     "start_time": "2021-06-13T18:52:53.631357Z"
    }
   },
   "outputs": [],
   "source": [
    "game_pull = requests.get(f'{base_url}{game_link}')\n",
    "game_pull = game_pull.json()"
   ]
  },
  {
   "cell_type": "code",
   "execution_count": 41,
   "metadata": {
    "ExecuteTime": {
     "end_time": "2021-06-10T23:37:11.153568Z",
     "start_time": "2021-06-10T23:37:11.147553Z"
    }
   },
   "outputs": [],
   "source": [
    "modeling_df = pd.DataFrame()\n",
    "game_events = pd.DataFrame()"
   ]
  },
  {
   "cell_type": "code",
   "execution_count": 16,
   "metadata": {
    "ExecuteTime": {
     "end_time": "2021-06-13T18:53:21.702691Z",
     "start_time": "2021-06-13T18:53:21.687678Z"
    }
   },
   "outputs": [],
   "source": [
    "# function that updates a data frame to be the current list of all game events. \n",
    "def update_game_events(current_pull):\n",
    "    gameplay = current_pull['liveData']['plays']['allPlays']\n",
    "    output_df = pd.DataFrame()\n",
    "    for n in range(0,len(gameplay),1):\n",
    "        event = gameplay[n]['result']['event']\n",
    "        period = gameplay[n]['about']['period']\n",
    "        periodTime = gameplay[n]['about']['periodTime']\n",
    "        try:\n",
    "            team = gameplay[n]['team']['name']\n",
    "        except:\n",
    "            team = np.nan\n",
    "        home_team = current_pull['gameData']['teams']['home']['name']\n",
    "        try:\n",
    "            x_cords = gameplay[n]['coordinates']['x']\n",
    "        except:\n",
    "            x_cords = np.nan\n",
    "        try:\n",
    "            y_cords = gameplay[n]['coordinates']['y']\n",
    "        except:\n",
    "            y_cords = np.nan\n",
    "        temp_dic = {'event': event, 'team': team,'x_coordinate':x_cords, 'y_coordinate': y_cords,\n",
    "                       'period':period, 'period_time': periodTime, 'home_team': home_team}\n",
    "        temp_df = pd.DataFrame(temp_dic, index=[n])\n",
    "        output_df = pd.concat([output_df, temp_df], axis=0, ignore_index = True)\n",
    "    return output_df\n"
   ]
  },
  {
   "cell_type": "code",
   "execution_count": 17,
   "metadata": {
    "ExecuteTime": {
     "end_time": "2021-06-13T18:53:22.155479Z",
     "start_time": "2021-06-13T18:53:22.148474Z"
    }
   },
   "outputs": [],
   "source": [
    "#function that calculates the ice tilt using a data frame of all game events. \n",
    "def ice_tilt(game_df):\n",
    "    game_ice_tilt = game_df[(game_df['event'] == 'Faceoff') | (game_df['event'] == 'Shot') | (game_df['event'] == 'Hit') | (game_df['event'] == 'Missed Shot')]                \n",
    "    mask = (game_ice_tilt['period']==2)\n",
    "    game_ice_tilt['x_coordinate'][mask] = game_ice_tilt['x_coordinate'] * -1\n",
    "    tilt = game_ice_tilt['x_coordinate'].sum()\n",
    "    return tilt"
   ]
  },
  {
   "cell_type": "code",
   "execution_count": 20,
   "metadata": {
    "ExecuteTime": {
     "end_time": "2021-06-13T18:54:11.593016Z",
     "start_time": "2021-06-13T18:54:11.579003Z"
    }
   },
   "outputs": [],
   "source": [
    "#function that updates the box score to the current live box scores at any point in the game. \n",
    "def update_box_scores(current_pull):\n",
    "    box_pull = current_pull['liveData']['boxscore']\n",
    "    output_df = pd.DataFrame()\n",
    "    for location in ['away', 'home']:\n",
    "        shots = box_pull['teams'][location]['teamStats']['teamSkaterStats']['shots']\n",
    "        blocked_shots = box_pull['teams'][location]['teamStats']['teamSkaterStats']['blocked']\n",
    "        pim = box_pull['teams'][location]['teamStats']['teamSkaterStats']['pim']\n",
    "        pp_percent = box_pull['teams'][location]['teamStats']['teamSkaterStats']['powerPlayPercentage']\n",
    "        pp_goals = box_pull['teams'][location]['teamStats']['teamSkaterStats']['powerPlayGoals']\n",
    "        pp_chances = box_pull['teams'][location]['teamStats']['teamSkaterStats']['powerPlayOpportunities']\n",
    "        faceoff_percent = box_pull['teams'][location]['teamStats']['teamSkaterStats']['faceOffWinPercentage']\n",
    "        takeaways = box_pull['teams'][location]['teamStats']['teamSkaterStats']['takeaways']\n",
    "        giveaways = box_pull['teams'][location]['teamStats']['teamSkaterStats']['giveaways']\n",
    "        hits = box_pull['teams'][location]['teamStats']['teamSkaterStats']['hits']\n",
    "        home_status = location\n",
    "        temp_dic = {\n",
    "            'shots': shots, 'blocked_shots': blocked_shots,\n",
    "            'penalty_minutes': pim, 'power_play_percentage': pp_percent, 'power_play_goals': pp_goals,\n",
    "            'power_play_chances': pp_chances, 'faceoff_percent':faceoff_percent,'takeaways':takeaways,\n",
    "            'giveaways' : giveaways,'hits':hits,'home_status': home_status\n",
    "            }\n",
    "        temp_df = pd.DataFrame(temp_dic, index=[0])\n",
    "        output_df = pd.concat([output_df, temp_df], axis=0, ignore_index=True)\n",
    "    return output_df"
   ]
  },
  {
   "cell_type": "code",
   "execution_count": 21,
   "metadata": {
    "ExecuteTime": {
     "end_time": "2021-06-13T18:54:13.484713Z",
     "start_time": "2021-06-13T18:54:13.469358Z"
    }
   },
   "outputs": [],
   "source": [
    "# function that updates the differences df, that was used for modeling. \n",
    "def update_differences_df(df):\n",
    "    df['power_play_percentage'] = pd.to_numeric( df['power_play_percentage'])\n",
    "    df['faceoff_percent'] = pd.to_numeric( df['faceoff_percent'])\n",
    "    diffs = df.iloc[1][0:10] - df.iloc[0][0:10]\n",
    "    output_df = pd.DataFrame(diffs.to_dict(), index=[0])\n",
    "    return output_df\n",
    "    "
   ]
  },
  {
   "cell_type": "code",
   "execution_count": 22,
   "metadata": {
    "ExecuteTime": {
     "end_time": "2021-06-13T18:54:14.313344Z",
     "start_time": "2021-06-13T18:54:14.307337Z"
    }
   },
   "outputs": [],
   "source": [
    "#converts period time from being a string to being an integer.\n",
    "def time_to_int(column):\n",
    "    output_list = []\n",
    "    for i in [x for x in column]:\n",
    "        numeric_time = []\n",
    "        for digit in i:\n",
    "            if digit != \":\":\n",
    "                numeric_time.append((digit))\n",
    "            if len(numeric_time) == 4:\n",
    "                numeric_time = \"\".join(numeric_time)\n",
    "                int(numeric_time)\n",
    "        output_list.append(numeric_time)  \n",
    "    output_list = [int(x) for x in output_list]\n",
    "    return output_list\n",
    "        "
   ]
  },
  {
   "cell_type": "code",
   "execution_count": 35,
   "metadata": {
    "ExecuteTime": {
     "end_time": "2021-06-13T19:00:29.321939Z",
     "start_time": "2021-06-13T19:00:29.302915Z"
    }
   },
   "outputs": [],
   "source": [
    "# converts period time to full game time in order to filter for game time. \n",
    "def period_time_to_full_time(df):\n",
    "    first_period = df[df['period'] == 1]\n",
    "    second_period = df[df['period'] == 2]\n",
    "    third_period = df[df['period'] == 3]\n",
    "    second_period['period_time'] = second_period['period_time'] + 2000\n",
    "    third_period['period_time'] = third_period['period_time'] + 4000\n",
    "    output_df = pd.concat([first_period,second_period], axis=0, ignore_index=True)\n",
    "    output_df = pd.concat([output_df,third_period], axis=0, ignore_index=True)\n",
    "    return output_df\n",
    "    "
   ]
  },
  {
   "cell_type": "code",
   "execution_count": 24,
   "metadata": {
    "ExecuteTime": {
     "end_time": "2021-06-13T18:54:16.677193Z",
     "start_time": "2021-06-13T18:54:16.662180Z"
    }
   },
   "outputs": [],
   "source": [
    "# gets the data frame difference based on minutes into a game, used for the minute over minute modeling. \n",
    "def diff_of_minutes_model_stats(df):\n",
    "    events = df\n",
    "\n",
    "    events_home = events[events['team'] == events['home_team']]\n",
    "    events_home_dict = events_home.groupby('event').count()['team'].to_dict()\n",
    "    base_dic_home = {\n",
    "    'Goal':0, 'Shot':0, 'Blocked Shot': 0,\n",
    "    'Faceoff':0 , 'Takeaway':0, 'Giveaway': 0,\n",
    "    'Hit': 0, 'Missed Shot':0, 'Penalty': 0\n",
    "    }\n",
    "    base_dic_home.update(events_home_dict)\n",
    "\n",
    "    events_away = events[events['team'] != events['home_team']]\n",
    "    events_away_dict = events_away.groupby('event').count()['team'].to_dict()\n",
    "    base_dic_away = {\n",
    "    'Goal':0, 'Shot':0, 'Blocked Shot': 0,\n",
    "    'Faceoff':0 , 'Takeaway':0, 'Giveaway': 0,\n",
    "    'Hit': 0, 'Missed Shot':0, 'Penalty': 0\n",
    "    }\n",
    "    base_dic_away.update(events_away_dict)\n",
    "    away_df = pd.DataFrame(base_dic_away, index=[0])\n",
    "    home_df = pd.DataFrame(base_dic_home, index=[1])\n",
    "    temp = home_df.iloc[0][:10]-away_df.iloc[0][:10]\n",
    "    temp = temp.to_dict()\n",
    "    output_df = pd.DataFrame(temp, index=[0])\n",
    "    return output_df"
   ]
  },
  {
   "cell_type": "markdown",
   "metadata": {},
   "source": [
    "The model frames to be exported and used and to get updated in the live scrape. "
   ]
  },
  {
   "cell_type": "code",
   "execution_count": 179,
   "metadata": {
    "ExecuteTime": {
     "end_time": "2021-06-11T00:48:17.490404Z",
     "start_time": "2021-06-11T00:48:17.475391Z"
    }
   },
   "outputs": [],
   "source": [
    "modeling_df = pd.DataFrame()\n",
    "game_events = pd.DataFrame()\n",
    "differences_df = pd.DataFrame()"
   ]
  },
  {
   "cell_type": "code",
   "execution_count": 27,
   "metadata": {
    "ExecuteTime": {
     "end_time": "2021-06-13T18:55:10.951397Z",
     "start_time": "2021-06-13T18:55:07.833303Z"
    }
   },
   "outputs": [],
   "source": [
    "rfc = joblib.load('./models/random_forest_classifier.pkl')"
   ]
  },
  {
   "cell_type": "code",
   "execution_count": 55,
   "metadata": {
    "ExecuteTime": {
     "end_time": "2021-06-13T19:04:11.344704Z",
     "start_time": "2021-06-13T19:04:11.332694Z"
    }
   },
   "outputs": [],
   "source": [
    "def game_scrape_v3(game_link):\n",
    "    base_url = 'https://statsapi.web.nhl.com'\n",
    "    current_pull_raw = requests.get(f'{base_url}{game_link}')\n",
    "    current_pull = current_pull_raw.json()\n",
    "    modeling_df = update_box_scores(current_pull)\n",
    "    differences_df = update_differences_df(modeling_df)\n",
    "    game_events = update_game_events(current_pull).dropna()\n",
    "    tilt = ice_tilt(game_events)\n",
    "    differences_df['ice_tilt'] = tilt * -1\n",
    "    differences_df['time_stamp'] = current_pull['metaData']['timeStamp']\n",
    "    differences_df['period'] = current_pull['liveData']['plays']['allPlays'][-1]['about']['period']\n",
    "    differences_df['period_time'] = current_pull['liveData']['plays']['allPlays'][-1]['about']['periodTime']\n",
    "    differences_df['rfc_prediction'] = rfc.predict(differences_df.drop(columns=['time_stamp','time_stamp','period','period_time']))      \n",
    "    #differences_df['rfc_prob_no'] = rfc.predict_proba(differences_df.drop(columns=['time_stamp','time_stamp','period','period_time']))[0]\n",
    "    modeling_df['time_stamp'] = current_pull['metaData']['timeStamp']\n",
    "    modeling_df['period'] = current_pull['liveData']['plays']['allPlays'][-1]['about']['period']\n",
    "    modeling_df['period_time'] = current_pull['liveData']['plays']['allPlays'][-1]['about']['periodTime']\n",
    "    game_events['period_time'] = time_to_int(game_events['period_time'])\n",
    "    game_events = period_time_to_full_time(game_events)\n",
    "    minutes_diff_df = diff_of_minutes_model_stats(game_events)\n",
    "    \n",
    "    \n",
    "    return differences_df, modeling_df, minutes_diff_df"
   ]
  },
  {
   "cell_type": "code",
   "execution_count": 222,
   "metadata": {
    "ExecuteTime": {
     "end_time": "2021-06-11T01:04:22.621979Z",
     "start_time": "2021-06-11T01:04:22.567771Z"
    }
   },
   "outputs": [],
   "source": [
    "\n",
    "log_reg = joblib.load('./models/log_reg.pkl')"
   ]
  },
  {
   "cell_type": "code",
   "execution_count": null,
   "metadata": {},
   "outputs": [],
   "source": [
    "game = request.get('https://statsapi.web.nhl.com/api/v1/game/2020030236/feed/live')\n",
    "game = game.json()"
   ]
  },
  {
   "cell_type": "code",
   "execution_count": 59,
   "metadata": {
    "ExecuteTime": {
     "end_time": "2021-06-13T19:11:58.788380Z",
     "start_time": "2021-06-13T19:11:58.778372Z"
    }
   },
   "outputs": [],
   "source": [
    "def get_game_status(game_link):\n",
    "    base_url = 'https://statsapi.web.nhl.com'\n",
    "    current_pull_raw = requests.get(f'{base_url}{game_link}')\n",
    "    current_pull = current_pull_raw.json()\n",
    "    return current_pull['gameData']['status']['abstractGameState']\n",
    "    \n",
    "    "
   ]
  },
  {
   "cell_type": "code",
   "execution_count": 240,
   "metadata": {
    "ExecuteTime": {
     "end_time": "2021-06-11T01:50:16.086966Z",
     "start_time": "2021-06-11T01:50:15.968262Z"
    },
    "scrolled": true
   },
   "outputs": [
    {
     "data": {
      "text/plain": [
       "'Live'"
      ]
     },
     "execution_count": 240,
     "metadata": {},
     "output_type": "execute_result"
    }
   ],
   "source": [
    "get_game_status(game_link)"
   ]
  },
  {
   "cell_type": "markdown",
   "metadata": {},
   "source": [
    "First test of live scrape, was only able to get the third period of the game that night, becuase of the complications I ran into setting everything up."
   ]
  },
  {
   "cell_type": "code",
   "execution_count": null,
   "metadata": {},
   "outputs": [],
   "source": [
    "# This is an old game scrape version, but it was used in some of these early live pulls that \n",
    "# served as a proof of concept. \n",
    "def game_scrape(game_link):\n",
    "    base_url = 'https://statsapi.web.nhl.com'\n",
    "    current_pull_raw = requests.get(f'{base_url}{game_link}')\n",
    "    current_pull = current_pull_raw.json()\n",
    "    modeling_df = update_box_scores(current_pull)\n",
    "    differences_df = update_differences_df(modeling_df)\n",
    "    game_events = update_game_events(current_pull)\n",
    "    tilt = ice_tilt(game_events)\n",
    "    differences_df['ice_tilt'] = tilt * -1\n",
    "    differences_df['time_stamp'] = current_pull['metaData']['timeStamp']\n",
    "    differences_df['period'] = current_pull['liveData']['plays']['allPlays'][-1]['about']['period']\n",
    "    differences_df['period_time'] = current_pull['liveData']['plays']['allPlays'][-1]['about']['periodTime']\n",
    "    modeling_df['time_stamp'] = current_pull['metaData']['timeStamp']\n",
    "    modeling_df['period'] = current_pull['liveData']['plays']['allPlays'][-1]['about']['period']\n",
    "    modeling_df['period_time'] = current_pull['liveData']['plays']['allPlays'][-1]['about']['periodTime']\n",
    "    \n",
    "    return differences_df, modeling_df\n",
    "    "
   ]
  },
  {
   "cell_type": "code",
   "execution_count": 261,
   "metadata": {
    "ExecuteTime": {
     "end_time": "2021-06-11T03:43:19.876139Z",
     "start_time": "2021-06-11T03:05:46.100894Z"
    }
   },
   "outputs": [],
   "source": [
    "game_status = get_game_status(game_link)\n",
    "test_game_2_models = pd.DataFrame()\n",
    "test_game_2_diffs = pd.DataFrame()\n",
    "while game_status == 'Live':\n",
    "    differences, models = game_scrape(game_link)\n",
    "    test_game_2_models = pd.concat([test_game_2_models, models], axis=0, ignore_index=True)\n",
    "    test_game_2_diffs = pd.concat([test_game_2_diffs, differences], axis=0, ignore_index=True)\n",
    "    game_status = get_game_status(game_link)\n",
    "    time.sleep(60)\n",
    "    "
   ]
  },
  {
   "cell_type": "code",
   "execution_count": 262,
   "metadata": {
    "ExecuteTime": {
     "end_time": "2021-06-11T03:43:20.000261Z",
     "start_time": "2021-06-11T03:43:19.878131Z"
    }
   },
   "outputs": [],
   "source": [
    "game_status = get_game_status(game_link)"
   ]
  },
  {
   "cell_type": "code",
   "execution_count": 260,
   "metadata": {
    "ExecuteTime": {
     "end_time": "2021-06-11T02:53:33.876038Z",
     "start_time": "2021-06-11T02:53:33.859013Z"
    }
   },
   "outputs": [
    {
     "data": {
      "text/plain": [
       "'Live'"
      ]
     },
     "execution_count": 260,
     "metadata": {},
     "output_type": "execute_result"
    }
   ],
   "source": [
    "game_status"
   ]
  },
  {
   "cell_type": "code",
   "execution_count": 263,
   "metadata": {
    "ExecuteTime": {
     "end_time": "2021-06-11T03:44:34.238277Z",
     "start_time": "2021-06-11T03:44:34.211243Z"
    }
   },
   "outputs": [
    {
     "data": {
      "text/html": [
       "<div>\n",
       "<style scoped>\n",
       "    .dataframe tbody tr th:only-of-type {\n",
       "        vertical-align: middle;\n",
       "    }\n",
       "\n",
       "    .dataframe tbody tr th {\n",
       "        vertical-align: top;\n",
       "    }\n",
       "\n",
       "    .dataframe thead th {\n",
       "        text-align: right;\n",
       "    }\n",
       "</style>\n",
       "<table border=\"1\" class=\"dataframe\">\n",
       "  <thead>\n",
       "    <tr style=\"text-align: right;\">\n",
       "      <th></th>\n",
       "      <th>shots</th>\n",
       "      <th>blocked_shots</th>\n",
       "      <th>penalty_minutes</th>\n",
       "      <th>power_play_percentage</th>\n",
       "      <th>power_play_goals</th>\n",
       "      <th>power_play_chances</th>\n",
       "      <th>faceoff_percent</th>\n",
       "      <th>takeaways</th>\n",
       "      <th>giveaways</th>\n",
       "      <th>hits</th>\n",
       "      <th>home_status</th>\n",
       "      <th>time_stamp</th>\n",
       "      <th>period</th>\n",
       "      <th>period_time</th>\n",
       "    </tr>\n",
       "  </thead>\n",
       "  <tbody>\n",
       "    <tr>\n",
       "      <th>0</th>\n",
       "      <td>22</td>\n",
       "      <td>7</td>\n",
       "      <td>0</td>\n",
       "      <td>100.0</td>\n",
       "      <td>1.0</td>\n",
       "      <td>1.0</td>\n",
       "      <td>50.0</td>\n",
       "      <td>1</td>\n",
       "      <td>1</td>\n",
       "      <td>31</td>\n",
       "      <td>away</td>\n",
       "      <td>20210611_030529</td>\n",
       "      <td>3</td>\n",
       "      <td>00:22</td>\n",
       "    </tr>\n",
       "    <tr>\n",
       "      <th>1</th>\n",
       "      <td>16</td>\n",
       "      <td>24</td>\n",
       "      <td>2</td>\n",
       "      <td>0.0</td>\n",
       "      <td>0.0</td>\n",
       "      <td>0.0</td>\n",
       "      <td>50.0</td>\n",
       "      <td>16</td>\n",
       "      <td>12</td>\n",
       "      <td>37</td>\n",
       "      <td>home</td>\n",
       "      <td>20210611_030529</td>\n",
       "      <td>3</td>\n",
       "      <td>00:22</td>\n",
       "    </tr>\n",
       "    <tr>\n",
       "      <th>2</th>\n",
       "      <td>22</td>\n",
       "      <td>7</td>\n",
       "      <td>0</td>\n",
       "      <td>100.0</td>\n",
       "      <td>1.0</td>\n",
       "      <td>1.0</td>\n",
       "      <td>48.8</td>\n",
       "      <td>1</td>\n",
       "      <td>1</td>\n",
       "      <td>31</td>\n",
       "      <td>away</td>\n",
       "      <td>20210611_030627</td>\n",
       "      <td>3</td>\n",
       "      <td>01:21</td>\n",
       "    </tr>\n",
       "    <tr>\n",
       "      <th>3</th>\n",
       "      <td>17</td>\n",
       "      <td>25</td>\n",
       "      <td>2</td>\n",
       "      <td>0.0</td>\n",
       "      <td>0.0</td>\n",
       "      <td>0.0</td>\n",
       "      <td>51.2</td>\n",
       "      <td>16</td>\n",
       "      <td>13</td>\n",
       "      <td>37</td>\n",
       "      <td>home</td>\n",
       "      <td>20210611_030627</td>\n",
       "      <td>3</td>\n",
       "      <td>01:21</td>\n",
       "    </tr>\n",
       "    <tr>\n",
       "      <th>4</th>\n",
       "      <td>22</td>\n",
       "      <td>7</td>\n",
       "      <td>0</td>\n",
       "      <td>100.0</td>\n",
       "      <td>1.0</td>\n",
       "      <td>1.0</td>\n",
       "      <td>48.8</td>\n",
       "      <td>1</td>\n",
       "      <td>1</td>\n",
       "      <td>31</td>\n",
       "      <td>away</td>\n",
       "      <td>20210611_030727</td>\n",
       "      <td>3</td>\n",
       "      <td>01:21</td>\n",
       "    </tr>\n",
       "    <tr>\n",
       "      <th>...</th>\n",
       "      <td>...</td>\n",
       "      <td>...</td>\n",
       "      <td>...</td>\n",
       "      <td>...</td>\n",
       "      <td>...</td>\n",
       "      <td>...</td>\n",
       "      <td>...</td>\n",
       "      <td>...</td>\n",
       "      <td>...</td>\n",
       "      <td>...</td>\n",
       "      <td>...</td>\n",
       "      <td>...</td>\n",
       "      <td>...</td>\n",
       "      <td>...</td>\n",
       "    </tr>\n",
       "    <tr>\n",
       "      <th>69</th>\n",
       "      <td>23</td>\n",
       "      <td>28</td>\n",
       "      <td>2</td>\n",
       "      <td>0.0</td>\n",
       "      <td>0.0</td>\n",
       "      <td>1.0</td>\n",
       "      <td>50.0</td>\n",
       "      <td>20</td>\n",
       "      <td>15</td>\n",
       "      <td>45</td>\n",
       "      <td>home</td>\n",
       "      <td>20210611_033938</td>\n",
       "      <td>3</td>\n",
       "      <td>18:55</td>\n",
       "    </tr>\n",
       "    <tr>\n",
       "      <th>70</th>\n",
       "      <td>32</td>\n",
       "      <td>17</td>\n",
       "      <td>2</td>\n",
       "      <td>100.0</td>\n",
       "      <td>1.0</td>\n",
       "      <td>1.0</td>\n",
       "      <td>50.0</td>\n",
       "      <td>4</td>\n",
       "      <td>1</td>\n",
       "      <td>41</td>\n",
       "      <td>away</td>\n",
       "      <td>20210611_034038</td>\n",
       "      <td>3</td>\n",
       "      <td>19:21</td>\n",
       "    </tr>\n",
       "    <tr>\n",
       "      <th>71</th>\n",
       "      <td>23</td>\n",
       "      <td>28</td>\n",
       "      <td>2</td>\n",
       "      <td>0.0</td>\n",
       "      <td>0.0</td>\n",
       "      <td>1.0</td>\n",
       "      <td>50.0</td>\n",
       "      <td>20</td>\n",
       "      <td>15</td>\n",
       "      <td>45</td>\n",
       "      <td>home</td>\n",
       "      <td>20210611_034038</td>\n",
       "      <td>3</td>\n",
       "      <td>19:21</td>\n",
       "    </tr>\n",
       "    <tr>\n",
       "      <th>72</th>\n",
       "      <td>33</td>\n",
       "      <td>17</td>\n",
       "      <td>2</td>\n",
       "      <td>100.0</td>\n",
       "      <td>1.0</td>\n",
       "      <td>1.0</td>\n",
       "      <td>51.8</td>\n",
       "      <td>4</td>\n",
       "      <td>1</td>\n",
       "      <td>41</td>\n",
       "      <td>away</td>\n",
       "      <td>20210611_034136</td>\n",
       "      <td>3</td>\n",
       "      <td>20:00</td>\n",
       "    </tr>\n",
       "    <tr>\n",
       "      <th>73</th>\n",
       "      <td>23</td>\n",
       "      <td>28</td>\n",
       "      <td>2</td>\n",
       "      <td>0.0</td>\n",
       "      <td>0.0</td>\n",
       "      <td>1.0</td>\n",
       "      <td>48.2</td>\n",
       "      <td>20</td>\n",
       "      <td>15</td>\n",
       "      <td>45</td>\n",
       "      <td>home</td>\n",
       "      <td>20210611_034136</td>\n",
       "      <td>3</td>\n",
       "      <td>20:00</td>\n",
       "    </tr>\n",
       "  </tbody>\n",
       "</table>\n",
       "<p>74 rows × 14 columns</p>\n",
       "</div>"
      ],
      "text/plain": [
       "    shots  blocked_shots  penalty_minutes  power_play_percentage  \\\n",
       "0      22              7                0                  100.0   \n",
       "1      16             24                2                    0.0   \n",
       "2      22              7                0                  100.0   \n",
       "3      17             25                2                    0.0   \n",
       "4      22              7                0                  100.0   \n",
       "..    ...            ...              ...                    ...   \n",
       "69     23             28                2                    0.0   \n",
       "70     32             17                2                  100.0   \n",
       "71     23             28                2                    0.0   \n",
       "72     33             17                2                  100.0   \n",
       "73     23             28                2                    0.0   \n",
       "\n",
       "    power_play_goals  power_play_chances  faceoff_percent  takeaways  \\\n",
       "0                1.0                 1.0             50.0          1   \n",
       "1                0.0                 0.0             50.0         16   \n",
       "2                1.0                 1.0             48.8          1   \n",
       "3                0.0                 0.0             51.2         16   \n",
       "4                1.0                 1.0             48.8          1   \n",
       "..               ...                 ...              ...        ...   \n",
       "69               0.0                 1.0             50.0         20   \n",
       "70               1.0                 1.0             50.0          4   \n",
       "71               0.0                 1.0             50.0         20   \n",
       "72               1.0                 1.0             51.8          4   \n",
       "73               0.0                 1.0             48.2         20   \n",
       "\n",
       "    giveaways  hits home_status       time_stamp  period period_time  \n",
       "0           1    31        away  20210611_030529       3       00:22  \n",
       "1          12    37        home  20210611_030529       3       00:22  \n",
       "2           1    31        away  20210611_030627       3       01:21  \n",
       "3          13    37        home  20210611_030627       3       01:21  \n",
       "4           1    31        away  20210611_030727       3       01:21  \n",
       "..        ...   ...         ...              ...     ...         ...  \n",
       "69         15    45        home  20210611_033938       3       18:55  \n",
       "70          1    41        away  20210611_034038       3       19:21  \n",
       "71         15    45        home  20210611_034038       3       19:21  \n",
       "72          1    41        away  20210611_034136       3       20:00  \n",
       "73         15    45        home  20210611_034136       3       20:00  \n",
       "\n",
       "[74 rows x 14 columns]"
      ]
     },
     "execution_count": 263,
     "metadata": {},
     "output_type": "execute_result"
    }
   ],
   "source": [
    "test_game_2_models.head()"
   ]
  },
  {
   "cell_type": "code",
   "execution_count": 264,
   "metadata": {
    "ExecuteTime": {
     "end_time": "2021-06-11T03:44:36.568766Z",
     "start_time": "2021-06-11T03:44:36.526720Z"
    }
   },
   "outputs": [
    {
     "data": {
      "text/html": [
       "<div>\n",
       "<style scoped>\n",
       "    .dataframe tbody tr th:only-of-type {\n",
       "        vertical-align: middle;\n",
       "    }\n",
       "\n",
       "    .dataframe tbody tr th {\n",
       "        vertical-align: top;\n",
       "    }\n",
       "\n",
       "    .dataframe thead th {\n",
       "        text-align: right;\n",
       "    }\n",
       "</style>\n",
       "<table border=\"1\" class=\"dataframe\">\n",
       "  <thead>\n",
       "    <tr style=\"text-align: right;\">\n",
       "      <th></th>\n",
       "      <th>shots</th>\n",
       "      <th>blocked_shots</th>\n",
       "      <th>penalty_minutes</th>\n",
       "      <th>power_play_percentage</th>\n",
       "      <th>power_play_goals</th>\n",
       "      <th>power_play_chances</th>\n",
       "      <th>faceoff_percent</th>\n",
       "      <th>takeaways</th>\n",
       "      <th>giveaways</th>\n",
       "      <th>hits</th>\n",
       "      <th>ice_tilt</th>\n",
       "      <th>time_stamp</th>\n",
       "      <th>period</th>\n",
       "      <th>period_time</th>\n",
       "    </tr>\n",
       "  </thead>\n",
       "  <tbody>\n",
       "    <tr>\n",
       "      <th>0</th>\n",
       "      <td>-6</td>\n",
       "      <td>17</td>\n",
       "      <td>2</td>\n",
       "      <td>-100.0</td>\n",
       "      <td>-1.0</td>\n",
       "      <td>-1.0</td>\n",
       "      <td>0.0</td>\n",
       "      <td>15</td>\n",
       "      <td>11</td>\n",
       "      <td>6</td>\n",
       "      <td>-1343.0</td>\n",
       "      <td>20210611_030529</td>\n",
       "      <td>3</td>\n",
       "      <td>00:22</td>\n",
       "    </tr>\n",
       "    <tr>\n",
       "      <th>1</th>\n",
       "      <td>-5</td>\n",
       "      <td>18</td>\n",
       "      <td>2</td>\n",
       "      <td>-100.0</td>\n",
       "      <td>-1.0</td>\n",
       "      <td>-1.0</td>\n",
       "      <td>2.4</td>\n",
       "      <td>15</td>\n",
       "      <td>12</td>\n",
       "      <td>6</td>\n",
       "      <td>-1283.0</td>\n",
       "      <td>20210611_030627</td>\n",
       "      <td>3</td>\n",
       "      <td>01:21</td>\n",
       "    </tr>\n",
       "    <tr>\n",
       "      <th>2</th>\n",
       "      <td>-5</td>\n",
       "      <td>18</td>\n",
       "      <td>2</td>\n",
       "      <td>-100.0</td>\n",
       "      <td>-1.0</td>\n",
       "      <td>-1.0</td>\n",
       "      <td>2.4</td>\n",
       "      <td>15</td>\n",
       "      <td>12</td>\n",
       "      <td>6</td>\n",
       "      <td>-1214.0</td>\n",
       "      <td>20210611_030727</td>\n",
       "      <td>3</td>\n",
       "      <td>01:21</td>\n",
       "    </tr>\n",
       "    <tr>\n",
       "      <th>3</th>\n",
       "      <td>-5</td>\n",
       "      <td>18</td>\n",
       "      <td>2</td>\n",
       "      <td>-100.0</td>\n",
       "      <td>-1.0</td>\n",
       "      <td>-1.0</td>\n",
       "      <td>4.8</td>\n",
       "      <td>16</td>\n",
       "      <td>12</td>\n",
       "      <td>6</td>\n",
       "      <td>-1168.0</td>\n",
       "      <td>20210611_030825</td>\n",
       "      <td>3</td>\n",
       "      <td>02:58</td>\n",
       "    </tr>\n",
       "    <tr>\n",
       "      <th>4</th>\n",
       "      <td>-5</td>\n",
       "      <td>19</td>\n",
       "      <td>2</td>\n",
       "      <td>-100.0</td>\n",
       "      <td>-1.0</td>\n",
       "      <td>-1.0</td>\n",
       "      <td>4.8</td>\n",
       "      <td>16</td>\n",
       "      <td>12</td>\n",
       "      <td>6</td>\n",
       "      <td>-1226.0</td>\n",
       "      <td>20210611_030923</td>\n",
       "      <td>3</td>\n",
       "      <td>03:49</td>\n",
       "    </tr>\n",
       "    <tr>\n",
       "      <th>5</th>\n",
       "      <td>-5</td>\n",
       "      <td>19</td>\n",
       "      <td>2</td>\n",
       "      <td>-100.0</td>\n",
       "      <td>-1.0</td>\n",
       "      <td>-1.0</td>\n",
       "      <td>4.8</td>\n",
       "      <td>16</td>\n",
       "      <td>12</td>\n",
       "      <td>4</td>\n",
       "      <td>-1016.0</td>\n",
       "      <td>20210611_031023</td>\n",
       "      <td>3</td>\n",
       "      <td>04:41</td>\n",
       "    </tr>\n",
       "    <tr>\n",
       "      <th>6</th>\n",
       "      <td>-6</td>\n",
       "      <td>18</td>\n",
       "      <td>2</td>\n",
       "      <td>-100.0</td>\n",
       "      <td>-1.0</td>\n",
       "      <td>-1.0</td>\n",
       "      <td>4.8</td>\n",
       "      <td>15</td>\n",
       "      <td>12</td>\n",
       "      <td>2</td>\n",
       "      <td>-1263.0</td>\n",
       "      <td>20210611_031132</td>\n",
       "      <td>3</td>\n",
       "      <td>05:28</td>\n",
       "    </tr>\n",
       "    <tr>\n",
       "      <th>7</th>\n",
       "      <td>-7</td>\n",
       "      <td>18</td>\n",
       "      <td>2</td>\n",
       "      <td>-100.0</td>\n",
       "      <td>-1.0</td>\n",
       "      <td>-1.0</td>\n",
       "      <td>4.8</td>\n",
       "      <td>15</td>\n",
       "      <td>13</td>\n",
       "      <td>1</td>\n",
       "      <td>-1364.0</td>\n",
       "      <td>20210611_031230</td>\n",
       "      <td>3</td>\n",
       "      <td>05:33</td>\n",
       "    </tr>\n",
       "    <tr>\n",
       "      <th>8</th>\n",
       "      <td>-7</td>\n",
       "      <td>18</td>\n",
       "      <td>2</td>\n",
       "      <td>-100.0</td>\n",
       "      <td>-1.0</td>\n",
       "      <td>-1.0</td>\n",
       "      <td>4.6</td>\n",
       "      <td>15</td>\n",
       "      <td>13</td>\n",
       "      <td>1</td>\n",
       "      <td>-1364.0</td>\n",
       "      <td>20210611_031330</td>\n",
       "      <td>3</td>\n",
       "      <td>06:12</td>\n",
       "    </tr>\n",
       "    <tr>\n",
       "      <th>9</th>\n",
       "      <td>-10</td>\n",
       "      <td>18</td>\n",
       "      <td>2</td>\n",
       "      <td>-100.0</td>\n",
       "      <td>-1.0</td>\n",
       "      <td>-1.0</td>\n",
       "      <td>4.6</td>\n",
       "      <td>15</td>\n",
       "      <td>13</td>\n",
       "      <td>1</td>\n",
       "      <td>-1644.0</td>\n",
       "      <td>20210611_031428</td>\n",
       "      <td>3</td>\n",
       "      <td>06:37</td>\n",
       "    </tr>\n",
       "    <tr>\n",
       "      <th>10</th>\n",
       "      <td>-10</td>\n",
       "      <td>17</td>\n",
       "      <td>2</td>\n",
       "      <td>-100.0</td>\n",
       "      <td>-1.0</td>\n",
       "      <td>-1.0</td>\n",
       "      <td>2.2</td>\n",
       "      <td>15</td>\n",
       "      <td>13</td>\n",
       "      <td>1</td>\n",
       "      <td>-1644.0</td>\n",
       "      <td>20210611_031526</td>\n",
       "      <td>3</td>\n",
       "      <td>06:38</td>\n",
       "    </tr>\n",
       "    <tr>\n",
       "      <th>11</th>\n",
       "      <td>-10</td>\n",
       "      <td>17</td>\n",
       "      <td>2</td>\n",
       "      <td>-100.0</td>\n",
       "      <td>-1.0</td>\n",
       "      <td>-1.0</td>\n",
       "      <td>2.2</td>\n",
       "      <td>15</td>\n",
       "      <td>13</td>\n",
       "      <td>1</td>\n",
       "      <td>-1644.0</td>\n",
       "      <td>20210611_031626</td>\n",
       "      <td>3</td>\n",
       "      <td>06:38</td>\n",
       "    </tr>\n",
       "    <tr>\n",
       "      <th>12</th>\n",
       "      <td>-10</td>\n",
       "      <td>18</td>\n",
       "      <td>2</td>\n",
       "      <td>-100.0</td>\n",
       "      <td>-1.0</td>\n",
       "      <td>-1.0</td>\n",
       "      <td>0.0</td>\n",
       "      <td>15</td>\n",
       "      <td>13</td>\n",
       "      <td>1</td>\n",
       "      <td>-1780.0</td>\n",
       "      <td>20210611_031724</td>\n",
       "      <td>3</td>\n",
       "      <td>07:27</td>\n",
       "    </tr>\n",
       "    <tr>\n",
       "      <th>13</th>\n",
       "      <td>-10</td>\n",
       "      <td>18</td>\n",
       "      <td>2</td>\n",
       "      <td>-100.0</td>\n",
       "      <td>-1.0</td>\n",
       "      <td>-1.0</td>\n",
       "      <td>2.2</td>\n",
       "      <td>16</td>\n",
       "      <td>13</td>\n",
       "      <td>1</td>\n",
       "      <td>-1780.0</td>\n",
       "      <td>20210611_031838</td>\n",
       "      <td>3</td>\n",
       "      <td>07:45</td>\n",
       "    </tr>\n",
       "    <tr>\n",
       "      <th>14</th>\n",
       "      <td>-10</td>\n",
       "      <td>18</td>\n",
       "      <td>2</td>\n",
       "      <td>-100.0</td>\n",
       "      <td>-1.0</td>\n",
       "      <td>-1.0</td>\n",
       "      <td>2.2</td>\n",
       "      <td>16</td>\n",
       "      <td>13</td>\n",
       "      <td>1</td>\n",
       "      <td>-1608.0</td>\n",
       "      <td>20210611_031936</td>\n",
       "      <td>3</td>\n",
       "      <td>09:00</td>\n",
       "    </tr>\n",
       "    <tr>\n",
       "      <th>15</th>\n",
       "      <td>-10</td>\n",
       "      <td>19</td>\n",
       "      <td>2</td>\n",
       "      <td>-100.0</td>\n",
       "      <td>-1.0</td>\n",
       "      <td>-1.0</td>\n",
       "      <td>2.2</td>\n",
       "      <td>16</td>\n",
       "      <td>13</td>\n",
       "      <td>1</td>\n",
       "      <td>-1608.0</td>\n",
       "      <td>20210611_032034</td>\n",
       "      <td>3</td>\n",
       "      <td>09:54</td>\n",
       "    </tr>\n",
       "    <tr>\n",
       "      <th>16</th>\n",
       "      <td>-10</td>\n",
       "      <td>19</td>\n",
       "      <td>2</td>\n",
       "      <td>-100.0</td>\n",
       "      <td>-1.0</td>\n",
       "      <td>-1.0</td>\n",
       "      <td>0.0</td>\n",
       "      <td>16</td>\n",
       "      <td>13</td>\n",
       "      <td>3</td>\n",
       "      <td>-1539.0</td>\n",
       "      <td>20210611_032134</td>\n",
       "      <td>3</td>\n",
       "      <td>10:05</td>\n",
       "    </tr>\n",
       "    <tr>\n",
       "      <th>17</th>\n",
       "      <td>-10</td>\n",
       "      <td>19</td>\n",
       "      <td>2</td>\n",
       "      <td>-100.0</td>\n",
       "      <td>-1.0</td>\n",
       "      <td>-1.0</td>\n",
       "      <td>0.0</td>\n",
       "      <td>16</td>\n",
       "      <td>13</td>\n",
       "      <td>3</td>\n",
       "      <td>-1539.0</td>\n",
       "      <td>20210611_032232</td>\n",
       "      <td>3</td>\n",
       "      <td>10:05</td>\n",
       "    </tr>\n",
       "    <tr>\n",
       "      <th>18</th>\n",
       "      <td>-10</td>\n",
       "      <td>19</td>\n",
       "      <td>2</td>\n",
       "      <td>-100.0</td>\n",
       "      <td>-1.0</td>\n",
       "      <td>-1.0</td>\n",
       "      <td>0.0</td>\n",
       "      <td>16</td>\n",
       "      <td>13</td>\n",
       "      <td>3</td>\n",
       "      <td>-1559.0</td>\n",
       "      <td>20210611_032330</td>\n",
       "      <td>3</td>\n",
       "      <td>10:05</td>\n",
       "    </tr>\n",
       "    <tr>\n",
       "      <th>19</th>\n",
       "      <td>-10</td>\n",
       "      <td>19</td>\n",
       "      <td>2</td>\n",
       "      <td>-100.0</td>\n",
       "      <td>-1.0</td>\n",
       "      <td>-1.0</td>\n",
       "      <td>0.0</td>\n",
       "      <td>16</td>\n",
       "      <td>13</td>\n",
       "      <td>3</td>\n",
       "      <td>-1639.0</td>\n",
       "      <td>20210611_032430</td>\n",
       "      <td>3</td>\n",
       "      <td>11:04</td>\n",
       "    </tr>\n",
       "    <tr>\n",
       "      <th>20</th>\n",
       "      <td>-10</td>\n",
       "      <td>19</td>\n",
       "      <td>2</td>\n",
       "      <td>-100.0</td>\n",
       "      <td>-1.0</td>\n",
       "      <td>-1.0</td>\n",
       "      <td>-2.0</td>\n",
       "      <td>16</td>\n",
       "      <td>13</td>\n",
       "      <td>3</td>\n",
       "      <td>-1570.0</td>\n",
       "      <td>20210611_032528</td>\n",
       "      <td>3</td>\n",
       "      <td>11:23</td>\n",
       "    </tr>\n",
       "    <tr>\n",
       "      <th>21</th>\n",
       "      <td>-9</td>\n",
       "      <td>18</td>\n",
       "      <td>2</td>\n",
       "      <td>-100.0</td>\n",
       "      <td>-1.0</td>\n",
       "      <td>-1.0</td>\n",
       "      <td>-2.0</td>\n",
       "      <td>18</td>\n",
       "      <td>14</td>\n",
       "      <td>3</td>\n",
       "      <td>-1570.0</td>\n",
       "      <td>20210611_032626</td>\n",
       "      <td>3</td>\n",
       "      <td>11:46</td>\n",
       "    </tr>\n",
       "    <tr>\n",
       "      <th>22</th>\n",
       "      <td>-9</td>\n",
       "      <td>16</td>\n",
       "      <td>2</td>\n",
       "      <td>-100.0</td>\n",
       "      <td>-1.0</td>\n",
       "      <td>-1.0</td>\n",
       "      <td>2.0</td>\n",
       "      <td>18</td>\n",
       "      <td>14</td>\n",
       "      <td>3</td>\n",
       "      <td>-1473.0</td>\n",
       "      <td>20210611_032740</td>\n",
       "      <td>3</td>\n",
       "      <td>12:33</td>\n",
       "    </tr>\n",
       "    <tr>\n",
       "      <th>23</th>\n",
       "      <td>-9</td>\n",
       "      <td>15</td>\n",
       "      <td>2</td>\n",
       "      <td>-100.0</td>\n",
       "      <td>-1.0</td>\n",
       "      <td>0.0</td>\n",
       "      <td>2.0</td>\n",
       "      <td>18</td>\n",
       "      <td>14</td>\n",
       "      <td>2</td>\n",
       "      <td>-1404.0</td>\n",
       "      <td>20210611_032838</td>\n",
       "      <td>3</td>\n",
       "      <td>12:33</td>\n",
       "    </tr>\n",
       "    <tr>\n",
       "      <th>24</th>\n",
       "      <td>-8</td>\n",
       "      <td>15</td>\n",
       "      <td>0</td>\n",
       "      <td>-100.0</td>\n",
       "      <td>-1.0</td>\n",
       "      <td>0.0</td>\n",
       "      <td>0.0</td>\n",
       "      <td>18</td>\n",
       "      <td>14</td>\n",
       "      <td>2</td>\n",
       "      <td>-1258.0</td>\n",
       "      <td>20210611_032938</td>\n",
       "      <td>3</td>\n",
       "      <td>13:30</td>\n",
       "    </tr>\n",
       "    <tr>\n",
       "      <th>25</th>\n",
       "      <td>-9</td>\n",
       "      <td>14</td>\n",
       "      <td>0</td>\n",
       "      <td>-100.0</td>\n",
       "      <td>-1.0</td>\n",
       "      <td>0.0</td>\n",
       "      <td>0.0</td>\n",
       "      <td>18</td>\n",
       "      <td>14</td>\n",
       "      <td>2</td>\n",
       "      <td>-1419.0</td>\n",
       "      <td>20210611_033036</td>\n",
       "      <td>3</td>\n",
       "      <td>14:38</td>\n",
       "    </tr>\n",
       "    <tr>\n",
       "      <th>26</th>\n",
       "      <td>-9</td>\n",
       "      <td>14</td>\n",
       "      <td>0</td>\n",
       "      <td>-100.0</td>\n",
       "      <td>-1.0</td>\n",
       "      <td>0.0</td>\n",
       "      <td>0.0</td>\n",
       "      <td>18</td>\n",
       "      <td>14</td>\n",
       "      <td>2</td>\n",
       "      <td>-1438.0</td>\n",
       "      <td>20210611_033134</td>\n",
       "      <td>3</td>\n",
       "      <td>15:37</td>\n",
       "    </tr>\n",
       "    <tr>\n",
       "      <th>27</th>\n",
       "      <td>-8</td>\n",
       "      <td>14</td>\n",
       "      <td>0</td>\n",
       "      <td>-100.0</td>\n",
       "      <td>-1.0</td>\n",
       "      <td>0.0</td>\n",
       "      <td>0.0</td>\n",
       "      <td>18</td>\n",
       "      <td>14</td>\n",
       "      <td>3</td>\n",
       "      <td>-1436.0</td>\n",
       "      <td>20210611_033234</td>\n",
       "      <td>3</td>\n",
       "      <td>15:37</td>\n",
       "    </tr>\n",
       "    <tr>\n",
       "      <th>28</th>\n",
       "      <td>-8</td>\n",
       "      <td>14</td>\n",
       "      <td>0</td>\n",
       "      <td>-100.0</td>\n",
       "      <td>-1.0</td>\n",
       "      <td>0.0</td>\n",
       "      <td>0.0</td>\n",
       "      <td>18</td>\n",
       "      <td>14</td>\n",
       "      <td>4</td>\n",
       "      <td>-1436.0</td>\n",
       "      <td>20210611_033332</td>\n",
       "      <td>3</td>\n",
       "      <td>15:37</td>\n",
       "    </tr>\n",
       "    <tr>\n",
       "      <th>29</th>\n",
       "      <td>-8</td>\n",
       "      <td>14</td>\n",
       "      <td>0</td>\n",
       "      <td>-100.0</td>\n",
       "      <td>-1.0</td>\n",
       "      <td>0.0</td>\n",
       "      <td>0.0</td>\n",
       "      <td>18</td>\n",
       "      <td>14</td>\n",
       "      <td>4</td>\n",
       "      <td>-1463.0</td>\n",
       "      <td>20210611_033430</td>\n",
       "      <td>3</td>\n",
       "      <td>15:49</td>\n",
       "    </tr>\n",
       "    <tr>\n",
       "      <th>30</th>\n",
       "      <td>-7</td>\n",
       "      <td>14</td>\n",
       "      <td>0</td>\n",
       "      <td>-100.0</td>\n",
       "      <td>-1.0</td>\n",
       "      <td>0.0</td>\n",
       "      <td>0.0</td>\n",
       "      <td>18</td>\n",
       "      <td>14</td>\n",
       "      <td>4</td>\n",
       "      <td>-1429.0</td>\n",
       "      <td>20210611_033530</td>\n",
       "      <td>3</td>\n",
       "      <td>16:42</td>\n",
       "    </tr>\n",
       "    <tr>\n",
       "      <th>31</th>\n",
       "      <td>-6</td>\n",
       "      <td>13</td>\n",
       "      <td>0</td>\n",
       "      <td>-100.0</td>\n",
       "      <td>-1.0</td>\n",
       "      <td>0.0</td>\n",
       "      <td>1.8</td>\n",
       "      <td>18</td>\n",
       "      <td>14</td>\n",
       "      <td>2</td>\n",
       "      <td>-1429.0</td>\n",
       "      <td>20210611_033628</td>\n",
       "      <td>3</td>\n",
       "      <td>16:50</td>\n",
       "    </tr>\n",
       "    <tr>\n",
       "      <th>32</th>\n",
       "      <td>-7</td>\n",
       "      <td>13</td>\n",
       "      <td>0</td>\n",
       "      <td>-100.0</td>\n",
       "      <td>-1.0</td>\n",
       "      <td>0.0</td>\n",
       "      <td>1.8</td>\n",
       "      <td>18</td>\n",
       "      <td>14</td>\n",
       "      <td>2</td>\n",
       "      <td>-1510.0</td>\n",
       "      <td>20210611_033727</td>\n",
       "      <td>3</td>\n",
       "      <td>17:44</td>\n",
       "    </tr>\n",
       "    <tr>\n",
       "      <th>33</th>\n",
       "      <td>-8</td>\n",
       "      <td>12</td>\n",
       "      <td>0</td>\n",
       "      <td>-100.0</td>\n",
       "      <td>-1.0</td>\n",
       "      <td>0.0</td>\n",
       "      <td>0.0</td>\n",
       "      <td>17</td>\n",
       "      <td>14</td>\n",
       "      <td>4</td>\n",
       "      <td>-1737.0</td>\n",
       "      <td>20210611_033840</td>\n",
       "      <td>3</td>\n",
       "      <td>18:55</td>\n",
       "    </tr>\n",
       "    <tr>\n",
       "      <th>34</th>\n",
       "      <td>-8</td>\n",
       "      <td>11</td>\n",
       "      <td>0</td>\n",
       "      <td>-100.0</td>\n",
       "      <td>-1.0</td>\n",
       "      <td>0.0</td>\n",
       "      <td>0.0</td>\n",
       "      <td>16</td>\n",
       "      <td>14</td>\n",
       "      <td>4</td>\n",
       "      <td>-1737.0</td>\n",
       "      <td>20210611_033938</td>\n",
       "      <td>3</td>\n",
       "      <td>18:55</td>\n",
       "    </tr>\n",
       "    <tr>\n",
       "      <th>35</th>\n",
       "      <td>-9</td>\n",
       "      <td>11</td>\n",
       "      <td>0</td>\n",
       "      <td>-100.0</td>\n",
       "      <td>-1.0</td>\n",
       "      <td>0.0</td>\n",
       "      <td>0.0</td>\n",
       "      <td>16</td>\n",
       "      <td>14</td>\n",
       "      <td>4</td>\n",
       "      <td>-1677.0</td>\n",
       "      <td>20210611_034038</td>\n",
       "      <td>3</td>\n",
       "      <td>19:21</td>\n",
       "    </tr>\n",
       "    <tr>\n",
       "      <th>36</th>\n",
       "      <td>-10</td>\n",
       "      <td>11</td>\n",
       "      <td>0</td>\n",
       "      <td>-100.0</td>\n",
       "      <td>-1.0</td>\n",
       "      <td>0.0</td>\n",
       "      <td>-3.6</td>\n",
       "      <td>16</td>\n",
       "      <td>14</td>\n",
       "      <td>4</td>\n",
       "      <td>-1996.0</td>\n",
       "      <td>20210611_034136</td>\n",
       "      <td>3</td>\n",
       "      <td>20:00</td>\n",
       "    </tr>\n",
       "  </tbody>\n",
       "</table>\n",
       "</div>"
      ],
      "text/plain": [
       "    shots  blocked_shots  penalty_minutes  power_play_percentage  \\\n",
       "0      -6             17                2                 -100.0   \n",
       "1      -5             18                2                 -100.0   \n",
       "2      -5             18                2                 -100.0   \n",
       "3      -5             18                2                 -100.0   \n",
       "4      -5             19                2                 -100.0   \n",
       "5      -5             19                2                 -100.0   \n",
       "6      -6             18                2                 -100.0   \n",
       "7      -7             18                2                 -100.0   \n",
       "8      -7             18                2                 -100.0   \n",
       "9     -10             18                2                 -100.0   \n",
       "10    -10             17                2                 -100.0   \n",
       "11    -10             17                2                 -100.0   \n",
       "12    -10             18                2                 -100.0   \n",
       "13    -10             18                2                 -100.0   \n",
       "14    -10             18                2                 -100.0   \n",
       "15    -10             19                2                 -100.0   \n",
       "16    -10             19                2                 -100.0   \n",
       "17    -10             19                2                 -100.0   \n",
       "18    -10             19                2                 -100.0   \n",
       "19    -10             19                2                 -100.0   \n",
       "20    -10             19                2                 -100.0   \n",
       "21     -9             18                2                 -100.0   \n",
       "22     -9             16                2                 -100.0   \n",
       "23     -9             15                2                 -100.0   \n",
       "24     -8             15                0                 -100.0   \n",
       "25     -9             14                0                 -100.0   \n",
       "26     -9             14                0                 -100.0   \n",
       "27     -8             14                0                 -100.0   \n",
       "28     -8             14                0                 -100.0   \n",
       "29     -8             14                0                 -100.0   \n",
       "30     -7             14                0                 -100.0   \n",
       "31     -6             13                0                 -100.0   \n",
       "32     -7             13                0                 -100.0   \n",
       "33     -8             12                0                 -100.0   \n",
       "34     -8             11                0                 -100.0   \n",
       "35     -9             11                0                 -100.0   \n",
       "36    -10             11                0                 -100.0   \n",
       "\n",
       "    power_play_goals  power_play_chances  faceoff_percent  takeaways  \\\n",
       "0               -1.0                -1.0              0.0         15   \n",
       "1               -1.0                -1.0              2.4         15   \n",
       "2               -1.0                -1.0              2.4         15   \n",
       "3               -1.0                -1.0              4.8         16   \n",
       "4               -1.0                -1.0              4.8         16   \n",
       "5               -1.0                -1.0              4.8         16   \n",
       "6               -1.0                -1.0              4.8         15   \n",
       "7               -1.0                -1.0              4.8         15   \n",
       "8               -1.0                -1.0              4.6         15   \n",
       "9               -1.0                -1.0              4.6         15   \n",
       "10              -1.0                -1.0              2.2         15   \n",
       "11              -1.0                -1.0              2.2         15   \n",
       "12              -1.0                -1.0              0.0         15   \n",
       "13              -1.0                -1.0              2.2         16   \n",
       "14              -1.0                -1.0              2.2         16   \n",
       "15              -1.0                -1.0              2.2         16   \n",
       "16              -1.0                -1.0              0.0         16   \n",
       "17              -1.0                -1.0              0.0         16   \n",
       "18              -1.0                -1.0              0.0         16   \n",
       "19              -1.0                -1.0              0.0         16   \n",
       "20              -1.0                -1.0             -2.0         16   \n",
       "21              -1.0                -1.0             -2.0         18   \n",
       "22              -1.0                -1.0              2.0         18   \n",
       "23              -1.0                 0.0              2.0         18   \n",
       "24              -1.0                 0.0              0.0         18   \n",
       "25              -1.0                 0.0              0.0         18   \n",
       "26              -1.0                 0.0              0.0         18   \n",
       "27              -1.0                 0.0              0.0         18   \n",
       "28              -1.0                 0.0              0.0         18   \n",
       "29              -1.0                 0.0              0.0         18   \n",
       "30              -1.0                 0.0              0.0         18   \n",
       "31              -1.0                 0.0              1.8         18   \n",
       "32              -1.0                 0.0              1.8         18   \n",
       "33              -1.0                 0.0              0.0         17   \n",
       "34              -1.0                 0.0              0.0         16   \n",
       "35              -1.0                 0.0              0.0         16   \n",
       "36              -1.0                 0.0             -3.6         16   \n",
       "\n",
       "    giveaways  hits  ice_tilt       time_stamp  period period_time  \n",
       "0          11     6   -1343.0  20210611_030529       3       00:22  \n",
       "1          12     6   -1283.0  20210611_030627       3       01:21  \n",
       "2          12     6   -1214.0  20210611_030727       3       01:21  \n",
       "3          12     6   -1168.0  20210611_030825       3       02:58  \n",
       "4          12     6   -1226.0  20210611_030923       3       03:49  \n",
       "5          12     4   -1016.0  20210611_031023       3       04:41  \n",
       "6          12     2   -1263.0  20210611_031132       3       05:28  \n",
       "7          13     1   -1364.0  20210611_031230       3       05:33  \n",
       "8          13     1   -1364.0  20210611_031330       3       06:12  \n",
       "9          13     1   -1644.0  20210611_031428       3       06:37  \n",
       "10         13     1   -1644.0  20210611_031526       3       06:38  \n",
       "11         13     1   -1644.0  20210611_031626       3       06:38  \n",
       "12         13     1   -1780.0  20210611_031724       3       07:27  \n",
       "13         13     1   -1780.0  20210611_031838       3       07:45  \n",
       "14         13     1   -1608.0  20210611_031936       3       09:00  \n",
       "15         13     1   -1608.0  20210611_032034       3       09:54  \n",
       "16         13     3   -1539.0  20210611_032134       3       10:05  \n",
       "17         13     3   -1539.0  20210611_032232       3       10:05  \n",
       "18         13     3   -1559.0  20210611_032330       3       10:05  \n",
       "19         13     3   -1639.0  20210611_032430       3       11:04  \n",
       "20         13     3   -1570.0  20210611_032528       3       11:23  \n",
       "21         14     3   -1570.0  20210611_032626       3       11:46  \n",
       "22         14     3   -1473.0  20210611_032740       3       12:33  \n",
       "23         14     2   -1404.0  20210611_032838       3       12:33  \n",
       "24         14     2   -1258.0  20210611_032938       3       13:30  \n",
       "25         14     2   -1419.0  20210611_033036       3       14:38  \n",
       "26         14     2   -1438.0  20210611_033134       3       15:37  \n",
       "27         14     3   -1436.0  20210611_033234       3       15:37  \n",
       "28         14     4   -1436.0  20210611_033332       3       15:37  \n",
       "29         14     4   -1463.0  20210611_033430       3       15:49  \n",
       "30         14     4   -1429.0  20210611_033530       3       16:42  \n",
       "31         14     2   -1429.0  20210611_033628       3       16:50  \n",
       "32         14     2   -1510.0  20210611_033727       3       17:44  \n",
       "33         14     4   -1737.0  20210611_033840       3       18:55  \n",
       "34         14     4   -1737.0  20210611_033938       3       18:55  \n",
       "35         14     4   -1677.0  20210611_034038       3       19:21  \n",
       "36         14     4   -1996.0  20210611_034136       3       20:00  "
      ]
     },
     "execution_count": 264,
     "metadata": {},
     "output_type": "execute_result"
    }
   ],
   "source": [
    "test_game_2_diffs"
   ]
  },
  {
   "cell_type": "code",
   "execution_count": 265,
   "metadata": {
    "ExecuteTime": {
     "end_time": "2021-06-11T03:45:12.407954Z",
     "start_time": "2021-06-11T03:45:12.391941Z"
    }
   },
   "outputs": [
    {
     "data": {
      "text/plain": [
       "array(['no', 'no', 'no', 'no', 'no', 'no', 'no', 'no', 'no', 'no', 'no',\n",
       "       'no', 'no', 'no', 'no', 'no', 'no', 'no', 'no', 'no', 'no', 'no',\n",
       "       'no', 'no', 'no', 'no', 'no', 'no', 'no', 'no', 'no', 'no', 'no',\n",
       "       'no', 'no', 'no', 'no'], dtype=object)"
      ]
     },
     "execution_count": 265,
     "metadata": {},
     "output_type": "execute_result"
    }
   ],
   "source": [
    "rfc.predict(test_game_2_diffs.drop(columns=['time_stamp','time_stamp','period','period_time']))"
   ]
  },
  {
   "cell_type": "code",
   "execution_count": 267,
   "metadata": {
    "ExecuteTime": {
     "end_time": "2021-06-11T03:52:10.497822Z",
     "start_time": "2021-06-11T03:52:10.482809Z"
    }
   },
   "outputs": [],
   "source": [
    "test_game_2_diffs.to_csv('./live_scrapes/avs_vegas_third_diffs.csv')\n",
    "test_game_2_models.to_csv('./live_scrapes/avs_vegas_third_box_scores.csv')"
   ]
  },
  {
   "cell_type": "code",
   "execution_count": 75,
   "metadata": {
    "ExecuteTime": {
     "end_time": "2021-06-13T19:21:09.491388Z",
     "start_time": "2021-06-13T19:21:09.369237Z"
    },
    "scrolled": true
   },
   "outputs": [
    {
     "data": {
      "text/plain": [
       "'Live'"
      ]
     },
     "execution_count": 75,
     "metadata": {},
     "output_type": "execute_result"
    }
   ],
   "source": [
    "game_status = get_game_status(game_link)\n",
    "game_status"
   ]
  },
  {
   "cell_type": "markdown",
   "metadata": {},
   "source": [
    "This is the one true live scrape I was able to do. It exports the main data frame at every pull number, and allows for the live prediction to slowly build out a graph using the several data frames. I realize in hindsight that this process could be greatly improved and automated. "
   ]
  },
  {
   "cell_type": "code",
   "execution_count": 79,
   "metadata": {
    "ExecuteTime": {
     "end_time": "2021-06-13T21:42:05.130785Z",
     "start_time": "2021-06-13T19:23:49.252610Z"
    }
   },
   "outputs": [],
   "source": [
    "game_status = get_game_status(game_link)\n",
    "game_box = pd.DataFrame()\n",
    "game_diff = pd.DataFrame()\n",
    "game_minute_diffs = pd.DataFrame()\n",
    "counter = 1\n",
    "while game_status == 'Live':\n",
    "    differences, models, minute_diffs = game_scrape_v3(game_link)\n",
    "    game_box = pd.concat([game_box, models], axis=0, ignore_index=True)\n",
    "    game_diff = pd.concat([game_diff, differences], axis=0, ignore_index=True)\n",
    "    game_minute_diffs = pd.concat([game_minute_diffs, minute_diffs], axis=0, ignore_index=True)\n",
    "    game_status = get_game_status(game_link)\n",
    "    game_minute_diffs.to_csv(f'./live_scrapes/islanders_bruins_v3_minute_diffs_{counter}.csv')\n",
    "    game_diff.to_csv(f'./live_scrapes/islanders_bruins_v3_diffs_{counter}.csv')\n",
    "    game_box.to_csv(f'./live_scrapes/islanders_bruins_v3_box_{counter}.csv')\n",
    "    counter += 1\n",
    "    time.sleep(60)"
   ]
  },
  {
   "cell_type": "code",
   "execution_count": 80,
   "metadata": {
    "ExecuteTime": {
     "end_time": "2021-06-13T22:08:58.485166Z",
     "start_time": "2021-06-13T22:08:58.469530Z"
    }
   },
   "outputs": [
    {
     "data": {
      "text/plain": [
       "'Final'"
      ]
     },
     "execution_count": 80,
     "metadata": {},
     "output_type": "execute_result"
    }
   ],
   "source": [
    "game_status"
   ]
  },
  {
   "cell_type": "markdown",
   "metadata": {},
   "source": [
    "The actual live predicting is happening in the model results notebook, to allow for the live scrape and the model predictions to happen at the same time. Eventually this will be set up to allow for all the models to predict on data as it is brought in and exported. "
   ]
  },
  {
   "cell_type": "code",
   "execution_count": null,
   "metadata": {},
   "outputs": [],
   "source": []
  },
  {
   "cell_type": "code",
   "execution_count": null,
   "metadata": {},
   "outputs": [],
   "source": []
  },
  {
   "cell_type": "code",
   "execution_count": null,
   "metadata": {},
   "outputs": [],
   "source": [
    "#Live"
   ]
  }
 ],
 "metadata": {
  "kernelspec": {
   "display_name": "Python 3",
   "language": "python",
   "name": "python3"
  },
  "language_info": {
   "codemirror_mode": {
    "name": "ipython",
    "version": 3
   },
   "file_extension": ".py",
   "mimetype": "text/x-python",
   "name": "python",
   "nbconvert_exporter": "python",
   "pygments_lexer": "ipython3",
   "version": "3.8.5"
  }
 },
 "nbformat": 4,
 "nbformat_minor": 4
}
