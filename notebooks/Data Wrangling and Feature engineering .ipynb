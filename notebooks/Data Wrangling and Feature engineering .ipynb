{
 "cells": [
  {
   "cell_type": "code",
   "execution_count": 1,
   "metadata": {
    "ExecuteTime": {
     "end_time": "2021-06-14T17:09:18.575453Z",
     "start_time": "2021-06-14T17:09:17.355488Z"
    }
   },
   "outputs": [],
   "source": [
    "import pandas as pd\n",
    "import numpy as np \n",
    "import matplotlib.pyplot as plt\n",
    "import seaborn as sns \n",
    "\n",
    "import warnings\n",
    "warnings.filterwarnings('ignore') #slicing errors"
   ]
  },
  {
   "cell_type": "code",
   "execution_count": 2,
   "metadata": {
    "ExecuteTime": {
     "end_time": "2021-06-14T17:09:18.607482Z",
     "start_time": "2021-06-14T17:09:18.577455Z"
    }
   },
   "outputs": [],
   "source": [
    "model_2020 = pd.read_csv('./data_frames/2020_end_game_boxscores.csv')"
   ]
  },
  {
   "cell_type": "code",
   "execution_count": 3,
   "metadata": {
    "ExecuteTime": {
     "end_time": "2021-06-14T17:09:18.639510Z",
     "start_time": "2021-06-14T17:09:18.611485Z"
    },
    "scrolled": true
   },
   "outputs": [
    {
     "data": {
      "text/html": [
       "<div>\n",
       "<style scoped>\n",
       "    .dataframe tbody tr th:only-of-type {\n",
       "        vertical-align: middle;\n",
       "    }\n",
       "\n",
       "    .dataframe tbody tr th {\n",
       "        vertical-align: top;\n",
       "    }\n",
       "\n",
       "    .dataframe thead th {\n",
       "        text-align: right;\n",
       "    }\n",
       "</style>\n",
       "<table border=\"1\" class=\"dataframe\">\n",
       "  <thead>\n",
       "    <tr style=\"text-align: right;\">\n",
       "      <th></th>\n",
       "      <th>team</th>\n",
       "      <th>home_status</th>\n",
       "      <th>goals</th>\n",
       "      <th>shots</th>\n",
       "      <th>blocked_shots</th>\n",
       "      <th>penalty_minutes</th>\n",
       "      <th>power_play_percentage</th>\n",
       "      <th>power_play_goals</th>\n",
       "      <th>power_play_chances</th>\n",
       "      <th>faceoff_percent</th>\n",
       "      <th>takeaways</th>\n",
       "      <th>giveaways</th>\n",
       "      <th>hits</th>\n",
       "      <th>goal_diff</th>\n",
       "      <th>won</th>\n",
       "    </tr>\n",
       "  </thead>\n",
       "  <tbody>\n",
       "    <tr>\n",
       "      <th>0</th>\n",
       "      <td>Pittsburgh Penguins</td>\n",
       "      <td>away</td>\n",
       "      <td>3</td>\n",
       "      <td>34</td>\n",
       "      <td>11</td>\n",
       "      <td>6</td>\n",
       "      <td>33.3</td>\n",
       "      <td>1.0</td>\n",
       "      <td>3.0</td>\n",
       "      <td>42.0</td>\n",
       "      <td>8</td>\n",
       "      <td>10</td>\n",
       "      <td>23</td>\n",
       "      <td>-3</td>\n",
       "      <td>no</td>\n",
       "    </tr>\n",
       "    <tr>\n",
       "      <th>1</th>\n",
       "      <td>Philadelphia Flyers</td>\n",
       "      <td>home</td>\n",
       "      <td>6</td>\n",
       "      <td>27</td>\n",
       "      <td>13</td>\n",
       "      <td>6</td>\n",
       "      <td>66.7</td>\n",
       "      <td>2.0</td>\n",
       "      <td>3.0</td>\n",
       "      <td>58.0</td>\n",
       "      <td>6</td>\n",
       "      <td>10</td>\n",
       "      <td>31</td>\n",
       "      <td>3</td>\n",
       "      <td>yes</td>\n",
       "    </tr>\n",
       "    <tr>\n",
       "      <th>2</th>\n",
       "      <td>Chicago Blackhawks</td>\n",
       "      <td>away</td>\n",
       "      <td>1</td>\n",
       "      <td>23</td>\n",
       "      <td>7</td>\n",
       "      <td>8</td>\n",
       "      <td>33.3</td>\n",
       "      <td>1.0</td>\n",
       "      <td>3.0</td>\n",
       "      <td>49.1</td>\n",
       "      <td>4</td>\n",
       "      <td>1</td>\n",
       "      <td>14</td>\n",
       "      <td>-4</td>\n",
       "      <td>no</td>\n",
       "    </tr>\n",
       "    <tr>\n",
       "      <th>3</th>\n",
       "      <td>Tampa Bay Lightning</td>\n",
       "      <td>home</td>\n",
       "      <td>5</td>\n",
       "      <td>33</td>\n",
       "      <td>12</td>\n",
       "      <td>6</td>\n",
       "      <td>50.0</td>\n",
       "      <td>2.0</td>\n",
       "      <td>4.0</td>\n",
       "      <td>50.9</td>\n",
       "      <td>4</td>\n",
       "      <td>1</td>\n",
       "      <td>16</td>\n",
       "      <td>4</td>\n",
       "      <td>yes</td>\n",
       "    </tr>\n",
       "    <tr>\n",
       "      <th>4</th>\n",
       "      <td>Montréal Canadiens</td>\n",
       "      <td>away</td>\n",
       "      <td>4</td>\n",
       "      <td>32</td>\n",
       "      <td>22</td>\n",
       "      <td>13</td>\n",
       "      <td>66.7</td>\n",
       "      <td>2.0</td>\n",
       "      <td>3.0</td>\n",
       "      <td>46.0</td>\n",
       "      <td>6</td>\n",
       "      <td>13</td>\n",
       "      <td>32</td>\n",
       "      <td>-1</td>\n",
       "      <td>no</td>\n",
       "    </tr>\n",
       "  </tbody>\n",
       "</table>\n",
       "</div>"
      ],
      "text/plain": [
       "                  team home_status  goals  shots  blocked_shots  \\\n",
       "0  Pittsburgh Penguins        away      3     34             11   \n",
       "1  Philadelphia Flyers        home      6     27             13   \n",
       "2   Chicago Blackhawks        away      1     23              7   \n",
       "3  Tampa Bay Lightning        home      5     33             12   \n",
       "4   Montréal Canadiens        away      4     32             22   \n",
       "\n",
       "   penalty_minutes  power_play_percentage  power_play_goals  \\\n",
       "0                6                   33.3               1.0   \n",
       "1                6                   66.7               2.0   \n",
       "2                8                   33.3               1.0   \n",
       "3                6                   50.0               2.0   \n",
       "4               13                   66.7               2.0   \n",
       "\n",
       "   power_play_chances  faceoff_percent  takeaways  giveaways  hits  goal_diff  \\\n",
       "0                 3.0             42.0          8         10    23         -3   \n",
       "1                 3.0             58.0          6         10    31          3   \n",
       "2                 3.0             49.1          4          1    14         -4   \n",
       "3                 4.0             50.9          4          1    16          4   \n",
       "4                 3.0             46.0          6         13    32         -1   \n",
       "\n",
       "   won  \n",
       "0   no  \n",
       "1  yes  \n",
       "2   no  \n",
       "3  yes  \n",
       "4   no  "
      ]
     },
     "execution_count": 3,
     "metadata": {},
     "output_type": "execute_result"
    }
   ],
   "source": [
    "model_2020.head()"
   ]
  },
  {
   "cell_type": "markdown",
   "metadata": {},
   "source": [
    "Adding game IDs to the box scores model. "
   ]
  },
  {
   "cell_type": "code",
   "execution_count": 4,
   "metadata": {
    "ExecuteTime": {
     "end_time": "2021-06-14T17:09:18.655524Z",
     "start_time": "2021-06-14T17:09:18.641512Z"
    }
   },
   "outputs": [],
   "source": [
    "game_id_list = []\n",
    "for i in range(1,10):\n",
    "    game_id_list.append(int(f'202002000{i}'))\n",
    "    game_id_list.append(int(f'202002000{i}'))\n",
    "for i in range(10,100):\n",
    "    game_id_list.append(int(f'20200200{i}'))\n",
    "    game_id_list.append(int(f'20200200{i}'))\n",
    "for i in range(100,869):\n",
    "    game_id_list.append(int(f'2020020{i}'))\n",
    "    game_id_list.append(int(f'2020020{i}'))    "
   ]
  },
  {
   "cell_type": "code",
   "execution_count": 5,
   "metadata": {
    "ExecuteTime": {
     "end_time": "2021-06-14T17:09:18.670537Z",
     "start_time": "2021-06-14T17:09:18.657526Z"
    }
   },
   "outputs": [],
   "source": [
    "model_2020['game_ids'] = game_id_list"
   ]
  },
  {
   "cell_type": "code",
   "execution_count": 6,
   "metadata": {
    "ExecuteTime": {
     "end_time": "2021-06-14T17:09:18.716578Z",
     "start_time": "2021-06-14T17:09:18.673542Z"
    }
   },
   "outputs": [
    {
     "data": {
      "text/html": [
       "<div>\n",
       "<style scoped>\n",
       "    .dataframe tbody tr th:only-of-type {\n",
       "        vertical-align: middle;\n",
       "    }\n",
       "\n",
       "    .dataframe tbody tr th {\n",
       "        vertical-align: top;\n",
       "    }\n",
       "\n",
       "    .dataframe thead th {\n",
       "        text-align: right;\n",
       "    }\n",
       "</style>\n",
       "<table border=\"1\" class=\"dataframe\">\n",
       "  <thead>\n",
       "    <tr style=\"text-align: right;\">\n",
       "      <th></th>\n",
       "      <th>team</th>\n",
       "      <th>home_status</th>\n",
       "      <th>goals</th>\n",
       "      <th>shots</th>\n",
       "      <th>blocked_shots</th>\n",
       "      <th>penalty_minutes</th>\n",
       "      <th>power_play_percentage</th>\n",
       "      <th>power_play_goals</th>\n",
       "      <th>power_play_chances</th>\n",
       "      <th>faceoff_percent</th>\n",
       "      <th>takeaways</th>\n",
       "      <th>giveaways</th>\n",
       "      <th>hits</th>\n",
       "      <th>goal_diff</th>\n",
       "      <th>won</th>\n",
       "      <th>game_ids</th>\n",
       "    </tr>\n",
       "  </thead>\n",
       "  <tbody>\n",
       "    <tr>\n",
       "      <th>0</th>\n",
       "      <td>Pittsburgh Penguins</td>\n",
       "      <td>away</td>\n",
       "      <td>3</td>\n",
       "      <td>34</td>\n",
       "      <td>11</td>\n",
       "      <td>6</td>\n",
       "      <td>33.3</td>\n",
       "      <td>1.0</td>\n",
       "      <td>3.0</td>\n",
       "      <td>42.0</td>\n",
       "      <td>8</td>\n",
       "      <td>10</td>\n",
       "      <td>23</td>\n",
       "      <td>-3</td>\n",
       "      <td>no</td>\n",
       "      <td>2020020001</td>\n",
       "    </tr>\n",
       "    <tr>\n",
       "      <th>1</th>\n",
       "      <td>Philadelphia Flyers</td>\n",
       "      <td>home</td>\n",
       "      <td>6</td>\n",
       "      <td>27</td>\n",
       "      <td>13</td>\n",
       "      <td>6</td>\n",
       "      <td>66.7</td>\n",
       "      <td>2.0</td>\n",
       "      <td>3.0</td>\n",
       "      <td>58.0</td>\n",
       "      <td>6</td>\n",
       "      <td>10</td>\n",
       "      <td>31</td>\n",
       "      <td>3</td>\n",
       "      <td>yes</td>\n",
       "      <td>2020020001</td>\n",
       "    </tr>\n",
       "    <tr>\n",
       "      <th>2</th>\n",
       "      <td>Chicago Blackhawks</td>\n",
       "      <td>away</td>\n",
       "      <td>1</td>\n",
       "      <td>23</td>\n",
       "      <td>7</td>\n",
       "      <td>8</td>\n",
       "      <td>33.3</td>\n",
       "      <td>1.0</td>\n",
       "      <td>3.0</td>\n",
       "      <td>49.1</td>\n",
       "      <td>4</td>\n",
       "      <td>1</td>\n",
       "      <td>14</td>\n",
       "      <td>-4</td>\n",
       "      <td>no</td>\n",
       "      <td>2020020002</td>\n",
       "    </tr>\n",
       "    <tr>\n",
       "      <th>3</th>\n",
       "      <td>Tampa Bay Lightning</td>\n",
       "      <td>home</td>\n",
       "      <td>5</td>\n",
       "      <td>33</td>\n",
       "      <td>12</td>\n",
       "      <td>6</td>\n",
       "      <td>50.0</td>\n",
       "      <td>2.0</td>\n",
       "      <td>4.0</td>\n",
       "      <td>50.9</td>\n",
       "      <td>4</td>\n",
       "      <td>1</td>\n",
       "      <td>16</td>\n",
       "      <td>4</td>\n",
       "      <td>yes</td>\n",
       "      <td>2020020002</td>\n",
       "    </tr>\n",
       "    <tr>\n",
       "      <th>4</th>\n",
       "      <td>Montréal Canadiens</td>\n",
       "      <td>away</td>\n",
       "      <td>4</td>\n",
       "      <td>32</td>\n",
       "      <td>22</td>\n",
       "      <td>13</td>\n",
       "      <td>66.7</td>\n",
       "      <td>2.0</td>\n",
       "      <td>3.0</td>\n",
       "      <td>46.0</td>\n",
       "      <td>6</td>\n",
       "      <td>13</td>\n",
       "      <td>32</td>\n",
       "      <td>-1</td>\n",
       "      <td>no</td>\n",
       "      <td>2020020003</td>\n",
       "    </tr>\n",
       "    <tr>\n",
       "      <th>...</th>\n",
       "      <td>...</td>\n",
       "      <td>...</td>\n",
       "      <td>...</td>\n",
       "      <td>...</td>\n",
       "      <td>...</td>\n",
       "      <td>...</td>\n",
       "      <td>...</td>\n",
       "      <td>...</td>\n",
       "      <td>...</td>\n",
       "      <td>...</td>\n",
       "      <td>...</td>\n",
       "      <td>...</td>\n",
       "      <td>...</td>\n",
       "      <td>...</td>\n",
       "      <td>...</td>\n",
       "      <td>...</td>\n",
       "    </tr>\n",
       "    <tr>\n",
       "      <th>1731</th>\n",
       "      <td>Vegas Golden Knights</td>\n",
       "      <td>home</td>\n",
       "      <td>4</td>\n",
       "      <td>29</td>\n",
       "      <td>17</td>\n",
       "      <td>10</td>\n",
       "      <td>25.0</td>\n",
       "      <td>1.0</td>\n",
       "      <td>4.0</td>\n",
       "      <td>42.9</td>\n",
       "      <td>9</td>\n",
       "      <td>2</td>\n",
       "      <td>25</td>\n",
       "      <td>3</td>\n",
       "      <td>yes</td>\n",
       "      <td>2020020866</td>\n",
       "    </tr>\n",
       "    <tr>\n",
       "      <th>1732</th>\n",
       "      <td>Colorado Avalanche</td>\n",
       "      <td>away</td>\n",
       "      <td>3</td>\n",
       "      <td>30</td>\n",
       "      <td>13</td>\n",
       "      <td>4</td>\n",
       "      <td>33.3</td>\n",
       "      <td>1.0</td>\n",
       "      <td>3.0</td>\n",
       "      <td>42.2</td>\n",
       "      <td>5</td>\n",
       "      <td>9</td>\n",
       "      <td>30</td>\n",
       "      <td>1</td>\n",
       "      <td>yes</td>\n",
       "      <td>2020020867</td>\n",
       "    </tr>\n",
       "    <tr>\n",
       "      <th>1733</th>\n",
       "      <td>Los Angeles Kings</td>\n",
       "      <td>home</td>\n",
       "      <td>2</td>\n",
       "      <td>18</td>\n",
       "      <td>12</td>\n",
       "      <td>6</td>\n",
       "      <td>0.0</td>\n",
       "      <td>0.0</td>\n",
       "      <td>2.0</td>\n",
       "      <td>57.8</td>\n",
       "      <td>1</td>\n",
       "      <td>7</td>\n",
       "      <td>23</td>\n",
       "      <td>-1</td>\n",
       "      <td>no</td>\n",
       "      <td>2020020867</td>\n",
       "    </tr>\n",
       "    <tr>\n",
       "      <th>1734</th>\n",
       "      <td>Arizona Coyotes</td>\n",
       "      <td>away</td>\n",
       "      <td>5</td>\n",
       "      <td>32</td>\n",
       "      <td>8</td>\n",
       "      <td>6</td>\n",
       "      <td>50.0</td>\n",
       "      <td>1.0</td>\n",
       "      <td>2.0</td>\n",
       "      <td>51.6</td>\n",
       "      <td>6</td>\n",
       "      <td>9</td>\n",
       "      <td>13</td>\n",
       "      <td>1</td>\n",
       "      <td>yes</td>\n",
       "      <td>2020020868</td>\n",
       "    </tr>\n",
       "    <tr>\n",
       "      <th>1735</th>\n",
       "      <td>San Jose Sharks</td>\n",
       "      <td>home</td>\n",
       "      <td>4</td>\n",
       "      <td>48</td>\n",
       "      <td>6</td>\n",
       "      <td>6</td>\n",
       "      <td>0.0</td>\n",
       "      <td>0.0</td>\n",
       "      <td>2.0</td>\n",
       "      <td>48.4</td>\n",
       "      <td>7</td>\n",
       "      <td>12</td>\n",
       "      <td>12</td>\n",
       "      <td>-1</td>\n",
       "      <td>no</td>\n",
       "      <td>2020020868</td>\n",
       "    </tr>\n",
       "  </tbody>\n",
       "</table>\n",
       "<p>1736 rows × 16 columns</p>\n",
       "</div>"
      ],
      "text/plain": [
       "                      team home_status  goals  shots  blocked_shots  \\\n",
       "0      Pittsburgh Penguins        away      3     34             11   \n",
       "1      Philadelphia Flyers        home      6     27             13   \n",
       "2       Chicago Blackhawks        away      1     23              7   \n",
       "3      Tampa Bay Lightning        home      5     33             12   \n",
       "4       Montréal Canadiens        away      4     32             22   \n",
       "...                    ...         ...    ...    ...            ...   \n",
       "1731  Vegas Golden Knights        home      4     29             17   \n",
       "1732    Colorado Avalanche        away      3     30             13   \n",
       "1733     Los Angeles Kings        home      2     18             12   \n",
       "1734       Arizona Coyotes        away      5     32              8   \n",
       "1735       San Jose Sharks        home      4     48              6   \n",
       "\n",
       "      penalty_minutes  power_play_percentage  power_play_goals  \\\n",
       "0                   6                   33.3               1.0   \n",
       "1                   6                   66.7               2.0   \n",
       "2                   8                   33.3               1.0   \n",
       "3                   6                   50.0               2.0   \n",
       "4                  13                   66.7               2.0   \n",
       "...               ...                    ...               ...   \n",
       "1731               10                   25.0               1.0   \n",
       "1732                4                   33.3               1.0   \n",
       "1733                6                    0.0               0.0   \n",
       "1734                6                   50.0               1.0   \n",
       "1735                6                    0.0               0.0   \n",
       "\n",
       "      power_play_chances  faceoff_percent  takeaways  giveaways  hits  \\\n",
       "0                    3.0             42.0          8         10    23   \n",
       "1                    3.0             58.0          6         10    31   \n",
       "2                    3.0             49.1          4          1    14   \n",
       "3                    4.0             50.9          4          1    16   \n",
       "4                    3.0             46.0          6         13    32   \n",
       "...                  ...              ...        ...        ...   ...   \n",
       "1731                 4.0             42.9          9          2    25   \n",
       "1732                 3.0             42.2          5          9    30   \n",
       "1733                 2.0             57.8          1          7    23   \n",
       "1734                 2.0             51.6          6          9    13   \n",
       "1735                 2.0             48.4          7         12    12   \n",
       "\n",
       "      goal_diff  won    game_ids  \n",
       "0            -3   no  2020020001  \n",
       "1             3  yes  2020020001  \n",
       "2            -4   no  2020020002  \n",
       "3             4  yes  2020020002  \n",
       "4            -1   no  2020020003  \n",
       "...         ...  ...         ...  \n",
       "1731          3  yes  2020020866  \n",
       "1732          1  yes  2020020867  \n",
       "1733         -1   no  2020020867  \n",
       "1734          1  yes  2020020868  \n",
       "1735         -1   no  2020020868  \n",
       "\n",
       "[1736 rows x 16 columns]"
      ]
     },
     "execution_count": 6,
     "metadata": {},
     "output_type": "execute_result"
    }
   ],
   "source": [
    "model_2020"
   ]
  },
  {
   "cell_type": "code",
   "execution_count": 7,
   "metadata": {
    "ExecuteTime": {
     "end_time": "2021-06-14T17:09:19.041984Z",
     "start_time": "2021-06-14T17:09:18.719580Z"
    }
   },
   "outputs": [],
   "source": [
    "all_game_events = pd.read_csv('./data_frames/all_game_events_2020.csv')"
   ]
  },
  {
   "cell_type": "code",
   "execution_count": 8,
   "metadata": {
    "ExecuteTime": {
     "end_time": "2021-06-14T17:09:19.072816Z",
     "start_time": "2021-06-14T17:09:19.043985Z"
    }
   },
   "outputs": [],
   "source": [
    "all_game_events.drop(columns=['Unnamed: 0', 'score'], inplace=True)"
   ]
  },
  {
   "cell_type": "code",
   "execution_count": 9,
   "metadata": {
    "ExecuteTime": {
     "end_time": "2021-06-14T17:09:19.088831Z",
     "start_time": "2021-06-14T17:09:19.073818Z"
    }
   },
   "outputs": [
    {
     "data": {
      "text/plain": [
       "(264311, 8)"
      ]
     },
     "execution_count": 9,
     "metadata": {},
     "output_type": "execute_result"
    }
   ],
   "source": [
    "all_game_events.shape"
   ]
  },
  {
   "cell_type": "code",
   "execution_count": 10,
   "metadata": {
    "ExecuteTime": {
     "end_time": "2021-06-14T17:09:19.103844Z",
     "start_time": "2021-06-14T17:09:19.089832Z"
    }
   },
   "outputs": [
    {
     "data": {
      "text/html": [
       "<div>\n",
       "<style scoped>\n",
       "    .dataframe tbody tr th:only-of-type {\n",
       "        vertical-align: middle;\n",
       "    }\n",
       "\n",
       "    .dataframe tbody tr th {\n",
       "        vertical-align: top;\n",
       "    }\n",
       "\n",
       "    .dataframe thead th {\n",
       "        text-align: right;\n",
       "    }\n",
       "</style>\n",
       "<table border=\"1\" class=\"dataframe\">\n",
       "  <thead>\n",
       "    <tr style=\"text-align: right;\">\n",
       "      <th></th>\n",
       "      <th>event</th>\n",
       "      <th>team</th>\n",
       "      <th>x_coordinate</th>\n",
       "      <th>y_coordinate</th>\n",
       "      <th>period</th>\n",
       "      <th>period_time</th>\n",
       "      <th>game_id</th>\n",
       "      <th>home_team</th>\n",
       "    </tr>\n",
       "  </thead>\n",
       "  <tbody>\n",
       "    <tr>\n",
       "      <th>264306</th>\n",
       "      <td>Goal</td>\n",
       "      <td>Arizona Coyotes</td>\n",
       "      <td>76.0</td>\n",
       "      <td>-15.0</td>\n",
       "      <td>4</td>\n",
       "      <td>02:30</td>\n",
       "      <td>2020020868</td>\n",
       "      <td>San Jose Sharks</td>\n",
       "    </tr>\n",
       "    <tr>\n",
       "      <th>264307</th>\n",
       "      <td>Period End</td>\n",
       "      <td>NaN</td>\n",
       "      <td>NaN</td>\n",
       "      <td>NaN</td>\n",
       "      <td>4</td>\n",
       "      <td>02:30</td>\n",
       "      <td>2020020868</td>\n",
       "      <td>San Jose Sharks</td>\n",
       "    </tr>\n",
       "    <tr>\n",
       "      <th>264308</th>\n",
       "      <td>Period Official</td>\n",
       "      <td>NaN</td>\n",
       "      <td>NaN</td>\n",
       "      <td>NaN</td>\n",
       "      <td>4</td>\n",
       "      <td>02:30</td>\n",
       "      <td>2020020868</td>\n",
       "      <td>San Jose Sharks</td>\n",
       "    </tr>\n",
       "    <tr>\n",
       "      <th>264309</th>\n",
       "      <td>Game End</td>\n",
       "      <td>NaN</td>\n",
       "      <td>NaN</td>\n",
       "      <td>NaN</td>\n",
       "      <td>4</td>\n",
       "      <td>02:30</td>\n",
       "      <td>2020020868</td>\n",
       "      <td>San Jose Sharks</td>\n",
       "    </tr>\n",
       "    <tr>\n",
       "      <th>264310</th>\n",
       "      <td>Game Official</td>\n",
       "      <td>NaN</td>\n",
       "      <td>NaN</td>\n",
       "      <td>NaN</td>\n",
       "      <td>4</td>\n",
       "      <td>02:30</td>\n",
       "      <td>2020020868</td>\n",
       "      <td>San Jose Sharks</td>\n",
       "    </tr>\n",
       "  </tbody>\n",
       "</table>\n",
       "</div>"
      ],
      "text/plain": [
       "                  event             team  x_coordinate  y_coordinate  period  \\\n",
       "264306             Goal  Arizona Coyotes          76.0         -15.0       4   \n",
       "264307       Period End              NaN           NaN           NaN       4   \n",
       "264308  Period Official              NaN           NaN           NaN       4   \n",
       "264309         Game End              NaN           NaN           NaN       4   \n",
       "264310    Game Official              NaN           NaN           NaN       4   \n",
       "\n",
       "       period_time     game_id        home_team  \n",
       "264306       02:30  2020020868  San Jose Sharks  \n",
       "264307       02:30  2020020868  San Jose Sharks  \n",
       "264308       02:30  2020020868  San Jose Sharks  \n",
       "264309       02:30  2020020868  San Jose Sharks  \n",
       "264310       02:30  2020020868  San Jose Sharks  "
      ]
     },
     "execution_count": 10,
     "metadata": {},
     "output_type": "execute_result"
    }
   ],
   "source": [
    "all_game_events.tail(5)"
   ]
  },
  {
   "cell_type": "code",
   "execution_count": 11,
   "metadata": {
    "ExecuteTime": {
     "end_time": "2021-06-14T17:09:19.118857Z",
     "start_time": "2021-06-14T17:09:19.105846Z"
    }
   },
   "outputs": [
    {
     "data": {
      "text/plain": [
       "(264311, 8)"
      ]
     },
     "execution_count": 11,
     "metadata": {},
     "output_type": "execute_result"
    }
   ],
   "source": [
    "all_game_events.shape"
   ]
  },
  {
   "cell_type": "code",
   "execution_count": 12,
   "metadata": {
    "ExecuteTime": {
     "end_time": "2021-06-14T17:09:19.165899Z",
     "start_time": "2021-06-14T17:09:19.120859Z"
    },
    "scrolled": false
   },
   "outputs": [
    {
     "data": {
      "text/plain": [
       "Faceoff                     48837\n",
       "Shot                        47658\n",
       "Hit                         38783\n",
       "Stoppage                    37823\n",
       "Blocked Shot                22763\n",
       "Missed Shot                 19533\n",
       "Giveaway                    15234\n",
       "Takeaway                    10618\n",
       "Penalty                      6065\n",
       "Goal                         5222\n",
       "Period End                   2892\n",
       "Period Official              2892\n",
       "Period Start                 2040\n",
       "Period Ready                 2019\n",
       "Game End                      876\n",
       "Game Official                 869\n",
       "Official Challenge            108\n",
       "Shootout Complete              75\n",
       "Emergency Goaltender            2\n",
       "Early Intermission Start        1\n",
       "Early Intermission End          1\n",
       "Name: event, dtype: int64"
      ]
     },
     "execution_count": 12,
     "metadata": {},
     "output_type": "execute_result"
    }
   ],
   "source": [
    "all_game_events['event'].value_counts()"
   ]
  },
  {
   "cell_type": "markdown",
   "metadata": {},
   "source": [
    "engineered features: ice tilt"
   ]
  },
  {
   "cell_type": "markdown",
   "metadata": {},
   "source": [
    "Need to inverse the x coordinate numbers for the second period, since the teams change sides but the coordinates remain the same. "
   ]
  },
  {
   "cell_type": "code",
   "execution_count": 21,
   "metadata": {
    "ExecuteTime": {
     "end_time": "2021-06-14T17:09:19.447827Z",
     "start_time": "2021-06-14T17:09:19.436818Z"
    }
   },
   "outputs": [],
   "source": [
    "#https://datascience.stackexchange.com/questions/56668/pandas-change-value-of-a-column-based-another-column-condition"
   ]
  },
  {
   "cell_type": "code",
   "execution_count": 31,
   "metadata": {
    "ExecuteTime": {
     "end_time": "2021-06-14T17:09:19.603965Z",
     "start_time": "2021-06-14T17:09:19.590953Z"
    }
   },
   "outputs": [],
   "source": [
    "game_id_list_single = []\n",
    "for i in range(1,10):\n",
    "    game_id_list_single.append(int(f'202002000{i}'))\n",
    "for i in range(10,100):\n",
    "    game_id_list_single.append(int(f'20200200{i}'))\n",
    "for i in range(100,869):\n",
    "    game_id_list_single.append(int(f'2020020{i}')) "
   ]
  },
  {
   "cell_type": "code",
   "execution_count": 32,
   "metadata": {
    "ExecuteTime": {
     "end_time": "2021-06-14T17:09:19.618978Z",
     "start_time": "2021-06-14T17:09:19.605967Z"
    }
   },
   "outputs": [],
   "source": [
    "# function that creates the ice tilt for games within a list of game ID's. \n",
    "# code/inspiration for the mask #https://datascience.stackexchange.com/questions/56668/pandas-change-value-of-a-column-based-another-column-condition\n",
    "def ice_tilt(game_ids):\n",
    "    ice_tilt_list = []\n",
    "    for i in game_ids:\n",
    "        game_df = all_game_events[all_game_events['game_id'] == i].copy()\n",
    "        game_ice_tilt = game_df[(game_df['event'] == 'Faceoff') | (game_df['event'] == 'Shot') | (game_df['event'] == 'Hit') | (game_df['event'] == 'Missed Shot')]                \n",
    "        mask = (game_ice_tilt['period']==2)\n",
    "        game_ice_tilt['x_coordinate'][mask] = game_ice_tilt['x_coordinate'] * -1\n",
    "        tilt = game_ice_tilt['x_coordinate'].sum()\n",
    "        ice_tilt_list.append(tilt)\n",
    "    return ice_tilt_list"
   ]
  },
  {
   "cell_type": "code",
   "execution_count": 33,
   "metadata": {
    "ExecuteTime": {
     "end_time": "2021-06-14T17:09:23.374373Z",
     "start_time": "2021-06-14T17:09:19.620980Z"
    }
   },
   "outputs": [],
   "source": [
    "full_tilt = ice_tilt(game_id_list_single)"
   ]
  },
  {
   "cell_type": "markdown",
   "metadata": {},
   "source": [
    "Get the differences in the stats for each game, able to use the data frame structure here to complete this task easily. "
   ]
  },
  {
   "cell_type": "code",
   "execution_count": 42,
   "metadata": {
    "ExecuteTime": {
     "end_time": "2021-06-14T17:09:26.564489Z",
     "start_time": "2021-06-14T17:09:23.515519Z"
    }
   },
   "outputs": [],
   "source": [
    "game_difference_df = pd.DataFrame()\n",
    "a=0\n",
    "for i in range(1,1736,2):\n",
    "        game_info = model_2020.iloc[i][13:].to_dict()\n",
    "        game_stats = model_2020.iloc[i][2:13] -  model_2020.iloc[i-1][2:13]\n",
    "        game_info.update(game_stats.to_dict())\n",
    "        temp_diff = pd.DataFrame(game_info, index=[a])\n",
    "        game_difference_df = pd.concat([game_difference_df, temp_diff], axis=0, ignore_index=True)\n",
    "        a += 1    "
   ]
  },
  {
   "cell_type": "code",
   "execution_count": 43,
   "metadata": {
    "ExecuteTime": {
     "end_time": "2021-06-14T17:09:26.595518Z",
     "start_time": "2021-06-14T17:09:26.566494Z"
    },
    "scrolled": false
   },
   "outputs": [
    {
     "data": {
      "text/html": [
       "<div>\n",
       "<style scoped>\n",
       "    .dataframe tbody tr th:only-of-type {\n",
       "        vertical-align: middle;\n",
       "    }\n",
       "\n",
       "    .dataframe tbody tr th {\n",
       "        vertical-align: top;\n",
       "    }\n",
       "\n",
       "    .dataframe thead th {\n",
       "        text-align: right;\n",
       "    }\n",
       "</style>\n",
       "<table border=\"1\" class=\"dataframe\">\n",
       "  <thead>\n",
       "    <tr style=\"text-align: right;\">\n",
       "      <th></th>\n",
       "      <th>goal_diff</th>\n",
       "      <th>won</th>\n",
       "      <th>game_ids</th>\n",
       "      <th>goals</th>\n",
       "      <th>shots</th>\n",
       "      <th>blocked_shots</th>\n",
       "      <th>penalty_minutes</th>\n",
       "      <th>power_play_percentage</th>\n",
       "      <th>power_play_goals</th>\n",
       "      <th>power_play_chances</th>\n",
       "      <th>faceoff_percent</th>\n",
       "      <th>takeaways</th>\n",
       "      <th>giveaways</th>\n",
       "      <th>hits</th>\n",
       "    </tr>\n",
       "  </thead>\n",
       "  <tbody>\n",
       "    <tr>\n",
       "      <th>0</th>\n",
       "      <td>3</td>\n",
       "      <td>yes</td>\n",
       "      <td>2020020001</td>\n",
       "      <td>3</td>\n",
       "      <td>-7</td>\n",
       "      <td>2</td>\n",
       "      <td>0</td>\n",
       "      <td>33.4</td>\n",
       "      <td>1.0</td>\n",
       "      <td>0.0</td>\n",
       "      <td>16.0</td>\n",
       "      <td>-2</td>\n",
       "      <td>0</td>\n",
       "      <td>8</td>\n",
       "    </tr>\n",
       "    <tr>\n",
       "      <th>1</th>\n",
       "      <td>4</td>\n",
       "      <td>yes</td>\n",
       "      <td>2020020002</td>\n",
       "      <td>4</td>\n",
       "      <td>10</td>\n",
       "      <td>5</td>\n",
       "      <td>-2</td>\n",
       "      <td>16.7</td>\n",
       "      <td>1.0</td>\n",
       "      <td>1.0</td>\n",
       "      <td>1.8</td>\n",
       "      <td>0</td>\n",
       "      <td>0</td>\n",
       "      <td>2</td>\n",
       "    </tr>\n",
       "    <tr>\n",
       "      <th>2</th>\n",
       "      <td>1</td>\n",
       "      <td>yes</td>\n",
       "      <td>2020020003</td>\n",
       "      <td>1</td>\n",
       "      <td>2</td>\n",
       "      <td>-5</td>\n",
       "      <td>-2</td>\n",
       "      <td>-16.7</td>\n",
       "      <td>0.0</td>\n",
       "      <td>1.0</td>\n",
       "      <td>8.0</td>\n",
       "      <td>-1</td>\n",
       "      <td>-4</td>\n",
       "      <td>-18</td>\n",
       "    </tr>\n",
       "    <tr>\n",
       "      <th>3</th>\n",
       "      <td>-2</td>\n",
       "      <td>no</td>\n",
       "      <td>2020020004</td>\n",
       "      <td>-2</td>\n",
       "      <td>-4</td>\n",
       "      <td>3</td>\n",
       "      <td>-4</td>\n",
       "      <td>0.0</td>\n",
       "      <td>0.0</td>\n",
       "      <td>2.0</td>\n",
       "      <td>3.6</td>\n",
       "      <td>-1</td>\n",
       "      <td>4</td>\n",
       "      <td>-1</td>\n",
       "    </tr>\n",
       "    <tr>\n",
       "      <th>4</th>\n",
       "      <td>-3</td>\n",
       "      <td>no</td>\n",
       "      <td>2020020005</td>\n",
       "      <td>-3</td>\n",
       "      <td>-5</td>\n",
       "      <td>-8</td>\n",
       "      <td>-4</td>\n",
       "      <td>25.0</td>\n",
       "      <td>1.0</td>\n",
       "      <td>2.0</td>\n",
       "      <td>8.8</td>\n",
       "      <td>3</td>\n",
       "      <td>5</td>\n",
       "      <td>1</td>\n",
       "    </tr>\n",
       "    <tr>\n",
       "      <th>...</th>\n",
       "      <td>...</td>\n",
       "      <td>...</td>\n",
       "      <td>...</td>\n",
       "      <td>...</td>\n",
       "      <td>...</td>\n",
       "      <td>...</td>\n",
       "      <td>...</td>\n",
       "      <td>...</td>\n",
       "      <td>...</td>\n",
       "      <td>...</td>\n",
       "      <td>...</td>\n",
       "      <td>...</td>\n",
       "      <td>...</td>\n",
       "      <td>...</td>\n",
       "    </tr>\n",
       "    <tr>\n",
       "      <th>863</th>\n",
       "      <td>2</td>\n",
       "      <td>yes</td>\n",
       "      <td>2020020864</td>\n",
       "      <td>2</td>\n",
       "      <td>-16</td>\n",
       "      <td>2</td>\n",
       "      <td>0</td>\n",
       "      <td>0.0</td>\n",
       "      <td>0.0</td>\n",
       "      <td>0.0</td>\n",
       "      <td>-5.0</td>\n",
       "      <td>-3</td>\n",
       "      <td>0</td>\n",
       "      <td>-9</td>\n",
       "    </tr>\n",
       "    <tr>\n",
       "      <th>864</th>\n",
       "      <td>1</td>\n",
       "      <td>yes</td>\n",
       "      <td>2020020865</td>\n",
       "      <td>1</td>\n",
       "      <td>3</td>\n",
       "      <td>7</td>\n",
       "      <td>-6</td>\n",
       "      <td>25.0</td>\n",
       "      <td>1.0</td>\n",
       "      <td>3.0</td>\n",
       "      <td>-1.8</td>\n",
       "      <td>7</td>\n",
       "      <td>3</td>\n",
       "      <td>1</td>\n",
       "    </tr>\n",
       "    <tr>\n",
       "      <th>865</th>\n",
       "      <td>3</td>\n",
       "      <td>yes</td>\n",
       "      <td>2020020866</td>\n",
       "      <td>3</td>\n",
       "      <td>8</td>\n",
       "      <td>-1</td>\n",
       "      <td>-2</td>\n",
       "      <td>25.0</td>\n",
       "      <td>1.0</td>\n",
       "      <td>1.0</td>\n",
       "      <td>-14.2</td>\n",
       "      <td>0</td>\n",
       "      <td>-9</td>\n",
       "      <td>-17</td>\n",
       "    </tr>\n",
       "    <tr>\n",
       "      <th>866</th>\n",
       "      <td>-1</td>\n",
       "      <td>no</td>\n",
       "      <td>2020020867</td>\n",
       "      <td>-1</td>\n",
       "      <td>-12</td>\n",
       "      <td>-1</td>\n",
       "      <td>2</td>\n",
       "      <td>-33.3</td>\n",
       "      <td>-1.0</td>\n",
       "      <td>-1.0</td>\n",
       "      <td>15.6</td>\n",
       "      <td>-4</td>\n",
       "      <td>-2</td>\n",
       "      <td>-7</td>\n",
       "    </tr>\n",
       "    <tr>\n",
       "      <th>867</th>\n",
       "      <td>-1</td>\n",
       "      <td>no</td>\n",
       "      <td>2020020868</td>\n",
       "      <td>-1</td>\n",
       "      <td>16</td>\n",
       "      <td>-2</td>\n",
       "      <td>0</td>\n",
       "      <td>-50.0</td>\n",
       "      <td>-1.0</td>\n",
       "      <td>0.0</td>\n",
       "      <td>-3.2</td>\n",
       "      <td>1</td>\n",
       "      <td>3</td>\n",
       "      <td>-1</td>\n",
       "    </tr>\n",
       "  </tbody>\n",
       "</table>\n",
       "<p>868 rows × 14 columns</p>\n",
       "</div>"
      ],
      "text/plain": [
       "     goal_diff  won    game_ids  goals  shots  blocked_shots  penalty_minutes  \\\n",
       "0            3  yes  2020020001      3     -7              2                0   \n",
       "1            4  yes  2020020002      4     10              5               -2   \n",
       "2            1  yes  2020020003      1      2             -5               -2   \n",
       "3           -2   no  2020020004     -2     -4              3               -4   \n",
       "4           -3   no  2020020005     -3     -5             -8               -4   \n",
       "..         ...  ...         ...    ...    ...            ...              ...   \n",
       "863          2  yes  2020020864      2    -16              2                0   \n",
       "864          1  yes  2020020865      1      3              7               -6   \n",
       "865          3  yes  2020020866      3      8             -1               -2   \n",
       "866         -1   no  2020020867     -1    -12             -1                2   \n",
       "867         -1   no  2020020868     -1     16             -2                0   \n",
       "\n",
       "     power_play_percentage  power_play_goals  power_play_chances  \\\n",
       "0                     33.4               1.0                 0.0   \n",
       "1                     16.7               1.0                 1.0   \n",
       "2                    -16.7               0.0                 1.0   \n",
       "3                      0.0               0.0                 2.0   \n",
       "4                     25.0               1.0                 2.0   \n",
       "..                     ...               ...                 ...   \n",
       "863                    0.0               0.0                 0.0   \n",
       "864                   25.0               1.0                 3.0   \n",
       "865                   25.0               1.0                 1.0   \n",
       "866                  -33.3              -1.0                -1.0   \n",
       "867                  -50.0              -1.0                 0.0   \n",
       "\n",
       "     faceoff_percent  takeaways  giveaways  hits  \n",
       "0               16.0         -2          0     8  \n",
       "1                1.8          0          0     2  \n",
       "2                8.0         -1         -4   -18  \n",
       "3                3.6         -1          4    -1  \n",
       "4                8.8          3          5     1  \n",
       "..               ...        ...        ...   ...  \n",
       "863             -5.0         -3          0    -9  \n",
       "864             -1.8          7          3     1  \n",
       "865            -14.2          0         -9   -17  \n",
       "866             15.6         -4         -2    -7  \n",
       "867             -3.2          1          3    -1  \n",
       "\n",
       "[868 rows x 14 columns]"
      ]
     },
     "execution_count": 43,
     "metadata": {},
     "output_type": "execute_result"
    }
   ],
   "source": [
    "game_difference_df.head()"
   ]
  },
  {
   "cell_type": "markdown",
   "metadata": {},
   "source": [
    "Need to invert the ice tilt, in order to make it positive for the home team."
   ]
  },
  {
   "cell_type": "code",
   "execution_count": null,
   "metadata": {},
   "outputs": [],
   "source": []
  },
  {
   "cell_type": "code",
   "execution_count": 44,
   "metadata": {
    "ExecuteTime": {
     "end_time": "2021-06-14T17:09:26.611532Z",
     "start_time": "2021-06-14T17:09:26.597519Z"
    }
   },
   "outputs": [],
   "source": [
    "full_tilt = [-1 * x for x in full_tilt]"
   ]
  },
  {
   "cell_type": "code",
   "execution_count": 45,
   "metadata": {
    "ExecuteTime": {
     "end_time": "2021-06-14T17:09:26.627546Z",
     "start_time": "2021-06-14T17:09:26.613533Z"
    }
   },
   "outputs": [],
   "source": [
    "game_difference_df['ice_tilt'] = full_tilt"
   ]
  },
  {
   "cell_type": "code",
   "execution_count": 46,
   "metadata": {
    "ExecuteTime": {
     "end_time": "2021-06-14T17:09:26.642560Z",
     "start_time": "2021-06-14T17:09:26.629549Z"
    }
   },
   "outputs": [
    {
     "data": {
      "text/html": [
       "<div>\n",
       "<style scoped>\n",
       "    .dataframe tbody tr th:only-of-type {\n",
       "        vertical-align: middle;\n",
       "    }\n",
       "\n",
       "    .dataframe tbody tr th {\n",
       "        vertical-align: top;\n",
       "    }\n",
       "\n",
       "    .dataframe thead th {\n",
       "        text-align: right;\n",
       "    }\n",
       "</style>\n",
       "<table border=\"1\" class=\"dataframe\">\n",
       "  <thead>\n",
       "    <tr style=\"text-align: right;\">\n",
       "      <th></th>\n",
       "      <th>goal_diff</th>\n",
       "      <th>won</th>\n",
       "      <th>game_ids</th>\n",
       "      <th>goals</th>\n",
       "      <th>shots</th>\n",
       "      <th>blocked_shots</th>\n",
       "      <th>penalty_minutes</th>\n",
       "      <th>power_play_percentage</th>\n",
       "      <th>power_play_goals</th>\n",
       "      <th>power_play_chances</th>\n",
       "      <th>faceoff_percent</th>\n",
       "      <th>takeaways</th>\n",
       "      <th>giveaways</th>\n",
       "      <th>hits</th>\n",
       "      <th>ice_tilt</th>\n",
       "    </tr>\n",
       "  </thead>\n",
       "  <tbody>\n",
       "    <tr>\n",
       "      <th>0</th>\n",
       "      <td>3</td>\n",
       "      <td>yes</td>\n",
       "      <td>2020020001</td>\n",
       "      <td>3</td>\n",
       "      <td>-7</td>\n",
       "      <td>2</td>\n",
       "      <td>0</td>\n",
       "      <td>33.4</td>\n",
       "      <td>1.0</td>\n",
       "      <td>0.0</td>\n",
       "      <td>16.0</td>\n",
       "      <td>-2</td>\n",
       "      <td>0</td>\n",
       "      <td>8</td>\n",
       "      <td>-1058.0</td>\n",
       "    </tr>\n",
       "    <tr>\n",
       "      <th>1</th>\n",
       "      <td>4</td>\n",
       "      <td>yes</td>\n",
       "      <td>2020020002</td>\n",
       "      <td>4</td>\n",
       "      <td>10</td>\n",
       "      <td>5</td>\n",
       "      <td>-2</td>\n",
       "      <td>16.7</td>\n",
       "      <td>1.0</td>\n",
       "      <td>1.0</td>\n",
       "      <td>1.8</td>\n",
       "      <td>0</td>\n",
       "      <td>0</td>\n",
       "      <td>2</td>\n",
       "      <td>89.0</td>\n",
       "    </tr>\n",
       "    <tr>\n",
       "      <th>2</th>\n",
       "      <td>1</td>\n",
       "      <td>yes</td>\n",
       "      <td>2020020003</td>\n",
       "      <td>1</td>\n",
       "      <td>2</td>\n",
       "      <td>-5</td>\n",
       "      <td>-2</td>\n",
       "      <td>-16.7</td>\n",
       "      <td>0.0</td>\n",
       "      <td>1.0</td>\n",
       "      <td>8.0</td>\n",
       "      <td>-1</td>\n",
       "      <td>-4</td>\n",
       "      <td>-18</td>\n",
       "      <td>1328.0</td>\n",
       "    </tr>\n",
       "    <tr>\n",
       "      <th>3</th>\n",
       "      <td>-2</td>\n",
       "      <td>no</td>\n",
       "      <td>2020020004</td>\n",
       "      <td>-2</td>\n",
       "      <td>-4</td>\n",
       "      <td>3</td>\n",
       "      <td>-4</td>\n",
       "      <td>0.0</td>\n",
       "      <td>0.0</td>\n",
       "      <td>2.0</td>\n",
       "      <td>3.6</td>\n",
       "      <td>-1</td>\n",
       "      <td>4</td>\n",
       "      <td>-1</td>\n",
       "      <td>695.0</td>\n",
       "    </tr>\n",
       "    <tr>\n",
       "      <th>4</th>\n",
       "      <td>-3</td>\n",
       "      <td>no</td>\n",
       "      <td>2020020005</td>\n",
       "      <td>-3</td>\n",
       "      <td>-5</td>\n",
       "      <td>-8</td>\n",
       "      <td>-4</td>\n",
       "      <td>25.0</td>\n",
       "      <td>1.0</td>\n",
       "      <td>2.0</td>\n",
       "      <td>8.8</td>\n",
       "      <td>3</td>\n",
       "      <td>5</td>\n",
       "      <td>1</td>\n",
       "      <td>405.0</td>\n",
       "    </tr>\n",
       "  </tbody>\n",
       "</table>\n",
       "</div>"
      ],
      "text/plain": [
       "   goal_diff  won    game_ids  goals  shots  blocked_shots  penalty_minutes  \\\n",
       "0          3  yes  2020020001      3     -7              2                0   \n",
       "1          4  yes  2020020002      4     10              5               -2   \n",
       "2          1  yes  2020020003      1      2             -5               -2   \n",
       "3         -2   no  2020020004     -2     -4              3               -4   \n",
       "4         -3   no  2020020005     -3     -5             -8               -4   \n",
       "\n",
       "   power_play_percentage  power_play_goals  power_play_chances  \\\n",
       "0                   33.4               1.0                 0.0   \n",
       "1                   16.7               1.0                 1.0   \n",
       "2                  -16.7               0.0                 1.0   \n",
       "3                    0.0               0.0                 2.0   \n",
       "4                   25.0               1.0                 2.0   \n",
       "\n",
       "   faceoff_percent  takeaways  giveaways  hits  ice_tilt  \n",
       "0             16.0         -2          0     8   -1058.0  \n",
       "1              1.8          0          0     2      89.0  \n",
       "2              8.0         -1         -4   -18    1328.0  \n",
       "3              3.6         -1          4    -1     695.0  \n",
       "4              8.8          3          5     1     405.0  "
      ]
     },
     "execution_count": 46,
     "metadata": {},
     "output_type": "execute_result"
    }
   ],
   "source": [
    "game_difference_df.head()"
   ]
  },
  {
   "cell_type": "code",
   "execution_count": 47,
   "metadata": {
    "ExecuteTime": {
     "end_time": "2021-06-14T17:09:26.657572Z",
     "start_time": "2021-06-14T17:09:26.644564Z"
    }
   },
   "outputs": [],
   "source": [
    "#game_difference_df.to_csv('./data_frames/game_stats_differences_2020.csv', index=False)"
   ]
  },
  {
   "cell_type": "code",
   "execution_count": 48,
   "metadata": {
    "ExecuteTime": {
     "end_time": "2021-06-14T17:09:26.672585Z",
     "start_time": "2021-06-14T17:09:26.658573Z"
    },
    "scrolled": false
   },
   "outputs": [
    {
     "data": {
      "text/plain": [
       "no     436\n",
       "yes    432\n",
       "Name: won, dtype: int64"
      ]
     },
     "execution_count": 48,
     "metadata": {},
     "output_type": "execute_result"
    }
   ],
   "source": [
    "game_difference_df['won'].value_counts()"
   ]
  },
  {
   "cell_type": "markdown",
   "metadata": {},
   "source": [
    "This will be the main modeling data frame for training on data frame differences of full game stats. It is based off of home team stats differentials. positive numbers mean the home team has more stats in the value, and negative means they are trailing in that stat. "
   ]
  },
  {
   "cell_type": "markdown",
   "metadata": {},
   "source": [
    "multiple model approach DFs"
   ]
  },
  {
   "cell_type": "markdown",
   "metadata": {},
   "source": [
    "Creating models for each time step during a game. This will be a dataframe that has the differences in stats at 2 minute intervals for the entire season of 2020-2021. The first data frame will be the stats difference for every game 2 minutes in, and the next one 4 minutes in until the game is over. "
   ]
  },
  {
   "cell_type": "code",
   "execution_count": 52,
   "metadata": {
    "ExecuteTime": {
     "end_time": "2021-06-14T17:09:26.749668Z",
     "start_time": "2021-06-14T17:09:26.736654Z"
    }
   },
   "outputs": [],
   "source": [
    "#turn the period time column, which is a string into an int so we can filter on it. \n",
    "def time_to_int(column):\n",
    "    output_list = []\n",
    "    for i in [x for x in column]:\n",
    "        numeric_time = []\n",
    "        for digit in i:\n",
    "            if digit != \":\":\n",
    "                numeric_time.append((digit))\n",
    "            if len(numeric_time) == 4:\n",
    "                numeric_time = \"\".join(numeric_time)\n",
    "                int(numeric_time)\n",
    "        output_list.append(numeric_time)  \n",
    "    output_list = [int(x) for x in output_list]\n",
    "    return output_list\n",
    "        "
   ]
  },
  {
   "cell_type": "code",
   "execution_count": 55,
   "metadata": {
    "ExecuteTime": {
     "end_time": "2021-06-14T17:09:26.795572Z",
     "start_time": "2021-06-14T17:09:26.782696Z"
    }
   },
   "outputs": [],
   "source": [
    "# adjust the period time column as an int, so that it has the total game time, not just the period time. \n",
    "def period_time_to_full_time(df):\n",
    "    first_period = df[df['period'] == 1]\n",
    "    second_period = df[df['period'] == 2]\n",
    "    third_period = df[df['period'] == 3]\n",
    "    second_period['period_time_int'] = second_period['period_time_int'] + 2000\n",
    "    third_period['period_time_int'] = third_period['period_time_int'] + 4000\n",
    "    output_df = pd.concat([first_period,second_period], axis=0, ignore_index=True)\n",
    "    output_df = pd.concat([output_df,third_period], axis=0, ignore_index=True)\n",
    "    return output_df\n",
    "    "
   ]
  },
  {
   "cell_type": "code",
   "execution_count": 65,
   "metadata": {
    "ExecuteTime": {
     "end_time": "2021-06-14T17:09:26.969735Z",
     "start_time": "2021-06-14T17:09:26.954723Z"
    }
   },
   "outputs": [],
   "source": [
    "# function that returns a two column data frame for the given time interval. the home team stats and \n",
    "# away team stats \n",
    "def minutes_into_game_df(df, minute_interval = 200):\n",
    "    events = df[df['period_time_int'] <= minute_interval]\n",
    "\n",
    "    events_home = events[events['team'] == events['home_team']]\n",
    "    events_home_dict = events_home.groupby('event').count()['team'].to_dict()\n",
    "    ice_tilt_minutes = events_home.groupby('event')['x_coordinate'].sum().sum()\n",
    "    base_dic_home = {\n",
    "    'Goal':0, 'Shot':0, 'Blocked Shot': 0,\n",
    "    'Faceoff':0 , 'Takeaway':0, 'Giveaway': 0,\n",
    "    'Hit': 0, 'Missed Shot':0, 'Penalty': 0, 'Stoppage':0\n",
    "    }\n",
    "    base_dic_home.update(events_home_dict)\n",
    "\n",
    "    events_away = events[events['team'] != events['home_team']]\n",
    "    events_away_dict = events_away.groupby('event').count()['team'].to_dict()\n",
    "    ice_tilt_minutes = events_away.groupby('event')['x_coordinate'].sum().sum()\n",
    "    base_dic_away = {\n",
    "    'Goal':0, 'Shot':0, 'Blocked Shot': 0,\n",
    "    'Faceoff':0 , 'Takeaway':0, 'Giveaway': 0,\n",
    "    'Hit': 0, 'Missed Shot':0, 'Penalty': 0, 'Stoppage':0\n",
    "    }\n",
    "    base_dic_away.update(events_away_dict)\n",
    "    output_df = pd.DataFrame(base_dic_away, index=[0])\n",
    "    concat_df = pd.DataFrame(base_dic_home, index=[1])\n",
    "    output_df = pd.concat([output_df,concat_df], axis=0, ignore_index=True)\n",
    "    return output_df\n"
   ]
  },
  {
   "cell_type": "code",
   "execution_count": 68,
   "metadata": {
    "ExecuteTime": {
     "end_time": "2021-06-14T17:09:42.556543Z",
     "start_time": "2021-06-14T17:09:27.034803Z"
    }
   },
   "outputs": [],
   "source": [
    "two_minutes_in_2020 = pd.DataFrame()\n",
    "for i in game_id_list_single:\n",
    "    game_df = all_game_events[all_game_events['game_id'] == i].copy()\n",
    "    game_df['period_time_int'] = time_to_int(game_df['period_time'])\n",
    "    game_df = period_time_to_full_time(game_df)\n",
    "    temp_df = minutes_into_game_df(game_df)\n",
    "    two_minutes_in_2020 = pd.concat([two_minutes_in_2020,temp_df], axis=0, ignore_index=True)"
   ]
  },
  {
   "cell_type": "code",
   "execution_count": 69,
   "metadata": {
    "ExecuteTime": {
     "end_time": "2021-06-14T17:09:42.571557Z",
     "start_time": "2021-06-14T17:09:42.557544Z"
    }
   },
   "outputs": [],
   "source": [
    "# a function that uses the previous function to get all the game events at a certain time interval\n",
    "# and transform it into a modeling dataframe with target variable over a list of game ids. \n",
    "def minutes_into_game_modeling_frame(game_ids, time_interval):\n",
    "    output_df = pd.DataFrame()\n",
    "    for n in game_ids:\n",
    "        game_df = all_game_events[all_game_events['game_id'] == n].copy()\n",
    "        game_df['period_time_int'] = time_to_int(game_df['period_time'])\n",
    "        game_df = period_time_to_full_time(game_df)\n",
    "        game_df = game_df[(game_df['event'] == 'Shot') | (game_df['event'] == 'Goal') | \n",
    "                          (game_df['event'] == 'Blocked Shot')| (game_df['event'] == 'Faceoff') |\n",
    "                          (game_df['event'] == 'Takeaway') | (game_df['event'] == 'Giveaway') |\n",
    "                          (game_df['event'] == 'Hit') | (game_df['event'] == 'Missed Shot') |\n",
    "                          (game_df['event'] == 'Penalty')]\n",
    "        temp_df = minutes_into_game_df(game_df, time_interval)\n",
    "        output_df = pd.concat([output_df, temp_df], axis=0, ignore_index=True)\n",
    "    output_df['won'] = model_2020['won']\n",
    "    output_df.drop(columns='Stoppage', inplace=True)\n",
    "    return output_df"
   ]
  },
  {
   "cell_type": "code",
   "execution_count": null,
   "metadata": {
    "ExecuteTime": {
     "end_time": "2021-06-14T17:09:56.939242Z",
     "start_time": "2021-06-14T17:09:17.517Z"
    }
   },
   "outputs": [],
   "source": [
    "# loop that creates, and then saves data frames for minute intervals into game, and takes the\n",
    "# difference so it can be modeled on. \n",
    "counter = 200\n",
    "while counter <=  6000:\n",
    "    counter_df = minutes_into_game_modeling_frame(game_id_list_single,counter)\n",
    "    differences_df = pd.DataFrame()\n",
    "    for i in range(1,1737,2):\n",
    "        winner = counter_df.iloc[i][9]\n",
    "        game_stats = counter_df.iloc[i][:9] - counter_df.iloc[i-1][:9]\n",
    "        temp_df = pd.DataFrame(game_stats.to_dict(), index=[i])\n",
    "        temp_df['won'] = winner\n",
    "        differences_df = pd.concat([differences_df, temp_df], axis=0, ignore_index=True)\n",
    "             \n",
    "    differences_df.to_csv(f'./data_frames/{counter}_minutes_diffs_2020.csv', index = False)\n",
    "    counter_df.to_csv(f'./data_frames/{counter}_minutes_2020.csv', index = False)\n",
    "    counter += 200"
   ]
  }
 ],
 "metadata": {
  "kernelspec": {
   "display_name": "Python 3",
   "language": "python",
   "name": "python3"
  },
  "language_info": {
   "codemirror_mode": {
    "name": "ipython",
    "version": 3
   },
   "file_extension": ".py",
   "mimetype": "text/x-python",
   "name": "python",
   "nbconvert_exporter": "python",
   "pygments_lexer": "ipython3",
   "version": "3.8.5"
  }
 },
 "nbformat": 4,
 "nbformat_minor": 4
}
