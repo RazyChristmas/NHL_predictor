{
 "cells": [
  {
   "cell_type": "code",
   "execution_count": 1,
   "metadata": {
    "ExecuteTime": {
     "end_time": "2021-06-14T03:04:59.256265Z",
     "start_time": "2021-06-14T03:04:58.699533Z"
    }
   },
   "outputs": [],
   "source": [
    "import pandas as pd\n",
    "import time\n",
    "import requests\n",
    "import numpy as np\n",
    "\n",
    "import joblib\n",
    "\n",
    "import warnings\n",
    "warnings.filterwarnings('ignore')"
   ]
  },
  {
   "cell_type": "code",
   "execution_count": 2,
   "metadata": {
    "ExecuteTime": {
     "end_time": "2021-06-14T03:04:59.271290Z",
     "start_time": "2021-06-14T03:04:59.257280Z"
    }
   },
   "outputs": [],
   "source": [
    "def time_to_int(column):\n",
    "    output_list = []\n",
    "    for i in [x for x in column]:\n",
    "        numeric_time = []\n",
    "        for digit in i:\n",
    "            if digit != \":\":\n",
    "                numeric_time.append((digit))\n",
    "            if len(numeric_time) == 4:\n",
    "                numeric_time = \"\".join(numeric_time)\n",
    "                int(numeric_time)\n",
    "        output_list.append(numeric_time)  \n",
    "    output_list = [int(x) for x in output_list]\n",
    "    return output_list"
   ]
  },
  {
   "cell_type": "code",
   "execution_count": 3,
   "metadata": {
    "ExecuteTime": {
     "end_time": "2021-06-14T03:04:59.287427Z",
     "start_time": "2021-06-14T03:04:59.272292Z"
    }
   },
   "outputs": [],
   "source": [
    "def period_time_to_full_time(df):\n",
    "    first_period = df[df['period'] == 1]\n",
    "    second_period = df[df['period'] == 2]\n",
    "    third_period = df[df['period'] == 3]\n",
    "    second_period['period_time'] = second_period['period_time'] + 2000\n",
    "    third_period['period_time'] = third_period['period_time'] + 4000\n",
    "    output_df = pd.concat([first_period,second_period], axis=0, ignore_index=True)\n",
    "    output_df = pd.concat([output_df,third_period], axis=0, ignore_index=True)\n",
    "    return output_df\n",
    "    "
   ]
  },
  {
   "cell_type": "code",
   "execution_count": 4,
   "metadata": {
    "ExecuteTime": {
     "end_time": "2021-06-14T03:04:59.334163Z",
     "start_time": "2021-06-14T03:04:59.289296Z"
    },
    "scrolled": true
   },
   "outputs": [
    {
     "data": {
      "text/html": [
       "<div>\n",
       "<style scoped>\n",
       "    .dataframe tbody tr th:only-of-type {\n",
       "        vertical-align: middle;\n",
       "    }\n",
       "\n",
       "    .dataframe tbody tr th {\n",
       "        vertical-align: top;\n",
       "    }\n",
       "\n",
       "    .dataframe thead th {\n",
       "        text-align: right;\n",
       "    }\n",
       "</style>\n",
       "<table border=\"1\" class=\"dataframe\">\n",
       "  <thead>\n",
       "    <tr style=\"text-align: right;\">\n",
       "      <th></th>\n",
       "      <th>shots</th>\n",
       "      <th>blocked_shots</th>\n",
       "      <th>penalty_minutes</th>\n",
       "      <th>power_play_percentage</th>\n",
       "      <th>power_play_goals</th>\n",
       "      <th>power_play_chances</th>\n",
       "      <th>faceoff_percent</th>\n",
       "      <th>takeaways</th>\n",
       "      <th>giveaways</th>\n",
       "      <th>hits</th>\n",
       "      <th>ice_tilt</th>\n",
       "      <th>period</th>\n",
       "      <th>period_time</th>\n",
       "      <th>rfc_prediction</th>\n",
       "    </tr>\n",
       "  </thead>\n",
       "  <tbody>\n",
       "    <tr>\n",
       "      <th>0</th>\n",
       "      <td>0</td>\n",
       "      <td>0</td>\n",
       "      <td>0</td>\n",
       "      <td>0.0</td>\n",
       "      <td>0.0</td>\n",
       "      <td>0.0</td>\n",
       "      <td>100.0</td>\n",
       "      <td>0</td>\n",
       "      <td>0</td>\n",
       "      <td>0</td>\n",
       "      <td>-69.0</td>\n",
       "      <td>1</td>\n",
       "      <td>8</td>\n",
       "      <td>yes</td>\n",
       "    </tr>\n",
       "    <tr>\n",
       "      <th>1</th>\n",
       "      <td>0</td>\n",
       "      <td>0</td>\n",
       "      <td>0</td>\n",
       "      <td>0.0</td>\n",
       "      <td>0.0</td>\n",
       "      <td>0.0</td>\n",
       "      <td>100.0</td>\n",
       "      <td>0</td>\n",
       "      <td>0</td>\n",
       "      <td>0</td>\n",
       "      <td>-152.0</td>\n",
       "      <td>1</td>\n",
       "      <td>126</td>\n",
       "      <td>yes</td>\n",
       "    </tr>\n",
       "    <tr>\n",
       "      <th>2</th>\n",
       "      <td>0</td>\n",
       "      <td>1</td>\n",
       "      <td>0</td>\n",
       "      <td>0.0</td>\n",
       "      <td>0.0</td>\n",
       "      <td>0.0</td>\n",
       "      <td>100.0</td>\n",
       "      <td>1</td>\n",
       "      <td>0</td>\n",
       "      <td>-1</td>\n",
       "      <td>-154.0</td>\n",
       "      <td>1</td>\n",
       "      <td>211</td>\n",
       "      <td>yes</td>\n",
       "    </tr>\n",
       "    <tr>\n",
       "      <th>3</th>\n",
       "      <td>2</td>\n",
       "      <td>0</td>\n",
       "      <td>0</td>\n",
       "      <td>0.0</td>\n",
       "      <td>0.0</td>\n",
       "      <td>0.0</td>\n",
       "      <td>100.0</td>\n",
       "      <td>1</td>\n",
       "      <td>0</td>\n",
       "      <td>-2</td>\n",
       "      <td>-274.0</td>\n",
       "      <td>1</td>\n",
       "      <td>259</td>\n",
       "      <td>yes</td>\n",
       "    </tr>\n",
       "    <tr>\n",
       "      <th>4</th>\n",
       "      <td>2</td>\n",
       "      <td>0</td>\n",
       "      <td>0</td>\n",
       "      <td>0.0</td>\n",
       "      <td>0.0</td>\n",
       "      <td>0.0</td>\n",
       "      <td>0.0</td>\n",
       "      <td>1</td>\n",
       "      <td>0</td>\n",
       "      <td>-2</td>\n",
       "      <td>-385.0</td>\n",
       "      <td>1</td>\n",
       "      <td>259</td>\n",
       "      <td>no</td>\n",
       "    </tr>\n",
       "  </tbody>\n",
       "</table>\n",
       "</div>"
      ],
      "text/plain": [
       "   shots  blocked_shots  penalty_minutes  power_play_percentage  \\\n",
       "0      0              0                0                    0.0   \n",
       "1      0              0                0                    0.0   \n",
       "2      0              1                0                    0.0   \n",
       "3      2              0                0                    0.0   \n",
       "4      2              0                0                    0.0   \n",
       "\n",
       "   power_play_goals  power_play_chances  faceoff_percent  takeaways  \\\n",
       "0               0.0                 0.0            100.0          0   \n",
       "1               0.0                 0.0            100.0          0   \n",
       "2               0.0                 0.0            100.0          1   \n",
       "3               0.0                 0.0            100.0          1   \n",
       "4               0.0                 0.0              0.0          1   \n",
       "\n",
       "   giveaways  hits  ice_tilt  period  period_time rfc_prediction  \n",
       "0          0     0     -69.0       1            8            yes  \n",
       "1          0     0    -152.0       1          126            yes  \n",
       "2          0    -1    -154.0       1          211            yes  \n",
       "3          0    -2    -274.0       1          259            yes  \n",
       "4          0    -2    -385.0       1          259             no  "
      ]
     },
     "execution_count": 4,
     "metadata": {},
     "output_type": "execute_result"
    }
   ],
   "source": [
    "box_score_differences = pd.read_csv('./live_scrapes/islanders_bruins_v3_diffs_137.csv')\n",
    "box_score_differences.drop(columns=['Unnamed: 0','time_stamp'], inplace=True)\n",
    "box_score_differences['period_time'] = time_to_int(box_score_differences['period_time'])\n",
    "box_score_differences = period_time_to_full_time(box_score_differences)\n",
    "box_score_differences.head()"
   ]
  },
  {
   "cell_type": "code",
   "execution_count": 5,
   "metadata": {
    "ExecuteTime": {
     "end_time": "2021-06-14T03:04:59.366234Z",
     "start_time": "2021-06-14T03:04:59.335161Z"
    },
    "scrolled": false
   },
   "outputs": [
    {
     "data": {
      "text/html": [
       "<div>\n",
       "<style scoped>\n",
       "    .dataframe tbody tr th:only-of-type {\n",
       "        vertical-align: middle;\n",
       "    }\n",
       "\n",
       "    .dataframe tbody tr th {\n",
       "        vertical-align: top;\n",
       "    }\n",
       "\n",
       "    .dataframe thead th {\n",
       "        text-align: right;\n",
       "    }\n",
       "</style>\n",
       "<table border=\"1\" class=\"dataframe\">\n",
       "  <thead>\n",
       "    <tr style=\"text-align: right;\">\n",
       "      <th></th>\n",
       "      <th>Goal</th>\n",
       "      <th>Shot</th>\n",
       "      <th>Blocked Shot</th>\n",
       "      <th>Faceoff</th>\n",
       "      <th>Takeaway</th>\n",
       "      <th>Giveaway</th>\n",
       "      <th>Hit</th>\n",
       "      <th>Missed Shot</th>\n",
       "      <th>Penalty</th>\n",
       "      <th>period_time</th>\n",
       "    </tr>\n",
       "  </thead>\n",
       "  <tbody>\n",
       "    <tr>\n",
       "      <th>0</th>\n",
       "      <td>0</td>\n",
       "      <td>0</td>\n",
       "      <td>0</td>\n",
       "      <td>2</td>\n",
       "      <td>0</td>\n",
       "      <td>0</td>\n",
       "      <td>0</td>\n",
       "      <td>0</td>\n",
       "      <td>0</td>\n",
       "      <td>8</td>\n",
       "    </tr>\n",
       "    <tr>\n",
       "      <th>1</th>\n",
       "      <td>0</td>\n",
       "      <td>0</td>\n",
       "      <td>1</td>\n",
       "      <td>2</td>\n",
       "      <td>1</td>\n",
       "      <td>0</td>\n",
       "      <td>-1</td>\n",
       "      <td>0</td>\n",
       "      <td>0</td>\n",
       "      <td>126</td>\n",
       "    </tr>\n",
       "    <tr>\n",
       "      <th>2</th>\n",
       "      <td>0</td>\n",
       "      <td>0</td>\n",
       "      <td>0</td>\n",
       "      <td>2</td>\n",
       "      <td>1</td>\n",
       "      <td>0</td>\n",
       "      <td>-2</td>\n",
       "      <td>0</td>\n",
       "      <td>0</td>\n",
       "      <td>211</td>\n",
       "    </tr>\n",
       "    <tr>\n",
       "      <th>3</th>\n",
       "      <td>0</td>\n",
       "      <td>2</td>\n",
       "      <td>0</td>\n",
       "      <td>1</td>\n",
       "      <td>1</td>\n",
       "      <td>0</td>\n",
       "      <td>-3</td>\n",
       "      <td>0</td>\n",
       "      <td>0</td>\n",
       "      <td>259</td>\n",
       "    </tr>\n",
       "    <tr>\n",
       "      <th>4</th>\n",
       "      <td>0</td>\n",
       "      <td>2</td>\n",
       "      <td>0</td>\n",
       "      <td>0</td>\n",
       "      <td>1</td>\n",
       "      <td>0</td>\n",
       "      <td>-3</td>\n",
       "      <td>1</td>\n",
       "      <td>0</td>\n",
       "      <td>259</td>\n",
       "    </tr>\n",
       "  </tbody>\n",
       "</table>\n",
       "</div>"
      ],
      "text/plain": [
       "   Goal  Shot  Blocked Shot  Faceoff  Takeaway  Giveaway  Hit  Missed Shot  \\\n",
       "0     0     0             0        2         0         0    0            0   \n",
       "1     0     0             1        2         1         0   -1            0   \n",
       "2     0     0             0        2         1         0   -2            0   \n",
       "3     0     2             0        1         1         0   -3            0   \n",
       "4     0     2             0        0         1         0   -3            1   \n",
       "\n",
       "   Penalty  period_time  \n",
       "0        0            8  \n",
       "1        0          126  \n",
       "2        0          211  \n",
       "3        0          259  \n",
       "4        0          259  "
      ]
     },
     "execution_count": 5,
     "metadata": {},
     "output_type": "execute_result"
    }
   ],
   "source": [
    "minute_diffs = pd.read_csv('./live_scrapes/islanders_bruins_v3_minute_diffs_137.csv')\n",
    "minute_diffs['period_time'] = box_score_differences['period_time']\n",
    "minute_diffs.drop(columns='Unnamed: 0', inplace=True)\n",
    "minute_diffs.drop_duplicates(inplace=True)\n",
    "minute_diffs.head()"
   ]
  },
  {
   "cell_type": "code",
   "execution_count": 6,
   "metadata": {
    "ExecuteTime": {
     "end_time": "2021-06-14T03:05:02.370042Z",
     "start_time": "2021-06-14T03:04:59.367457Z"
    }
   },
   "outputs": [],
   "source": [
    "counter = 200\n",
    "predicts = []\n",
    "probabilities = []\n",
    "while counter <= 6000:\n",
    "    temp_df = minute_diffs[(minute_diffs['period_time'] <= (counter)) & (minute_diffs['period_time'] > (counter - 200))]      \n",
    "    model = joblib.load(f'./models/{counter}_logreg_search_diffs_2020.pkl')\n",
    "    try:\n",
    "        temp_list = model.predict(temp_df.drop(columns='period_time'))\n",
    "        temp_list = temp_list.tolist()\n",
    "        probs = model.predict_proba(temp_df.drop(columns='period_time'))\n",
    "        for i in range(0,(len(probs)),1):\n",
    "            probabilities.append(probs[i][1])\n",
    "    except:\n",
    "        temp_list=[]\n",
    "    predicts.extend(temp_list)\n",
    "    counter += 200\n",
    "minute_diffs['predictions'] = predicts\n",
    "minute_diffs['probability_win'] = probabilities\n"
   ]
  },
  {
   "cell_type": "code",
   "execution_count": 7,
   "metadata": {
    "ExecuteTime": {
     "end_time": "2021-06-14T03:05:02.385217Z",
     "start_time": "2021-06-14T03:05:02.372046Z"
    }
   },
   "outputs": [],
   "source": [
    "box_score_differences.drop_duplicates(inplace=True)"
   ]
  },
  {
   "cell_type": "code",
   "execution_count": 8,
   "metadata": {
    "ExecuteTime": {
     "end_time": "2021-06-14T03:05:02.401072Z",
     "start_time": "2021-06-14T03:05:02.387059Z"
    },
    "scrolled": true
   },
   "outputs": [
    {
     "data": {
      "text/html": [
       "<div>\n",
       "<style scoped>\n",
       "    .dataframe tbody tr th:only-of-type {\n",
       "        vertical-align: middle;\n",
       "    }\n",
       "\n",
       "    .dataframe tbody tr th {\n",
       "        vertical-align: top;\n",
       "    }\n",
       "\n",
       "    .dataframe thead th {\n",
       "        text-align: right;\n",
       "    }\n",
       "</style>\n",
       "<table border=\"1\" class=\"dataframe\">\n",
       "  <thead>\n",
       "    <tr style=\"text-align: right;\">\n",
       "      <th></th>\n",
       "      <th>Goal</th>\n",
       "      <th>Shot</th>\n",
       "      <th>Blocked Shot</th>\n",
       "      <th>Faceoff</th>\n",
       "      <th>Takeaway</th>\n",
       "      <th>Giveaway</th>\n",
       "      <th>Hit</th>\n",
       "      <th>Missed Shot</th>\n",
       "      <th>Penalty</th>\n",
       "      <th>period_time</th>\n",
       "      <th>predictions</th>\n",
       "      <th>probability_win</th>\n",
       "    </tr>\n",
       "  </thead>\n",
       "  <tbody>\n",
       "    <tr>\n",
       "      <th>0</th>\n",
       "      <td>0</td>\n",
       "      <td>0</td>\n",
       "      <td>0</td>\n",
       "      <td>2</td>\n",
       "      <td>0</td>\n",
       "      <td>0</td>\n",
       "      <td>0</td>\n",
       "      <td>0</td>\n",
       "      <td>0</td>\n",
       "      <td>8</td>\n",
       "      <td>no</td>\n",
       "      <td>0.261900</td>\n",
       "    </tr>\n",
       "    <tr>\n",
       "      <th>1</th>\n",
       "      <td>0</td>\n",
       "      <td>0</td>\n",
       "      <td>1</td>\n",
       "      <td>2</td>\n",
       "      <td>1</td>\n",
       "      <td>0</td>\n",
       "      <td>-1</td>\n",
       "      <td>0</td>\n",
       "      <td>0</td>\n",
       "      <td>126</td>\n",
       "      <td>no</td>\n",
       "      <td>0.307217</td>\n",
       "    </tr>\n",
       "    <tr>\n",
       "      <th>2</th>\n",
       "      <td>0</td>\n",
       "      <td>0</td>\n",
       "      <td>0</td>\n",
       "      <td>2</td>\n",
       "      <td>1</td>\n",
       "      <td>0</td>\n",
       "      <td>-2</td>\n",
       "      <td>0</td>\n",
       "      <td>0</td>\n",
       "      <td>211</td>\n",
       "      <td>no</td>\n",
       "      <td>0.258354</td>\n",
       "    </tr>\n",
       "    <tr>\n",
       "      <th>3</th>\n",
       "      <td>0</td>\n",
       "      <td>2</td>\n",
       "      <td>0</td>\n",
       "      <td>1</td>\n",
       "      <td>1</td>\n",
       "      <td>0</td>\n",
       "      <td>-3</td>\n",
       "      <td>0</td>\n",
       "      <td>0</td>\n",
       "      <td>259</td>\n",
       "      <td>no</td>\n",
       "      <td>0.290854</td>\n",
       "    </tr>\n",
       "    <tr>\n",
       "      <th>4</th>\n",
       "      <td>0</td>\n",
       "      <td>2</td>\n",
       "      <td>0</td>\n",
       "      <td>0</td>\n",
       "      <td>1</td>\n",
       "      <td>0</td>\n",
       "      <td>-3</td>\n",
       "      <td>1</td>\n",
       "      <td>0</td>\n",
       "      <td>259</td>\n",
       "      <td>no</td>\n",
       "      <td>0.275854</td>\n",
       "    </tr>\n",
       "  </tbody>\n",
       "</table>\n",
       "</div>"
      ],
      "text/plain": [
       "   Goal  Shot  Blocked Shot  Faceoff  Takeaway  Giveaway  Hit  Missed Shot  \\\n",
       "0     0     0             0        2         0         0    0            0   \n",
       "1     0     0             1        2         1         0   -1            0   \n",
       "2     0     0             0        2         1         0   -2            0   \n",
       "3     0     2             0        1         1         0   -3            0   \n",
       "4     0     2             0        0         1         0   -3            1   \n",
       "\n",
       "   Penalty  period_time predictions  probability_win  \n",
       "0        0            8          no         0.261900  \n",
       "1        0          126          no         0.307217  \n",
       "2        0          211          no         0.258354  \n",
       "3        0          259          no         0.290854  \n",
       "4        0          259          no         0.275854  "
      ]
     },
     "execution_count": 8,
     "metadata": {},
     "output_type": "execute_result"
    }
   ],
   "source": [
    "minute_diffs.head()"
   ]
  },
  {
   "cell_type": "code",
   "execution_count": 9,
   "metadata": {
    "ExecuteTime": {
     "end_time": "2021-06-14T03:05:02.416085Z",
     "start_time": "2021-06-14T03:05:02.402073Z"
    },
    "scrolled": false
   },
   "outputs": [
    {
     "data": {
      "text/plain": [
       "no    96\n",
       "Name: predictions, dtype: int64"
      ]
     },
     "execution_count": 9,
     "metadata": {},
     "output_type": "execute_result"
    }
   ],
   "source": [
    "minute_diffs['predictions'].value_counts()"
   ]
  },
  {
   "cell_type": "code",
   "execution_count": 10,
   "metadata": {
    "ExecuteTime": {
     "end_time": "2021-06-14T03:05:02.447320Z",
     "start_time": "2021-06-14T03:05:02.417087Z"
    }
   },
   "outputs": [],
   "source": [
    "box_score_differences.to_csv('./data_frames/bruins_isles_live_scrape_preds.csv', index=False)\n",
    "minute_diffs.to_csv('./data_frames/bruins_isles_live_scrape_minutes_preds.csv', index=False)"
   ]
  },
  {
   "cell_type": "markdown",
   "metadata": {},
   "source": [
    "artifical scrape for a more exciting game"
   ]
  },
  {
   "cell_type": "code",
   "execution_count": 11,
   "metadata": {
    "ExecuteTime": {
     "end_time": "2021-06-14T03:05:02.770985Z",
     "start_time": "2021-06-14T03:05:02.448113Z"
    }
   },
   "outputs": [],
   "source": [
    "game_stats = requests.get('https://statsapi.web.nhl.com/api/v1/game/2020030113/feed/live')\n",
    "test_1 = game_stats.json()['liveData']['plays']['allPlays']"
   ]
  },
  {
   "cell_type": "code",
   "execution_count": 12,
   "metadata": {
    "ExecuteTime": {
     "end_time": "2021-06-14T03:05:05.602343Z",
     "start_time": "2021-06-14T03:05:02.772978Z"
    }
   },
   "outputs": [],
   "source": [
    "game_events = pd.DataFrame()\n",
    "for i in range(2,(len(test_1)-2),1):\n",
    "    event = test_1[i]['result']['event']\n",
    "    try:\n",
    "        team = test_1[i]['team']['name']\n",
    "    except:\n",
    "        team = np.nan\n",
    "    try:\n",
    "        x_cords = test_1[i]['coordinates']['x']\n",
    "    except:\n",
    "        x_cords = np.nan\n",
    "    try:\n",
    "        y_cords = test_1[i]['coordinates']['y']\n",
    "    except:\n",
    "        y_cords =np.nan\n",
    "    period = test_1[i]['about']['period']\n",
    "    periodTime = test_1[i]['about']['periodTime']\n",
    "    home_team = game_stats.json()['gameData']['teams']['home']['name']\n",
    "    game_id = 2020030113\n",
    "    temp_dic = {'event': event, 'team': team,'x_coordinate':x_cords, 'y_coordinate': y_cords,\n",
    "               'period':period, 'period_time': periodTime, 'game_id':game_id, 'home_team': home_team}\n",
    "    temp_df = pd.DataFrame(temp_dic, index=[i])\n",
    "    game_events = pd.concat([game_events, temp_df], axis=0, ignore_index=True)\n",
    "    "
   ]
  },
  {
   "cell_type": "code",
   "execution_count": 13,
   "metadata": {
    "ExecuteTime": {
     "end_time": "2021-06-14T03:05:05.618358Z",
     "start_time": "2021-06-14T03:05:05.603344Z"
    }
   },
   "outputs": [],
   "source": [
    "def minutes_into_game_df(df, minute_interval = 200):\n",
    "    events = df[df['period_time'] <= minute_interval]\n",
    "\n",
    "    events_home = events[events['team'] == events['home_team']]\n",
    "    events_home_dict = events_home.groupby('event').count()['team'].to_dict()\n",
    "    ice_tilt_minutes = events_home.groupby('event')['x_coordinate'].sum().sum()\n",
    "    base_dic_home = {\n",
    "    'Goal':0, 'Shot':0, 'Blocked Shot': 0,\n",
    "    'Faceoff':0 , 'Takeaway':0, 'Giveaway': 0,\n",
    "    'Hit': 0, 'Missed Shot':0, 'Penalty': 0\n",
    "    }\n",
    "    base_dic_home.update(events_home_dict)\n",
    "\n",
    "    events_away = events[events['team'] != events['home_team']]\n",
    "    events_away_dict = events_away.groupby('event').count()['team'].to_dict()\n",
    "    ice_tilt_minutes = events_away.groupby('event')['x_coordinate'].sum().sum()\n",
    "    base_dic_away = {\n",
    "    'Goal':0, 'Shot':0, 'Blocked Shot': 0,\n",
    "    'Faceoff':0 , 'Takeaway':0, 'Giveaway': 0,\n",
    "    'Hit': 0, 'Missed Shot':0, 'Penalty': 0\n",
    "    }\n",
    "    base_dic_away.update(events_away_dict)\n",
    "    output_df = pd.DataFrame(base_dic_away, index=[0])\n",
    "    concat_df = pd.DataFrame(base_dic_home, index=[1])\n",
    "    output_df = pd.concat([output_df,concat_df], axis=0, ignore_index=True)\n",
    "    return output_df"
   ]
  },
  {
   "cell_type": "code",
   "execution_count": 14,
   "metadata": {
    "ExecuteTime": {
     "end_time": "2021-06-14T03:05:05.634372Z",
     "start_time": "2021-06-14T03:05:05.620360Z"
    }
   },
   "outputs": [],
   "source": [
    "game_events.dropna(inplace=True)"
   ]
  },
  {
   "cell_type": "code",
   "execution_count": 15,
   "metadata": {
    "ExecuteTime": {
     "end_time": "2021-06-14T03:05:05.650387Z",
     "start_time": "2021-06-14T03:05:05.636374Z"
    }
   },
   "outputs": [
    {
     "data": {
      "text/html": [
       "<div>\n",
       "<style scoped>\n",
       "    .dataframe tbody tr th:only-of-type {\n",
       "        vertical-align: middle;\n",
       "    }\n",
       "\n",
       "    .dataframe tbody tr th {\n",
       "        vertical-align: top;\n",
       "    }\n",
       "\n",
       "    .dataframe thead th {\n",
       "        text-align: right;\n",
       "    }\n",
       "</style>\n",
       "<table border=\"1\" class=\"dataframe\">\n",
       "  <thead>\n",
       "    <tr style=\"text-align: right;\">\n",
       "      <th></th>\n",
       "      <th>event</th>\n",
       "      <th>team</th>\n",
       "      <th>x_coordinate</th>\n",
       "      <th>y_coordinate</th>\n",
       "      <th>period</th>\n",
       "      <th>period_time</th>\n",
       "      <th>game_id</th>\n",
       "      <th>home_team</th>\n",
       "    </tr>\n",
       "  </thead>\n",
       "  <tbody>\n",
       "    <tr>\n",
       "      <th>1</th>\n",
       "      <td>Faceoff</td>\n",
       "      <td>New York Islanders</td>\n",
       "      <td>0.0</td>\n",
       "      <td>0.0</td>\n",
       "      <td>1</td>\n",
       "      <td>00:00</td>\n",
       "      <td>2020030113</td>\n",
       "      <td>New York Islanders</td>\n",
       "    </tr>\n",
       "    <tr>\n",
       "      <th>2</th>\n",
       "      <td>Hit</td>\n",
       "      <td>Pittsburgh Penguins</td>\n",
       "      <td>-56.0</td>\n",
       "      <td>39.0</td>\n",
       "      <td>1</td>\n",
       "      <td>00:16</td>\n",
       "      <td>2020030113</td>\n",
       "      <td>New York Islanders</td>\n",
       "    </tr>\n",
       "    <tr>\n",
       "      <th>5</th>\n",
       "      <td>Faceoff</td>\n",
       "      <td>New York Islanders</td>\n",
       "      <td>-69.0</td>\n",
       "      <td>22.0</td>\n",
       "      <td>1</td>\n",
       "      <td>01:03</td>\n",
       "      <td>2020030113</td>\n",
       "      <td>New York Islanders</td>\n",
       "    </tr>\n",
       "    <tr>\n",
       "      <th>6</th>\n",
       "      <td>Hit</td>\n",
       "      <td>New York Islanders</td>\n",
       "      <td>97.0</td>\n",
       "      <td>-4.0</td>\n",
       "      <td>1</td>\n",
       "      <td>01:46</td>\n",
       "      <td>2020030113</td>\n",
       "      <td>New York Islanders</td>\n",
       "    </tr>\n",
       "    <tr>\n",
       "      <th>7</th>\n",
       "      <td>Hit</td>\n",
       "      <td>Pittsburgh Penguins</td>\n",
       "      <td>-94.0</td>\n",
       "      <td>22.0</td>\n",
       "      <td>1</td>\n",
       "      <td>01:50</td>\n",
       "      <td>2020030113</td>\n",
       "      <td>New York Islanders</td>\n",
       "    </tr>\n",
       "  </tbody>\n",
       "</table>\n",
       "</div>"
      ],
      "text/plain": [
       "     event                 team  x_coordinate  y_coordinate  period  \\\n",
       "1  Faceoff   New York Islanders           0.0           0.0       1   \n",
       "2      Hit  Pittsburgh Penguins         -56.0          39.0       1   \n",
       "5  Faceoff   New York Islanders         -69.0          22.0       1   \n",
       "6      Hit   New York Islanders          97.0          -4.0       1   \n",
       "7      Hit  Pittsburgh Penguins         -94.0          22.0       1   \n",
       "\n",
       "  period_time     game_id           home_team  \n",
       "1       00:00  2020030113  New York Islanders  \n",
       "2       00:16  2020030113  New York Islanders  \n",
       "5       01:03  2020030113  New York Islanders  \n",
       "6       01:46  2020030113  New York Islanders  \n",
       "7       01:50  2020030113  New York Islanders  "
      ]
     },
     "execution_count": 15,
     "metadata": {},
     "output_type": "execute_result"
    }
   ],
   "source": [
    "game_events.head()"
   ]
  },
  {
   "cell_type": "code",
   "execution_count": 16,
   "metadata": {
    "ExecuteTime": {
     "end_time": "2021-06-14T03:05:05.666411Z",
     "start_time": "2021-06-14T03:05:05.651387Z"
    }
   },
   "outputs": [],
   "source": [
    "game_events['period_time'] = time_to_int(game_events['period_time'])"
   ]
  },
  {
   "cell_type": "code",
   "execution_count": 17,
   "metadata": {
    "ExecuteTime": {
     "end_time": "2021-06-14T03:05:05.682415Z",
     "start_time": "2021-06-14T03:05:05.667401Z"
    }
   },
   "outputs": [],
   "source": [
    "game_events = period_time_to_full_time(game_events)"
   ]
  },
  {
   "cell_type": "code",
   "execution_count": 18,
   "metadata": {
    "ExecuteTime": {
     "end_time": "2021-06-14T03:05:05.713302Z",
     "start_time": "2021-06-14T03:05:05.683415Z"
    }
   },
   "outputs": [
    {
     "data": {
      "text/html": [
       "<div>\n",
       "<style scoped>\n",
       "    .dataframe tbody tr th:only-of-type {\n",
       "        vertical-align: middle;\n",
       "    }\n",
       "\n",
       "    .dataframe tbody tr th {\n",
       "        vertical-align: top;\n",
       "    }\n",
       "\n",
       "    .dataframe thead th {\n",
       "        text-align: right;\n",
       "    }\n",
       "</style>\n",
       "<table border=\"1\" class=\"dataframe\">\n",
       "  <thead>\n",
       "    <tr style=\"text-align: right;\">\n",
       "      <th></th>\n",
       "      <th>event</th>\n",
       "      <th>team</th>\n",
       "      <th>x_coordinate</th>\n",
       "      <th>y_coordinate</th>\n",
       "      <th>period</th>\n",
       "      <th>period_time</th>\n",
       "      <th>game_id</th>\n",
       "      <th>home_team</th>\n",
       "    </tr>\n",
       "  </thead>\n",
       "  <tbody>\n",
       "    <tr>\n",
       "      <th>0</th>\n",
       "      <td>Faceoff</td>\n",
       "      <td>New York Islanders</td>\n",
       "      <td>0.0</td>\n",
       "      <td>0.0</td>\n",
       "      <td>1</td>\n",
       "      <td>0</td>\n",
       "      <td>2020030113</td>\n",
       "      <td>New York Islanders</td>\n",
       "    </tr>\n",
       "    <tr>\n",
       "      <th>1</th>\n",
       "      <td>Hit</td>\n",
       "      <td>Pittsburgh Penguins</td>\n",
       "      <td>-56.0</td>\n",
       "      <td>39.0</td>\n",
       "      <td>1</td>\n",
       "      <td>16</td>\n",
       "      <td>2020030113</td>\n",
       "      <td>New York Islanders</td>\n",
       "    </tr>\n",
       "    <tr>\n",
       "      <th>2</th>\n",
       "      <td>Faceoff</td>\n",
       "      <td>New York Islanders</td>\n",
       "      <td>-69.0</td>\n",
       "      <td>22.0</td>\n",
       "      <td>1</td>\n",
       "      <td>103</td>\n",
       "      <td>2020030113</td>\n",
       "      <td>New York Islanders</td>\n",
       "    </tr>\n",
       "    <tr>\n",
       "      <th>3</th>\n",
       "      <td>Hit</td>\n",
       "      <td>New York Islanders</td>\n",
       "      <td>97.0</td>\n",
       "      <td>-4.0</td>\n",
       "      <td>1</td>\n",
       "      <td>146</td>\n",
       "      <td>2020030113</td>\n",
       "      <td>New York Islanders</td>\n",
       "    </tr>\n",
       "    <tr>\n",
       "      <th>4</th>\n",
       "      <td>Hit</td>\n",
       "      <td>Pittsburgh Penguins</td>\n",
       "      <td>-94.0</td>\n",
       "      <td>22.0</td>\n",
       "      <td>1</td>\n",
       "      <td>150</td>\n",
       "      <td>2020030113</td>\n",
       "      <td>New York Islanders</td>\n",
       "    </tr>\n",
       "  </tbody>\n",
       "</table>\n",
       "</div>"
      ],
      "text/plain": [
       "     event                 team  x_coordinate  y_coordinate  period  \\\n",
       "0  Faceoff   New York Islanders           0.0           0.0       1   \n",
       "1      Hit  Pittsburgh Penguins         -56.0          39.0       1   \n",
       "2  Faceoff   New York Islanders         -69.0          22.0       1   \n",
       "3      Hit   New York Islanders          97.0          -4.0       1   \n",
       "4      Hit  Pittsburgh Penguins         -94.0          22.0       1   \n",
       "\n",
       "   period_time     game_id           home_team  \n",
       "0            0  2020030113  New York Islanders  \n",
       "1           16  2020030113  New York Islanders  \n",
       "2          103  2020030113  New York Islanders  \n",
       "3          146  2020030113  New York Islanders  \n",
       "4          150  2020030113  New York Islanders  "
      ]
     },
     "execution_count": 18,
     "metadata": {},
     "output_type": "execute_result"
    }
   ],
   "source": [
    "game_events.head()"
   ]
  },
  {
   "cell_type": "code",
   "execution_count": 19,
   "metadata": {
    "ExecuteTime": {
     "end_time": "2021-06-14T03:05:05.980129Z",
     "start_time": "2021-06-14T03:05:05.715293Z"
    }
   },
   "outputs": [],
   "source": [
    "counter = 200\n",
    "i = 1\n",
    "artifical_scrape = pd.DataFrame()\n",
    "while counter <= 6000:\n",
    "    df = minutes_into_game_df(game_events,counter)\n",
    "    differences = df.iloc[1][:9] - df.iloc[0][:9]\n",
    "    differences = differences.to_dict()\n",
    "    output = pd.DataFrame(differences, index=[i])\n",
    "    artifical_scrape = pd.concat([artifical_scrape,output], axis=0, ignore_index=True)\n",
    "    counter += 200\n",
    "    i += 1 "
   ]
  },
  {
   "cell_type": "code",
   "execution_count": 20,
   "metadata": {
    "ExecuteTime": {
     "end_time": "2021-06-14T03:05:05.995155Z",
     "start_time": "2021-06-14T03:05:05.981145Z"
    }
   },
   "outputs": [],
   "source": [
    "columns = artifical_scrape.columns.to_list()"
   ]
  },
  {
   "cell_type": "code",
   "execution_count": 21,
   "metadata": {
    "ExecuteTime": {
     "end_time": "2021-06-14T03:05:07.953920Z",
     "start_time": "2021-06-14T03:05:05.997146Z"
    }
   },
   "outputs": [],
   "source": [
    "counter = 200\n",
    "predicts = []\n",
    "probabilities = []\n",
    "i = 0\n",
    "while counter <= 6000:\n",
    "    model = joblib.load(f'./models/{counter}_logreg_search_diffs_2020.pkl')\n",
    "    temp_df = artifical_scrape.loc[[i], columns]\n",
    "    try:\n",
    "        temp_list = model.predict(temp_df)\n",
    "        temp_list = temp_list.tolist()\n",
    "        probs = model.predict_proba(temp_df)\n",
    "        probabilities.append(probs[0][1])\n",
    "    except:\n",
    "        temp_list=[]\n",
    "    predicts.extend(temp_list)\n",
    "    counter += 200\n",
    "    i += 1\n",
    "artifical_scrape['predictions'] = predicts\n",
    "artifical_scrape['probability_win'] = probabilities\n"
   ]
  },
  {
   "cell_type": "code",
   "execution_count": 22,
   "metadata": {
    "ExecuteTime": {
     "end_time": "2021-06-14T03:05:07.968923Z",
     "start_time": "2021-06-14T03:05:07.956912Z"
    },
    "scrolled": false
   },
   "outputs": [
    {
     "data": {
      "text/html": [
       "<div>\n",
       "<style scoped>\n",
       "    .dataframe tbody tr th:only-of-type {\n",
       "        vertical-align: middle;\n",
       "    }\n",
       "\n",
       "    .dataframe tbody tr th {\n",
       "        vertical-align: top;\n",
       "    }\n",
       "\n",
       "    .dataframe thead th {\n",
       "        text-align: right;\n",
       "    }\n",
       "</style>\n",
       "<table border=\"1\" class=\"dataframe\">\n",
       "  <thead>\n",
       "    <tr style=\"text-align: right;\">\n",
       "      <th></th>\n",
       "      <th>Goal</th>\n",
       "      <th>Shot</th>\n",
       "      <th>Blocked Shot</th>\n",
       "      <th>Faceoff</th>\n",
       "      <th>Takeaway</th>\n",
       "      <th>Giveaway</th>\n",
       "      <th>Hit</th>\n",
       "      <th>Missed Shot</th>\n",
       "      <th>Penalty</th>\n",
       "      <th>predictions</th>\n",
       "      <th>probability_win</th>\n",
       "    </tr>\n",
       "  </thead>\n",
       "  <tbody>\n",
       "    <tr>\n",
       "      <th>0</th>\n",
       "      <td>0</td>\n",
       "      <td>-1</td>\n",
       "      <td>0</td>\n",
       "      <td>2</td>\n",
       "      <td>0</td>\n",
       "      <td>1</td>\n",
       "      <td>-1</td>\n",
       "      <td>0</td>\n",
       "      <td>0</td>\n",
       "      <td>no</td>\n",
       "      <td>0.247342</td>\n",
       "    </tr>\n",
       "    <tr>\n",
       "      <th>1</th>\n",
       "      <td>-1</td>\n",
       "      <td>-3</td>\n",
       "      <td>1</td>\n",
       "      <td>2</td>\n",
       "      <td>0</td>\n",
       "      <td>1</td>\n",
       "      <td>1</td>\n",
       "      <td>0</td>\n",
       "      <td>1</td>\n",
       "      <td>no</td>\n",
       "      <td>0.005556</td>\n",
       "    </tr>\n",
       "    <tr>\n",
       "      <th>2</th>\n",
       "      <td>-1</td>\n",
       "      <td>0</td>\n",
       "      <td>2</td>\n",
       "      <td>2</td>\n",
       "      <td>0</td>\n",
       "      <td>1</td>\n",
       "      <td>2</td>\n",
       "      <td>0</td>\n",
       "      <td>1</td>\n",
       "      <td>no</td>\n",
       "      <td>0.062321</td>\n",
       "    </tr>\n",
       "    <tr>\n",
       "      <th>3</th>\n",
       "      <td>-1</td>\n",
       "      <td>-2</td>\n",
       "      <td>3</td>\n",
       "      <td>7</td>\n",
       "      <td>0</td>\n",
       "      <td>2</td>\n",
       "      <td>2</td>\n",
       "      <td>0</td>\n",
       "      <td>1</td>\n",
       "      <td>no</td>\n",
       "      <td>0.049982</td>\n",
       "    </tr>\n",
       "    <tr>\n",
       "      <th>4</th>\n",
       "      <td>-1</td>\n",
       "      <td>-3</td>\n",
       "      <td>3</td>\n",
       "      <td>9</td>\n",
       "      <td>0</td>\n",
       "      <td>3</td>\n",
       "      <td>3</td>\n",
       "      <td>0</td>\n",
       "      <td>1</td>\n",
       "      <td>no</td>\n",
       "      <td>0.049982</td>\n",
       "    </tr>\n",
       "  </tbody>\n",
       "</table>\n",
       "</div>"
      ],
      "text/plain": [
       "   Goal  Shot  Blocked Shot  Faceoff  Takeaway  Giveaway  Hit  Missed Shot  \\\n",
       "0     0    -1             0        2         0         1   -1            0   \n",
       "1    -1    -3             1        2         0         1    1            0   \n",
       "2    -1     0             2        2         0         1    2            0   \n",
       "3    -1    -2             3        7         0         2    2            0   \n",
       "4    -1    -3             3        9         0         3    3            0   \n",
       "\n",
       "   Penalty predictions  probability_win  \n",
       "0        0          no         0.247342  \n",
       "1        1          no         0.005556  \n",
       "2        1          no         0.062321  \n",
       "3        1          no         0.049982  \n",
       "4        1          no         0.049982  "
      ]
     },
     "execution_count": 22,
     "metadata": {},
     "output_type": "execute_result"
    }
   ],
   "source": [
    "artifical_scrape.head()"
   ]
  },
  {
   "cell_type": "code",
   "execution_count": 23,
   "metadata": {
    "ExecuteTime": {
     "end_time": "2021-06-14T03:05:07.984948Z",
     "start_time": "2021-06-14T03:05:07.970926Z"
    }
   },
   "outputs": [],
   "source": [
    "artifical_scrape.to_csv('./data_frames/penguins_isles_artifical_live_scrape_minutes.csv', index=False)"
   ]
  },
  {
   "cell_type": "markdown",
   "metadata": {},
   "source": [
    "one where the home team wins:"
   ]
  },
  {
   "cell_type": "code",
   "execution_count": 24,
   "metadata": {
    "ExecuteTime": {
     "end_time": "2021-06-14T03:05:08.234700Z",
     "start_time": "2021-06-14T03:05:07.986940Z"
    }
   },
   "outputs": [],
   "source": [
    "game_stats = requests.get('https://statsapi.web.nhl.com/api/v1/game/2020030224/feed/live')\n",
    "test_1 = game_stats.json()['liveData']['plays']['allPlays']"
   ]
  },
  {
   "cell_type": "code",
   "execution_count": 25,
   "metadata": {
    "ExecuteTime": {
     "end_time": "2021-06-14T03:05:10.335222Z",
     "start_time": "2021-06-14T03:05:08.235713Z"
    }
   },
   "outputs": [],
   "source": [
    "game_events_2 = pd.DataFrame()\n",
    "for i in range(2,(len(test_1)-2),1):\n",
    "    event = test_1[i]['result']['event']\n",
    "    try:\n",
    "        team = test_1[i]['team']['name']\n",
    "    except:\n",
    "        team = np.nan\n",
    "    try:\n",
    "        x_cords = test_1[i]['coordinates']['x']\n",
    "    except:\n",
    "        x_cords = np.nan\n",
    "    try:\n",
    "        y_cords = test_1[i]['coordinates']['y']\n",
    "    except:\n",
    "        y_cords =np.nan\n",
    "    period = test_1[i]['about']['period']\n",
    "    periodTime = test_1[i]['about']['periodTime']\n",
    "    home_team = game_stats.json()['gameData']['teams']['home']['name']\n",
    "    game_id = 2020030224\n",
    "    temp_dic = {'event': event, 'team': team,'x_coordinate':x_cords, 'y_coordinate': y_cords,\n",
    "               'period':period, 'period_time': periodTime, 'game_id':game_id, 'home_team': home_team}\n",
    "    temp_df = pd.DataFrame(temp_dic, index=[i])\n",
    "    game_events_2 = pd.concat([game_events_2, temp_df], axis=0, ignore_index=True)"
   ]
  },
  {
   "cell_type": "code",
   "execution_count": 26,
   "metadata": {
    "ExecuteTime": {
     "end_time": "2021-06-14T03:05:10.350239Z",
     "start_time": "2021-06-14T03:05:10.336237Z"
    }
   },
   "outputs": [],
   "source": [
    "game_events_2.dropna(inplace=True)"
   ]
  },
  {
   "cell_type": "code",
   "execution_count": 27,
   "metadata": {
    "ExecuteTime": {
     "end_time": "2021-06-14T03:05:10.365251Z",
     "start_time": "2021-06-14T03:05:10.351241Z"
    }
   },
   "outputs": [],
   "source": [
    "game_events_2['period_time'] = time_to_int(game_events_2['period_time'])"
   ]
  },
  {
   "cell_type": "code",
   "execution_count": 28,
   "metadata": {
    "ExecuteTime": {
     "end_time": "2021-06-14T03:05:10.381267Z",
     "start_time": "2021-06-14T03:05:10.366263Z"
    }
   },
   "outputs": [],
   "source": [
    "game_events_2 = period_time_to_full_time(game_events_2)"
   ]
  },
  {
   "cell_type": "code",
   "execution_count": 29,
   "metadata": {
    "ExecuteTime": {
     "end_time": "2021-06-14T03:05:10.397124Z",
     "start_time": "2021-06-14T03:05:10.382277Z"
    }
   },
   "outputs": [
    {
     "data": {
      "text/html": [
       "<div>\n",
       "<style scoped>\n",
       "    .dataframe tbody tr th:only-of-type {\n",
       "        vertical-align: middle;\n",
       "    }\n",
       "\n",
       "    .dataframe tbody tr th {\n",
       "        vertical-align: top;\n",
       "    }\n",
       "\n",
       "    .dataframe thead th {\n",
       "        text-align: right;\n",
       "    }\n",
       "</style>\n",
       "<table border=\"1\" class=\"dataframe\">\n",
       "  <thead>\n",
       "    <tr style=\"text-align: right;\">\n",
       "      <th></th>\n",
       "      <th>event</th>\n",
       "      <th>team</th>\n",
       "      <th>x_coordinate</th>\n",
       "      <th>y_coordinate</th>\n",
       "      <th>period</th>\n",
       "      <th>period_time</th>\n",
       "      <th>game_id</th>\n",
       "      <th>home_team</th>\n",
       "    </tr>\n",
       "  </thead>\n",
       "  <tbody>\n",
       "    <tr>\n",
       "      <th>0</th>\n",
       "      <td>Penalty</td>\n",
       "      <td>Tampa Bay Lightning</td>\n",
       "      <td>0.0</td>\n",
       "      <td>-14.0</td>\n",
       "      <td>1</td>\n",
       "      <td>0</td>\n",
       "      <td>2020030224</td>\n",
       "      <td>Tampa Bay Lightning</td>\n",
       "    </tr>\n",
       "    <tr>\n",
       "      <th>1</th>\n",
       "      <td>Penalty</td>\n",
       "      <td>Carolina Hurricanes</td>\n",
       "      <td>0.0</td>\n",
       "      <td>-16.0</td>\n",
       "      <td>1</td>\n",
       "      <td>0</td>\n",
       "      <td>2020030224</td>\n",
       "      <td>Tampa Bay Lightning</td>\n",
       "    </tr>\n",
       "    <tr>\n",
       "      <th>2</th>\n",
       "      <td>Faceoff</td>\n",
       "      <td>Carolina Hurricanes</td>\n",
       "      <td>0.0</td>\n",
       "      <td>0.0</td>\n",
       "      <td>1</td>\n",
       "      <td>0</td>\n",
       "      <td>2020030224</td>\n",
       "      <td>Tampa Bay Lightning</td>\n",
       "    </tr>\n",
       "    <tr>\n",
       "      <th>3</th>\n",
       "      <td>Hit</td>\n",
       "      <td>Carolina Hurricanes</td>\n",
       "      <td>15.0</td>\n",
       "      <td>35.0</td>\n",
       "      <td>1</td>\n",
       "      <td>20</td>\n",
       "      <td>2020030224</td>\n",
       "      <td>Tampa Bay Lightning</td>\n",
       "    </tr>\n",
       "    <tr>\n",
       "      <th>4</th>\n",
       "      <td>Faceoff</td>\n",
       "      <td>Tampa Bay Lightning</td>\n",
       "      <td>69.0</td>\n",
       "      <td>22.0</td>\n",
       "      <td>1</td>\n",
       "      <td>41</td>\n",
       "      <td>2020030224</td>\n",
       "      <td>Tampa Bay Lightning</td>\n",
       "    </tr>\n",
       "  </tbody>\n",
       "</table>\n",
       "</div>"
      ],
      "text/plain": [
       "     event                 team  x_coordinate  y_coordinate  period  \\\n",
       "0  Penalty  Tampa Bay Lightning           0.0         -14.0       1   \n",
       "1  Penalty  Carolina Hurricanes           0.0         -16.0       1   \n",
       "2  Faceoff  Carolina Hurricanes           0.0           0.0       1   \n",
       "3      Hit  Carolina Hurricanes          15.0          35.0       1   \n",
       "4  Faceoff  Tampa Bay Lightning          69.0          22.0       1   \n",
       "\n",
       "   period_time     game_id            home_team  \n",
       "0            0  2020030224  Tampa Bay Lightning  \n",
       "1            0  2020030224  Tampa Bay Lightning  \n",
       "2            0  2020030224  Tampa Bay Lightning  \n",
       "3           20  2020030224  Tampa Bay Lightning  \n",
       "4           41  2020030224  Tampa Bay Lightning  "
      ]
     },
     "execution_count": 29,
     "metadata": {},
     "output_type": "execute_result"
    }
   ],
   "source": [
    "game_events_2.head()"
   ]
  },
  {
   "cell_type": "code",
   "execution_count": 30,
   "metadata": {
    "ExecuteTime": {
     "end_time": "2021-06-14T03:05:10.662355Z",
     "start_time": "2021-06-14T03:05:10.398126Z"
    }
   },
   "outputs": [],
   "source": [
    "counter = 200\n",
    "i = 1\n",
    "artifical_scrape_2 = pd.DataFrame()\n",
    "while counter <= 6000:\n",
    "    df = minutes_into_game_df(game_events_2,counter)\n",
    "    differences = df.iloc[1][:9] - df.iloc[0][:9]\n",
    "    differences = differences.to_dict()\n",
    "    output = pd.DataFrame(differences, index=[i])\n",
    "    artifical_scrape_2 = pd.concat([artifical_scrape_2,output], axis=0, ignore_index=True)\n",
    "    counter += 200\n",
    "    i += 1 "
   ]
  },
  {
   "cell_type": "code",
   "execution_count": 31,
   "metadata": {
    "ExecuteTime": {
     "end_time": "2021-06-14T03:05:12.639070Z",
     "start_time": "2021-06-14T03:05:10.663356Z"
    }
   },
   "outputs": [],
   "source": [
    "counter = 200\n",
    "predicts = []\n",
    "probabilities = []\n",
    "i = 0\n",
    "while counter <= 6000:\n",
    "    model = joblib.load(f'./models/{counter}_logreg_search_diffs_2020.pkl')\n",
    "    temp_df = artifical_scrape_2.loc[[i], columns]\n",
    "    try:\n",
    "        temp_list = model.predict(temp_df)\n",
    "        temp_list = temp_list.tolist()\n",
    "        probs = model.predict_proba(temp_df)\n",
    "        probabilities.append(probs[0][1])\n",
    "    except:\n",
    "        temp_list=[]\n",
    "    predicts.extend(temp_list)\n",
    "    counter += 200\n",
    "    i += 1\n",
    "artifical_scrape_2['predictions'] = predicts\n",
    "artifical_scrape_2['probability_win'] = probabilities\n"
   ]
  },
  {
   "cell_type": "code",
   "execution_count": 32,
   "metadata": {
    "ExecuteTime": {
     "end_time": "2021-06-14T03:05:12.654877Z",
     "start_time": "2021-06-14T03:05:12.639864Z"
    }
   },
   "outputs": [
    {
     "data": {
      "text/html": [
       "<div>\n",
       "<style scoped>\n",
       "    .dataframe tbody tr th:only-of-type {\n",
       "        vertical-align: middle;\n",
       "    }\n",
       "\n",
       "    .dataframe tbody tr th {\n",
       "        vertical-align: top;\n",
       "    }\n",
       "\n",
       "    .dataframe thead th {\n",
       "        text-align: right;\n",
       "    }\n",
       "</style>\n",
       "<table border=\"1\" class=\"dataframe\">\n",
       "  <thead>\n",
       "    <tr style=\"text-align: right;\">\n",
       "      <th></th>\n",
       "      <th>Goal</th>\n",
       "      <th>Shot</th>\n",
       "      <th>Blocked Shot</th>\n",
       "      <th>Faceoff</th>\n",
       "      <th>Takeaway</th>\n",
       "      <th>Giveaway</th>\n",
       "      <th>Hit</th>\n",
       "      <th>Missed Shot</th>\n",
       "      <th>Penalty</th>\n",
       "      <th>predictions</th>\n",
       "      <th>probability_win</th>\n",
       "    </tr>\n",
       "  </thead>\n",
       "  <tbody>\n",
       "    <tr>\n",
       "      <th>0</th>\n",
       "      <td>0</td>\n",
       "      <td>1</td>\n",
       "      <td>0</td>\n",
       "      <td>0</td>\n",
       "      <td>0</td>\n",
       "      <td>0</td>\n",
       "      <td>-1</td>\n",
       "      <td>0</td>\n",
       "      <td>0</td>\n",
       "      <td>no</td>\n",
       "      <td>0.258870</td>\n",
       "    </tr>\n",
       "    <tr>\n",
       "      <th>1</th>\n",
       "      <td>0</td>\n",
       "      <td>-1</td>\n",
       "      <td>-1</td>\n",
       "      <td>-2</td>\n",
       "      <td>0</td>\n",
       "      <td>1</td>\n",
       "      <td>-1</td>\n",
       "      <td>-2</td>\n",
       "      <td>0</td>\n",
       "      <td>no</td>\n",
       "      <td>0.220365</td>\n",
       "    </tr>\n",
       "    <tr>\n",
       "      <th>2</th>\n",
       "      <td>0</td>\n",
       "      <td>2</td>\n",
       "      <td>-2</td>\n",
       "      <td>-2</td>\n",
       "      <td>2</td>\n",
       "      <td>1</td>\n",
       "      <td>0</td>\n",
       "      <td>-1</td>\n",
       "      <td>0</td>\n",
       "      <td>no</td>\n",
       "      <td>0.330102</td>\n",
       "    </tr>\n",
       "    <tr>\n",
       "      <th>3</th>\n",
       "      <td>0</td>\n",
       "      <td>2</td>\n",
       "      <td>-2</td>\n",
       "      <td>-2</td>\n",
       "      <td>2</td>\n",
       "      <td>1</td>\n",
       "      <td>-1</td>\n",
       "      <td>-1</td>\n",
       "      <td>0</td>\n",
       "      <td>no</td>\n",
       "      <td>0.343738</td>\n",
       "    </tr>\n",
       "    <tr>\n",
       "      <th>4</th>\n",
       "      <td>0</td>\n",
       "      <td>4</td>\n",
       "      <td>-3</td>\n",
       "      <td>-2</td>\n",
       "      <td>2</td>\n",
       "      <td>1</td>\n",
       "      <td>-1</td>\n",
       "      <td>2</td>\n",
       "      <td>0</td>\n",
       "      <td>no</td>\n",
       "      <td>0.393556</td>\n",
       "    </tr>\n",
       "  </tbody>\n",
       "</table>\n",
       "</div>"
      ],
      "text/plain": [
       "   Goal  Shot  Blocked Shot  Faceoff  Takeaway  Giveaway  Hit  Missed Shot  \\\n",
       "0     0     1             0        0         0         0   -1            0   \n",
       "1     0    -1            -1       -2         0         1   -1           -2   \n",
       "2     0     2            -2       -2         2         1    0           -1   \n",
       "3     0     2            -2       -2         2         1   -1           -1   \n",
       "4     0     4            -3       -2         2         1   -1            2   \n",
       "\n",
       "   Penalty predictions  probability_win  \n",
       "0        0          no         0.258870  \n",
       "1        0          no         0.220365  \n",
       "2        0          no         0.330102  \n",
       "3        0          no         0.343738  \n",
       "4        0          no         0.393556  "
      ]
     },
     "execution_count": 32,
     "metadata": {},
     "output_type": "execute_result"
    }
   ],
   "source": [
    "artifical_scrape_2.head()"
   ]
  },
  {
   "cell_type": "code",
   "execution_count": 33,
   "metadata": {
    "ExecuteTime": {
     "end_time": "2021-06-14T03:05:12.669889Z",
     "start_time": "2021-06-14T03:05:12.655888Z"
    }
   },
   "outputs": [],
   "source": [
    "artifical_scrape_2.to_csv('./data_frames/lighting_canes_artifical_scrape_minutes.csv', index=False)"
   ]
  },
  {
   "cell_type": "code",
   "execution_count": null,
   "metadata": {},
   "outputs": [],
   "source": []
  }
 ],
 "metadata": {
  "kernelspec": {
   "display_name": "Python 3",
   "language": "python",
   "name": "python3"
  },
  "language_info": {
   "codemirror_mode": {
    "name": "ipython",
    "version": 3
   },
   "file_extension": ".py",
   "mimetype": "text/x-python",
   "name": "python",
   "nbconvert_exporter": "python",
   "pygments_lexer": "ipython3",
   "version": "3.8.5"
  }
 },
 "nbformat": 4,
 "nbformat_minor": 4
}
