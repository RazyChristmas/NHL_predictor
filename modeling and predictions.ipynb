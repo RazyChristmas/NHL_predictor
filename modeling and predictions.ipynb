{
 "cells": [
  {
   "cell_type": "code",
   "execution_count": 1,
   "metadata": {
    "ExecuteTime": {
     "end_time": "2021-06-11T00:50:09.088537Z",
     "start_time": "2021-06-11T00:50:07.198258Z"
    }
   },
   "outputs": [],
   "source": [
    "import pandas as pd\n",
    "import numpy as np \n",
    "import matplotlib.pyplot as plt\n",
    "import seaborn as sns\n",
    "\n",
    "from sklearn.model_selection import train_test_split, RandomizedSearchCV\n",
    "from sklearn.ensemble import RandomForestClassifier, ExtraTreesClassifier\n",
    "from sklearn.linear_model import LogisticRegression\n",
    "from sklearn.preprocessing import StandardScaler\n",
    "from sklearn.pipeline import Pipeline\n",
    "\n",
    "import joblib"
   ]
  },
  {
   "cell_type": "markdown",
   "metadata": {},
   "source": [
    "differences "
   ]
  },
  {
   "cell_type": "code",
   "execution_count": 2,
   "metadata": {
    "ExecuteTime": {
     "end_time": "2021-06-11T00:50:09.104059Z",
     "start_time": "2021-06-11T00:50:09.090552Z"
    }
   },
   "outputs": [],
   "source": [
    "model_df = pd.read_csv('./data_frames/game_stats_differences_2020.csv')"
   ]
  },
  {
   "cell_type": "code",
   "execution_count": 3,
   "metadata": {
    "ExecuteTime": {
     "end_time": "2021-06-11T00:50:09.135233Z",
     "start_time": "2021-06-11T00:50:09.107062Z"
    }
   },
   "outputs": [
    {
     "data": {
      "text/html": [
       "<div>\n",
       "<style scoped>\n",
       "    .dataframe tbody tr th:only-of-type {\n",
       "        vertical-align: middle;\n",
       "    }\n",
       "\n",
       "    .dataframe tbody tr th {\n",
       "        vertical-align: top;\n",
       "    }\n",
       "\n",
       "    .dataframe thead th {\n",
       "        text-align: right;\n",
       "    }\n",
       "</style>\n",
       "<table border=\"1\" class=\"dataframe\">\n",
       "  <thead>\n",
       "    <tr style=\"text-align: right;\">\n",
       "      <th></th>\n",
       "      <th>goal_diff</th>\n",
       "      <th>won</th>\n",
       "      <th>game_ids</th>\n",
       "      <th>goals</th>\n",
       "      <th>shots</th>\n",
       "      <th>blocked_shots</th>\n",
       "      <th>penalty_minutes</th>\n",
       "      <th>power_play_percentage</th>\n",
       "      <th>power_play_goals</th>\n",
       "      <th>power_play_chances</th>\n",
       "      <th>faceoff_percent</th>\n",
       "      <th>takeaways</th>\n",
       "      <th>giveaways</th>\n",
       "      <th>hits</th>\n",
       "      <th>ice_tilt</th>\n",
       "    </tr>\n",
       "  </thead>\n",
       "  <tbody>\n",
       "    <tr>\n",
       "      <th>0</th>\n",
       "      <td>3</td>\n",
       "      <td>yes</td>\n",
       "      <td>2020020001</td>\n",
       "      <td>3</td>\n",
       "      <td>-7</td>\n",
       "      <td>2</td>\n",
       "      <td>0</td>\n",
       "      <td>33.4</td>\n",
       "      <td>1.0</td>\n",
       "      <td>0.0</td>\n",
       "      <td>16.0</td>\n",
       "      <td>-2</td>\n",
       "      <td>0</td>\n",
       "      <td>8</td>\n",
       "      <td>-1058.0</td>\n",
       "    </tr>\n",
       "    <tr>\n",
       "      <th>1</th>\n",
       "      <td>4</td>\n",
       "      <td>yes</td>\n",
       "      <td>2020020002</td>\n",
       "      <td>4</td>\n",
       "      <td>10</td>\n",
       "      <td>5</td>\n",
       "      <td>-2</td>\n",
       "      <td>16.7</td>\n",
       "      <td>1.0</td>\n",
       "      <td>1.0</td>\n",
       "      <td>1.8</td>\n",
       "      <td>0</td>\n",
       "      <td>0</td>\n",
       "      <td>2</td>\n",
       "      <td>89.0</td>\n",
       "    </tr>\n",
       "    <tr>\n",
       "      <th>2</th>\n",
       "      <td>1</td>\n",
       "      <td>yes</td>\n",
       "      <td>2020020003</td>\n",
       "      <td>1</td>\n",
       "      <td>2</td>\n",
       "      <td>-5</td>\n",
       "      <td>-2</td>\n",
       "      <td>-16.7</td>\n",
       "      <td>0.0</td>\n",
       "      <td>1.0</td>\n",
       "      <td>8.0</td>\n",
       "      <td>-1</td>\n",
       "      <td>-4</td>\n",
       "      <td>-18</td>\n",
       "      <td>1328.0</td>\n",
       "    </tr>\n",
       "    <tr>\n",
       "      <th>3</th>\n",
       "      <td>-2</td>\n",
       "      <td>no</td>\n",
       "      <td>2020020004</td>\n",
       "      <td>-2</td>\n",
       "      <td>-4</td>\n",
       "      <td>3</td>\n",
       "      <td>-4</td>\n",
       "      <td>0.0</td>\n",
       "      <td>0.0</td>\n",
       "      <td>2.0</td>\n",
       "      <td>3.6</td>\n",
       "      <td>-1</td>\n",
       "      <td>4</td>\n",
       "      <td>-1</td>\n",
       "      <td>695.0</td>\n",
       "    </tr>\n",
       "    <tr>\n",
       "      <th>4</th>\n",
       "      <td>-3</td>\n",
       "      <td>no</td>\n",
       "      <td>2020020005</td>\n",
       "      <td>-3</td>\n",
       "      <td>-5</td>\n",
       "      <td>-8</td>\n",
       "      <td>-4</td>\n",
       "      <td>25.0</td>\n",
       "      <td>1.0</td>\n",
       "      <td>2.0</td>\n",
       "      <td>8.8</td>\n",
       "      <td>3</td>\n",
       "      <td>5</td>\n",
       "      <td>1</td>\n",
       "      <td>405.0</td>\n",
       "    </tr>\n",
       "  </tbody>\n",
       "</table>\n",
       "</div>"
      ],
      "text/plain": [
       "   goal_diff  won    game_ids  goals  shots  blocked_shots  penalty_minutes  \\\n",
       "0          3  yes  2020020001      3     -7              2                0   \n",
       "1          4  yes  2020020002      4     10              5               -2   \n",
       "2          1  yes  2020020003      1      2             -5               -2   \n",
       "3         -2   no  2020020004     -2     -4              3               -4   \n",
       "4         -3   no  2020020005     -3     -5             -8               -4   \n",
       "\n",
       "   power_play_percentage  power_play_goals  power_play_chances  \\\n",
       "0                   33.4               1.0                 0.0   \n",
       "1                   16.7               1.0                 1.0   \n",
       "2                  -16.7               0.0                 1.0   \n",
       "3                    0.0               0.0                 2.0   \n",
       "4                   25.0               1.0                 2.0   \n",
       "\n",
       "   faceoff_percent  takeaways  giveaways  hits  ice_tilt  \n",
       "0             16.0         -2          0     8   -1058.0  \n",
       "1              1.8          0          0     2      89.0  \n",
       "2              8.0         -1         -4   -18    1328.0  \n",
       "3              3.6         -1          4    -1     695.0  \n",
       "4              8.8          3          5     1     405.0  "
      ]
     },
     "execution_count": 3,
     "metadata": {},
     "output_type": "execute_result"
    }
   ],
   "source": [
    "model_df.head()"
   ]
  },
  {
   "cell_type": "code",
   "execution_count": 4,
   "metadata": {
    "ExecuteTime": {
     "end_time": "2021-06-11T00:50:09.151101Z",
     "start_time": "2021-06-11T00:50:09.137098Z"
    }
   },
   "outputs": [],
   "source": [
    "X = model_df.drop(columns=['won', 'goal_diff','goals','game_ids', ])\n",
    "y = model_df['won']\n",
    "\n",
    "X_train, X_test, y_train, y_test = train_test_split(X,y, random_state = 42)"
   ]
  },
  {
   "cell_type": "code",
   "execution_count": 5,
   "metadata": {
    "ExecuteTime": {
     "end_time": "2021-06-11T00:50:09.167128Z",
     "start_time": "2021-06-11T00:50:09.153102Z"
    }
   },
   "outputs": [],
   "source": [
    "sc = StandardScaler()\n",
    "\n",
    "Xs_train = sc.fit_transform(X_train)\n",
    "Xs_test = sc.transform(X_test)"
   ]
  },
  {
   "cell_type": "code",
   "execution_count": 6,
   "metadata": {
    "ExecuteTime": {
     "end_time": "2021-06-11T00:50:09.183152Z",
     "start_time": "2021-06-11T00:50:09.169140Z"
    }
   },
   "outputs": [],
   "source": [
    "logreg = LogisticRegression(random_state=42, max_iter=1000)"
   ]
  },
  {
   "cell_type": "code",
   "execution_count": 7,
   "metadata": {
    "ExecuteTime": {
     "end_time": "2021-06-11T00:50:09.199156Z",
     "start_time": "2021-06-11T00:50:09.185145Z"
    }
   },
   "outputs": [],
   "source": [
    "log_params = {\n",
    "    'C': np.linspace(0.1,4,100)\n",
    "             }"
   ]
  },
  {
   "cell_type": "code",
   "execution_count": 8,
   "metadata": {
    "ExecuteTime": {
     "end_time": "2021-06-11T00:50:09.215170Z",
     "start_time": "2021-06-11T00:50:09.200158Z"
    }
   },
   "outputs": [],
   "source": [
    "log_reg = RandomizedSearchCV(logreg,log_params,n_iter=100,n_jobs=-1,verbose=1)"
   ]
  },
  {
   "cell_type": "code",
   "execution_count": 9,
   "metadata": {
    "ExecuteTime": {
     "end_time": "2021-06-11T00:50:13.140639Z",
     "start_time": "2021-06-11T00:50:09.216170Z"
    }
   },
   "outputs": [
    {
     "name": "stdout",
     "output_type": "stream",
     "text": [
      "Fitting 5 folds for each of 100 candidates, totalling 500 fits\n"
     ]
    },
    {
     "data": {
      "text/plain": [
       "RandomizedSearchCV(estimator=LogisticRegression(max_iter=1000, random_state=42),\n",
       "                   n_iter=100, n_jobs=-1,\n",
       "                   param_distributions={'C': array([0.1       , 0.13939394, 0.17878788, 0.21818182, 0.25757576,\n",
       "       0.2969697 , 0.33636364, 0.37575758, 0.41515152, 0.45454545,\n",
       "       0.49393939, 0.53333333, 0.57272727, 0.61212121, 0.65151515,\n",
       "       0.69090909, 0.73030303, 0.76969697, 0.80909091, 0.84848485,\n",
       "       0.8878...\n",
       "       2.66060606, 2.7       , 2.73939394, 2.77878788, 2.81818182,\n",
       "       2.85757576, 2.8969697 , 2.93636364, 2.97575758, 3.01515152,\n",
       "       3.05454545, 3.09393939, 3.13333333, 3.17272727, 3.21212121,\n",
       "       3.25151515, 3.29090909, 3.33030303, 3.36969697, 3.40909091,\n",
       "       3.44848485, 3.48787879, 3.52727273, 3.56666667, 3.60606061,\n",
       "       3.64545455, 3.68484848, 3.72424242, 3.76363636, 3.8030303 ,\n",
       "       3.84242424, 3.88181818, 3.92121212, 3.96060606, 4.        ])},\n",
       "                   verbose=1)"
      ]
     },
     "execution_count": 9,
     "metadata": {},
     "output_type": "execute_result"
    }
   ],
   "source": [
    "log_reg.fit(Xs_train,y_train)"
   ]
  },
  {
   "cell_type": "code",
   "execution_count": 10,
   "metadata": {
    "ExecuteTime": {
     "end_time": "2021-06-11T00:50:13.155915Z",
     "start_time": "2021-06-11T00:50:13.141640Z"
    }
   },
   "outputs": [
    {
     "data": {
      "text/plain": [
       "{'C': 0.17878787878787877}"
      ]
     },
     "execution_count": 10,
     "metadata": {},
     "output_type": "execute_result"
    }
   ],
   "source": [
    "log_reg.best_params_"
   ]
  },
  {
   "cell_type": "code",
   "execution_count": 11,
   "metadata": {
    "ExecuteTime": {
     "end_time": "2021-06-11T00:50:13.171929Z",
     "start_time": "2021-06-11T00:50:13.156917Z"
    },
    "scrolled": false
   },
   "outputs": [
    {
     "data": {
      "text/plain": [
       "(0.7419354838709677, 0.6912442396313364)"
      ]
     },
     "execution_count": 11,
     "metadata": {},
     "output_type": "execute_result"
    }
   ],
   "source": [
    "log_reg.score(Xs_test,y_test), log_reg.score(Xs_train,y_train)"
   ]
  },
  {
   "cell_type": "code",
   "execution_count": 12,
   "metadata": {
    "ExecuteTime": {
     "end_time": "2021-06-11T00:50:13.187942Z",
     "start_time": "2021-06-11T00:50:13.172931Z"
    }
   },
   "outputs": [
    {
     "data": {
      "text/plain": [
       "['./models/log_reg.pkl']"
      ]
     },
     "execution_count": 12,
     "metadata": {},
     "output_type": "execute_result"
    }
   ],
   "source": [
    "joblib.dump(log_reg,'./models/log_reg.pkl')"
   ]
  },
  {
   "cell_type": "markdown",
   "metadata": {},
   "source": [
    "random forest"
   ]
  },
  {
   "cell_type": "code",
   "execution_count": 13,
   "metadata": {
    "ExecuteTime": {
     "end_time": "2021-06-11T00:50:13.203968Z",
     "start_time": "2021-06-11T00:50:13.188943Z"
    }
   },
   "outputs": [],
   "source": [
    "rfc = RandomForestClassifier()"
   ]
  },
  {
   "cell_type": "code",
   "execution_count": 14,
   "metadata": {
    "ExecuteTime": {
     "end_time": "2021-06-11T00:50:13.219972Z",
     "start_time": "2021-06-11T00:50:13.204959Z"
    }
   },
   "outputs": [],
   "source": [
    "rfc_params = {\n",
    "    'n_estimators': list(range(2,51,1)),\n",
    "    'max_depth': list(range(3,51,1)),\n",
    "    'min_samples_split': list(range(2,51,1)),\n",
    "    'min_samples_leaf': list(range(2,51,1)),\n",
    "    'max_features': ['auto','sqrt','log2']\n",
    "}"
   ]
  },
  {
   "cell_type": "code",
   "execution_count": 15,
   "metadata": {
    "ExecuteTime": {
     "end_time": "2021-06-11T00:50:13.235986Z",
     "start_time": "2021-06-11T00:50:13.221974Z"
    }
   },
   "outputs": [],
   "source": [
    "rfc_search = RandomizedSearchCV(rfc,rfc_params,n_iter=1000,n_jobs=-2,verbose=1,random_state=42)"
   ]
  },
  {
   "cell_type": "code",
   "execution_count": 16,
   "metadata": {
    "ExecuteTime": {
     "end_time": "2021-06-11T00:50:40.212973Z",
     "start_time": "2021-06-11T00:50:13.236987Z"
    }
   },
   "outputs": [
    {
     "name": "stdout",
     "output_type": "stream",
     "text": [
      "Fitting 5 folds for each of 1000 candidates, totalling 5000 fits\n"
     ]
    },
    {
     "data": {
      "text/plain": [
       "RandomizedSearchCV(estimator=RandomForestClassifier(), n_iter=1000, n_jobs=-2,\n",
       "                   param_distributions={'max_depth': [3, 4, 5, 6, 7, 8, 9, 10,\n",
       "                                                      11, 12, 13, 14, 15, 16,\n",
       "                                                      17, 18, 19, 20, 21, 22,\n",
       "                                                      23, 24, 25, 26, 27, 28,\n",
       "                                                      29, 30, 31, 32, ...],\n",
       "                                        'max_features': ['auto', 'sqrt',\n",
       "                                                         'log2'],\n",
       "                                        'min_samples_leaf': [2, 3, 4, 5, 6, 7,\n",
       "                                                             8, 9, 10, 11, 12,\n",
       "                                                             13, 14, 15, 16, 17,\n",
       "                                                             18, 19, 20, 21, 22,\n",
       "                                                             23, 24, 25, 26, 27,\n",
       "                                                             28, 29, 30, 31, ...],\n",
       "                                        'min_samples_split': [2, 3, 4, 5, 6, 7,\n",
       "                                                              8, 9, 10, 11, 12,\n",
       "                                                              13, 14, 15, 16,\n",
       "                                                              17, 18, 19, 20,\n",
       "                                                              21, 22, 23, 24,\n",
       "                                                              25, 26, 27, 28,\n",
       "                                                              29, 30, 31, ...],\n",
       "                                        'n_estimators': [2, 3, 4, 5, 6, 7, 8, 9,\n",
       "                                                         10, 11, 12, 13, 14, 15,\n",
       "                                                         16, 17, 18, 19, 20, 21,\n",
       "                                                         22, 23, 24, 25, 26, 27,\n",
       "                                                         28, 29, 30, 31, ...]},\n",
       "                   random_state=42, verbose=1)"
      ]
     },
     "execution_count": 16,
     "metadata": {},
     "output_type": "execute_result"
    }
   ],
   "source": [
    "rfc_search.fit(X_train,y_train)"
   ]
  },
  {
   "cell_type": "code",
   "execution_count": 17,
   "metadata": {
    "ExecuteTime": {
     "end_time": "2021-06-11T00:50:40.243365Z",
     "start_time": "2021-06-11T00:50:40.213973Z"
    }
   },
   "outputs": [
    {
     "data": {
      "text/plain": [
       "(0.7035330261136713, 0.7142857142857143)"
      ]
     },
     "execution_count": 17,
     "metadata": {},
     "output_type": "execute_result"
    }
   ],
   "source": [
    "rfc_search.score(X_train,y_train), rfc_search.score(X_test,y_test)"
   ]
  },
  {
   "cell_type": "code",
   "execution_count": 18,
   "metadata": {
    "ExecuteTime": {
     "end_time": "2021-06-11T00:50:40.259389Z",
     "start_time": "2021-06-11T00:50:40.244366Z"
    }
   },
   "outputs": [
    {
     "data": {
      "text/plain": [
       "array([0.04444509, 0.12279573, 0.01589059, 0.31355386, 0.23780591,\n",
       "       0.01008572, 0.0581746 , 0.0486683 , 0.04723833, 0.0695592 ,\n",
       "       0.03178267])"
      ]
     },
     "execution_count": 18,
     "metadata": {},
     "output_type": "execute_result"
    }
   ],
   "source": [
    "rfc_search.best_estimator_.feature_importances_"
   ]
  },
  {
   "cell_type": "code",
   "execution_count": 19,
   "metadata": {
    "ExecuteTime": {
     "end_time": "2021-06-11T00:50:40.275394Z",
     "start_time": "2021-06-11T00:50:40.260380Z"
    }
   },
   "outputs": [
    {
     "data": {
      "text/plain": [
       "{'n_estimators': 35,\n",
       " 'min_samples_split': 12,\n",
       " 'min_samples_leaf': 17,\n",
       " 'max_features': 'log2',\n",
       " 'max_depth': 3}"
      ]
     },
     "execution_count": 19,
     "metadata": {},
     "output_type": "execute_result"
    }
   ],
   "source": [
    "rfc_search.best_params_"
   ]
  },
  {
   "cell_type": "code",
   "execution_count": 20,
   "metadata": {
    "ExecuteTime": {
     "end_time": "2021-06-11T00:50:40.353472Z",
     "start_time": "2021-06-11T00:50:40.276393Z"
    }
   },
   "outputs": [
    {
     "data": {
      "text/plain": [
       "['./models/random_forest_classifier.pkl']"
      ]
     },
     "execution_count": 20,
     "metadata": {},
     "output_type": "execute_result"
    }
   ],
   "source": [
    "joblib.dump(rfc_search,'./models/random_forest_classifier.pkl')"
   ]
  },
  {
   "cell_type": "code",
   "execution_count": null,
   "metadata": {},
   "outputs": [],
   "source": []
  },
  {
   "cell_type": "markdown",
   "metadata": {},
   "source": [
    "just box scores"
   ]
  },
  {
   "cell_type": "code",
   "execution_count": 21,
   "metadata": {
    "ExecuteTime": {
     "end_time": "2021-06-11T00:50:40.369486Z",
     "start_time": "2021-06-11T00:50:40.356465Z"
    }
   },
   "outputs": [],
   "source": [
    "box_scores = pd.read_csv('./data_frames/2020_end_game_boxscores.csv')"
   ]
  },
  {
   "cell_type": "code",
   "execution_count": 22,
   "metadata": {
    "ExecuteTime": {
     "end_time": "2021-06-11T00:50:40.400727Z",
     "start_time": "2021-06-11T00:50:40.371477Z"
    }
   },
   "outputs": [
    {
     "data": {
      "text/html": [
       "<div>\n",
       "<style scoped>\n",
       "    .dataframe tbody tr th:only-of-type {\n",
       "        vertical-align: middle;\n",
       "    }\n",
       "\n",
       "    .dataframe tbody tr th {\n",
       "        vertical-align: top;\n",
       "    }\n",
       "\n",
       "    .dataframe thead th {\n",
       "        text-align: right;\n",
       "    }\n",
       "</style>\n",
       "<table border=\"1\" class=\"dataframe\">\n",
       "  <thead>\n",
       "    <tr style=\"text-align: right;\">\n",
       "      <th></th>\n",
       "      <th>team</th>\n",
       "      <th>home_status</th>\n",
       "      <th>goals</th>\n",
       "      <th>shots</th>\n",
       "      <th>blocked_shots</th>\n",
       "      <th>penalty_minutes</th>\n",
       "      <th>power_play_percentage</th>\n",
       "      <th>power_play_goals</th>\n",
       "      <th>power_play_chances</th>\n",
       "      <th>faceoff_percent</th>\n",
       "      <th>takeaways</th>\n",
       "      <th>giveaways</th>\n",
       "      <th>hits</th>\n",
       "      <th>goal_diff</th>\n",
       "      <th>won</th>\n",
       "    </tr>\n",
       "  </thead>\n",
       "  <tbody>\n",
       "    <tr>\n",
       "      <th>1356</th>\n",
       "      <td>Florida Panthers</td>\n",
       "      <td>away</td>\n",
       "      <td>2</td>\n",
       "      <td>38</td>\n",
       "      <td>11</td>\n",
       "      <td>4</td>\n",
       "      <td>0.0</td>\n",
       "      <td>0.0</td>\n",
       "      <td>3.0</td>\n",
       "      <td>66.0</td>\n",
       "      <td>3</td>\n",
       "      <td>0</td>\n",
       "      <td>26</td>\n",
       "      <td>-1</td>\n",
       "      <td>no</td>\n",
       "    </tr>\n",
       "    <tr>\n",
       "      <th>1357</th>\n",
       "      <td>Tampa Bay Lightning</td>\n",
       "      <td>home</td>\n",
       "      <td>3</td>\n",
       "      <td>19</td>\n",
       "      <td>7</td>\n",
       "      <td>6</td>\n",
       "      <td>50.0</td>\n",
       "      <td>1.0</td>\n",
       "      <td>2.0</td>\n",
       "      <td>34.0</td>\n",
       "      <td>7</td>\n",
       "      <td>1</td>\n",
       "      <td>35</td>\n",
       "      <td>1</td>\n",
       "      <td>yes</td>\n",
       "    </tr>\n",
       "    <tr>\n",
       "      <th>1358</th>\n",
       "      <td>Philadelphia Flyers</td>\n",
       "      <td>away</td>\n",
       "      <td>1</td>\n",
       "      <td>27</td>\n",
       "      <td>13</td>\n",
       "      <td>6</td>\n",
       "      <td>0.0</td>\n",
       "      <td>0.0</td>\n",
       "      <td>3.0</td>\n",
       "      <td>51.5</td>\n",
       "      <td>5</td>\n",
       "      <td>6</td>\n",
       "      <td>25</td>\n",
       "      <td>0</td>\n",
       "      <td>no</td>\n",
       "    </tr>\n",
       "    <tr>\n",
       "      <th>1359</th>\n",
       "      <td>Pittsburgh Penguins</td>\n",
       "      <td>home</td>\n",
       "      <td>1</td>\n",
       "      <td>32</td>\n",
       "      <td>6</td>\n",
       "      <td>6</td>\n",
       "      <td>0.0</td>\n",
       "      <td>0.0</td>\n",
       "      <td>3.0</td>\n",
       "      <td>48.5</td>\n",
       "      <td>9</td>\n",
       "      <td>9</td>\n",
       "      <td>16</td>\n",
       "      <td>0</td>\n",
       "      <td>no</td>\n",
       "    </tr>\n",
       "    <tr>\n",
       "      <th>1360</th>\n",
       "      <td>Chicago Blackhawks</td>\n",
       "      <td>away</td>\n",
       "      <td>1</td>\n",
       "      <td>25</td>\n",
       "      <td>6</td>\n",
       "      <td>2</td>\n",
       "      <td>0.0</td>\n",
       "      <td>0.0</td>\n",
       "      <td>3.0</td>\n",
       "      <td>38.1</td>\n",
       "      <td>5</td>\n",
       "      <td>4</td>\n",
       "      <td>9</td>\n",
       "      <td>-3</td>\n",
       "      <td>no</td>\n",
       "    </tr>\n",
       "    <tr>\n",
       "      <th>...</th>\n",
       "      <td>...</td>\n",
       "      <td>...</td>\n",
       "      <td>...</td>\n",
       "      <td>...</td>\n",
       "      <td>...</td>\n",
       "      <td>...</td>\n",
       "      <td>...</td>\n",
       "      <td>...</td>\n",
       "      <td>...</td>\n",
       "      <td>...</td>\n",
       "      <td>...</td>\n",
       "      <td>...</td>\n",
       "      <td>...</td>\n",
       "      <td>...</td>\n",
       "      <td>...</td>\n",
       "    </tr>\n",
       "    <tr>\n",
       "      <th>1731</th>\n",
       "      <td>Vegas Golden Knights</td>\n",
       "      <td>home</td>\n",
       "      <td>4</td>\n",
       "      <td>29</td>\n",
       "      <td>17</td>\n",
       "      <td>10</td>\n",
       "      <td>25.0</td>\n",
       "      <td>1.0</td>\n",
       "      <td>4.0</td>\n",
       "      <td>42.9</td>\n",
       "      <td>9</td>\n",
       "      <td>2</td>\n",
       "      <td>25</td>\n",
       "      <td>3</td>\n",
       "      <td>yes</td>\n",
       "    </tr>\n",
       "    <tr>\n",
       "      <th>1732</th>\n",
       "      <td>Colorado Avalanche</td>\n",
       "      <td>away</td>\n",
       "      <td>3</td>\n",
       "      <td>30</td>\n",
       "      <td>13</td>\n",
       "      <td>4</td>\n",
       "      <td>33.3</td>\n",
       "      <td>1.0</td>\n",
       "      <td>3.0</td>\n",
       "      <td>42.2</td>\n",
       "      <td>5</td>\n",
       "      <td>9</td>\n",
       "      <td>30</td>\n",
       "      <td>1</td>\n",
       "      <td>yes</td>\n",
       "    </tr>\n",
       "    <tr>\n",
       "      <th>1733</th>\n",
       "      <td>Los Angeles Kings</td>\n",
       "      <td>home</td>\n",
       "      <td>2</td>\n",
       "      <td>18</td>\n",
       "      <td>12</td>\n",
       "      <td>6</td>\n",
       "      <td>0.0</td>\n",
       "      <td>0.0</td>\n",
       "      <td>2.0</td>\n",
       "      <td>57.8</td>\n",
       "      <td>1</td>\n",
       "      <td>7</td>\n",
       "      <td>23</td>\n",
       "      <td>-1</td>\n",
       "      <td>no</td>\n",
       "    </tr>\n",
       "    <tr>\n",
       "      <th>1734</th>\n",
       "      <td>Arizona Coyotes</td>\n",
       "      <td>away</td>\n",
       "      <td>5</td>\n",
       "      <td>32</td>\n",
       "      <td>8</td>\n",
       "      <td>6</td>\n",
       "      <td>50.0</td>\n",
       "      <td>1.0</td>\n",
       "      <td>2.0</td>\n",
       "      <td>51.6</td>\n",
       "      <td>6</td>\n",
       "      <td>9</td>\n",
       "      <td>13</td>\n",
       "      <td>1</td>\n",
       "      <td>yes</td>\n",
       "    </tr>\n",
       "    <tr>\n",
       "      <th>1735</th>\n",
       "      <td>San Jose Sharks</td>\n",
       "      <td>home</td>\n",
       "      <td>4</td>\n",
       "      <td>48</td>\n",
       "      <td>6</td>\n",
       "      <td>6</td>\n",
       "      <td>0.0</td>\n",
       "      <td>0.0</td>\n",
       "      <td>2.0</td>\n",
       "      <td>48.4</td>\n",
       "      <td>7</td>\n",
       "      <td>12</td>\n",
       "      <td>12</td>\n",
       "      <td>-1</td>\n",
       "      <td>no</td>\n",
       "    </tr>\n",
       "  </tbody>\n",
       "</table>\n",
       "<p>380 rows × 15 columns</p>\n",
       "</div>"
      ],
      "text/plain": [
       "                      team home_status  goals  shots  blocked_shots  \\\n",
       "1356      Florida Panthers        away      2     38             11   \n",
       "1357   Tampa Bay Lightning        home      3     19              7   \n",
       "1358   Philadelphia Flyers        away      1     27             13   \n",
       "1359   Pittsburgh Penguins        home      1     32              6   \n",
       "1360    Chicago Blackhawks        away      1     25              6   \n",
       "...                    ...         ...    ...    ...            ...   \n",
       "1731  Vegas Golden Knights        home      4     29             17   \n",
       "1732    Colorado Avalanche        away      3     30             13   \n",
       "1733     Los Angeles Kings        home      2     18             12   \n",
       "1734       Arizona Coyotes        away      5     32              8   \n",
       "1735       San Jose Sharks        home      4     48              6   \n",
       "\n",
       "      penalty_minutes  power_play_percentage  power_play_goals  \\\n",
       "1356                4                    0.0               0.0   \n",
       "1357                6                   50.0               1.0   \n",
       "1358                6                    0.0               0.0   \n",
       "1359                6                    0.0               0.0   \n",
       "1360                2                    0.0               0.0   \n",
       "...               ...                    ...               ...   \n",
       "1731               10                   25.0               1.0   \n",
       "1732                4                   33.3               1.0   \n",
       "1733                6                    0.0               0.0   \n",
       "1734                6                   50.0               1.0   \n",
       "1735                6                    0.0               0.0   \n",
       "\n",
       "      power_play_chances  faceoff_percent  takeaways  giveaways  hits  \\\n",
       "1356                 3.0             66.0          3          0    26   \n",
       "1357                 2.0             34.0          7          1    35   \n",
       "1358                 3.0             51.5          5          6    25   \n",
       "1359                 3.0             48.5          9          9    16   \n",
       "1360                 3.0             38.1          5          4     9   \n",
       "...                  ...              ...        ...        ...   ...   \n",
       "1731                 4.0             42.9          9          2    25   \n",
       "1732                 3.0             42.2          5          9    30   \n",
       "1733                 2.0             57.8          1          7    23   \n",
       "1734                 2.0             51.6          6          9    13   \n",
       "1735                 2.0             48.4          7         12    12   \n",
       "\n",
       "      goal_diff  won  \n",
       "1356         -1   no  \n",
       "1357          1  yes  \n",
       "1358          0   no  \n",
       "1359          0   no  \n",
       "1360         -3   no  \n",
       "...         ...  ...  \n",
       "1731          3  yes  \n",
       "1732          1  yes  \n",
       "1733         -1   no  \n",
       "1734          1  yes  \n",
       "1735         -1   no  \n",
       "\n",
       "[380 rows x 15 columns]"
      ]
     },
     "execution_count": 22,
     "metadata": {},
     "output_type": "execute_result"
    }
   ],
   "source": [
    "box_scores.tail(380)"
   ]
  },
  {
   "cell_type": "code",
   "execution_count": 23,
   "metadata": {
    "ExecuteTime": {
     "end_time": "2021-06-11T00:50:40.416742Z",
     "start_time": "2021-06-11T00:50:40.401728Z"
    }
   },
   "outputs": [],
   "source": [
    "X = box_scores.drop(columns=['won', 'team', 'home_status', 'goal_diff','goals'])\n",
    "y = box_scores['won']\n",
    "\n",
    "X_train, X_test, y_train, y_test = train_test_split(X,y, random_state = 42)"
   ]
  },
  {
   "cell_type": "code",
   "execution_count": 24,
   "metadata": {
    "ExecuteTime": {
     "end_time": "2021-06-11T00:50:40.479809Z",
     "start_time": "2021-06-11T00:50:40.418744Z"
    }
   },
   "outputs": [
    {
     "data": {
      "text/plain": [
       "LogisticRegression(max_iter=5000)"
      ]
     },
     "execution_count": 24,
     "metadata": {},
     "output_type": "execute_result"
    }
   ],
   "source": [
    "# Step 2: Instantiate our model.\n",
    "logreg = LogisticRegression(max_iter=5000)\n",
    "\n",
    "# Step 3: Fit our model.\n",
    "logreg.fit(X_train,y_train)"
   ]
  },
  {
   "cell_type": "code",
   "execution_count": 25,
   "metadata": {
    "ExecuteTime": {
     "end_time": "2021-06-11T00:50:40.495833Z",
     "start_time": "2021-06-11T00:50:40.480809Z"
    }
   },
   "outputs": [
    {
     "data": {
      "text/plain": [
       "(0.6336405529953917, 0.6482334869431644)"
      ]
     },
     "execution_count": 25,
     "metadata": {},
     "output_type": "execute_result"
    }
   ],
   "source": [
    "logreg.score(X_test,y_test), logreg.score(X_train,y_train)"
   ]
  },
  {
   "cell_type": "code",
   "execution_count": 26,
   "metadata": {
    "ExecuteTime": {
     "end_time": "2021-06-11T01:56:25.499717Z",
     "start_time": "2021-06-11T01:56:25.483703Z"
    }
   },
   "outputs": [
    {
     "data": {
      "text/plain": [
       "['./models/box_score_log_reg_2020']"
      ]
     },
     "execution_count": 26,
     "metadata": {},
     "output_type": "execute_result"
    }
   ],
   "source": [
    "joblib.dump(logreg, './models/box_score_log_reg_2020')"
   ]
  },
  {
   "cell_type": "code",
   "execution_count": null,
   "metadata": {},
   "outputs": [],
   "source": []
  },
  {
   "cell_type": "code",
   "execution_count": null,
   "metadata": {},
   "outputs": [],
   "source": []
  }
 ],
 "metadata": {
  "kernelspec": {
   "display_name": "Python 3",
   "language": "python",
   "name": "python3"
  },
  "language_info": {
   "codemirror_mode": {
    "name": "ipython",
    "version": 3
   },
   "file_extension": ".py",
   "mimetype": "text/x-python",
   "name": "python",
   "nbconvert_exporter": "python",
   "pygments_lexer": "ipython3",
   "version": "3.8.5"
  }
 },
 "nbformat": 4,
 "nbformat_minor": 4
}
