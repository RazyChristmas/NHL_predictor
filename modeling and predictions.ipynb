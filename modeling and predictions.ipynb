{
 "cells": [
  {
   "cell_type": "code",
   "execution_count": 5,
   "metadata": {
    "ExecuteTime": {
     "end_time": "2021-06-08T23:45:49.878227Z",
     "start_time": "2021-06-08T23:45:49.861222Z"
    }
   },
   "outputs": [],
   "source": [
    "import pandas as pd\n",
    "import numpy as np \n",
    "import matplotlib.pyplot as plt\n",
    "import seaborn as sns\n",
    "\n",
    "from sklearn.model_selection import train_test_split\n",
    "from sklearn.linear_model import LogisticRegression"
   ]
  },
  {
   "cell_type": "markdown",
   "metadata": {},
   "source": [
    "differences "
   ]
  },
  {
   "cell_type": "code",
   "execution_count": 2,
   "metadata": {
    "ExecuteTime": {
     "end_time": "2021-06-08T23:44:42.395916Z",
     "start_time": "2021-06-08T23:44:42.367893Z"
    }
   },
   "outputs": [],
   "source": [
    "model_df = pd.read_csv('./data_frames/game_stats_differences_2020.csv')"
   ]
  },
  {
   "cell_type": "code",
   "execution_count": 3,
   "metadata": {
    "ExecuteTime": {
     "end_time": "2021-06-08T23:44:49.088213Z",
     "start_time": "2021-06-08T23:44:49.069207Z"
    }
   },
   "outputs": [
    {
     "data": {
      "text/html": [
       "<div>\n",
       "<style scoped>\n",
       "    .dataframe tbody tr th:only-of-type {\n",
       "        vertical-align: middle;\n",
       "    }\n",
       "\n",
       "    .dataframe tbody tr th {\n",
       "        vertical-align: top;\n",
       "    }\n",
       "\n",
       "    .dataframe thead th {\n",
       "        text-align: right;\n",
       "    }\n",
       "</style>\n",
       "<table border=\"1\" class=\"dataframe\">\n",
       "  <thead>\n",
       "    <tr style=\"text-align: right;\">\n",
       "      <th></th>\n",
       "      <th>goal_diff</th>\n",
       "      <th>won</th>\n",
       "      <th>game_ids</th>\n",
       "      <th>goals</th>\n",
       "      <th>shots</th>\n",
       "      <th>blocked_shots</th>\n",
       "      <th>penalty_minutes</th>\n",
       "      <th>power_play_percentage</th>\n",
       "      <th>power_play_goals</th>\n",
       "      <th>power_play_chances</th>\n",
       "      <th>faceoff_percent</th>\n",
       "      <th>takeaways</th>\n",
       "      <th>giveaways</th>\n",
       "      <th>hits</th>\n",
       "      <th>ice_tilt</th>\n",
       "    </tr>\n",
       "  </thead>\n",
       "  <tbody>\n",
       "    <tr>\n",
       "      <th>0</th>\n",
       "      <td>3</td>\n",
       "      <td>yes</td>\n",
       "      <td>2020020001</td>\n",
       "      <td>3</td>\n",
       "      <td>-7</td>\n",
       "      <td>2</td>\n",
       "      <td>0</td>\n",
       "      <td>33.4</td>\n",
       "      <td>1.0</td>\n",
       "      <td>0.0</td>\n",
       "      <td>16.0</td>\n",
       "      <td>-2</td>\n",
       "      <td>0</td>\n",
       "      <td>8</td>\n",
       "      <td>-1058.0</td>\n",
       "    </tr>\n",
       "    <tr>\n",
       "      <th>1</th>\n",
       "      <td>4</td>\n",
       "      <td>yes</td>\n",
       "      <td>2020020002</td>\n",
       "      <td>4</td>\n",
       "      <td>10</td>\n",
       "      <td>5</td>\n",
       "      <td>-2</td>\n",
       "      <td>16.7</td>\n",
       "      <td>1.0</td>\n",
       "      <td>1.0</td>\n",
       "      <td>1.8</td>\n",
       "      <td>0</td>\n",
       "      <td>0</td>\n",
       "      <td>2</td>\n",
       "      <td>89.0</td>\n",
       "    </tr>\n",
       "    <tr>\n",
       "      <th>2</th>\n",
       "      <td>1</td>\n",
       "      <td>yes</td>\n",
       "      <td>2020020003</td>\n",
       "      <td>1</td>\n",
       "      <td>2</td>\n",
       "      <td>-5</td>\n",
       "      <td>-2</td>\n",
       "      <td>-16.7</td>\n",
       "      <td>0.0</td>\n",
       "      <td>1.0</td>\n",
       "      <td>8.0</td>\n",
       "      <td>-1</td>\n",
       "      <td>-4</td>\n",
       "      <td>-18</td>\n",
       "      <td>1328.0</td>\n",
       "    </tr>\n",
       "    <tr>\n",
       "      <th>3</th>\n",
       "      <td>-2</td>\n",
       "      <td>no</td>\n",
       "      <td>2020020004</td>\n",
       "      <td>-2</td>\n",
       "      <td>-4</td>\n",
       "      <td>3</td>\n",
       "      <td>-4</td>\n",
       "      <td>0.0</td>\n",
       "      <td>0.0</td>\n",
       "      <td>2.0</td>\n",
       "      <td>3.6</td>\n",
       "      <td>-1</td>\n",
       "      <td>4</td>\n",
       "      <td>-1</td>\n",
       "      <td>695.0</td>\n",
       "    </tr>\n",
       "    <tr>\n",
       "      <th>4</th>\n",
       "      <td>-3</td>\n",
       "      <td>no</td>\n",
       "      <td>2020020005</td>\n",
       "      <td>-3</td>\n",
       "      <td>-5</td>\n",
       "      <td>-8</td>\n",
       "      <td>-4</td>\n",
       "      <td>25.0</td>\n",
       "      <td>1.0</td>\n",
       "      <td>2.0</td>\n",
       "      <td>8.8</td>\n",
       "      <td>3</td>\n",
       "      <td>5</td>\n",
       "      <td>1</td>\n",
       "      <td>405.0</td>\n",
       "    </tr>\n",
       "  </tbody>\n",
       "</table>\n",
       "</div>"
      ],
      "text/plain": [
       "   goal_diff  won    game_ids  goals  shots  blocked_shots  penalty_minutes  \\\n",
       "0          3  yes  2020020001      3     -7              2                0   \n",
       "1          4  yes  2020020002      4     10              5               -2   \n",
       "2          1  yes  2020020003      1      2             -5               -2   \n",
       "3         -2   no  2020020004     -2     -4              3               -4   \n",
       "4         -3   no  2020020005     -3     -5             -8               -4   \n",
       "\n",
       "   power_play_percentage  power_play_goals  power_play_chances  \\\n",
       "0                   33.4               1.0                 0.0   \n",
       "1                   16.7               1.0                 1.0   \n",
       "2                  -16.7               0.0                 1.0   \n",
       "3                    0.0               0.0                 2.0   \n",
       "4                   25.0               1.0                 2.0   \n",
       "\n",
       "   faceoff_percent  takeaways  giveaways  hits  ice_tilt  \n",
       "0             16.0         -2          0     8   -1058.0  \n",
       "1              1.8          0          0     2      89.0  \n",
       "2              8.0         -1         -4   -18    1328.0  \n",
       "3              3.6         -1          4    -1     695.0  \n",
       "4              8.8          3          5     1     405.0  "
      ]
     },
     "execution_count": 3,
     "metadata": {},
     "output_type": "execute_result"
    }
   ],
   "source": [
    "model_df.head()"
   ]
  },
  {
   "cell_type": "code",
   "execution_count": 9,
   "metadata": {
    "ExecuteTime": {
     "end_time": "2021-06-08T23:47:39.649450Z",
     "start_time": "2021-06-08T23:47:39.630433Z"
    }
   },
   "outputs": [],
   "source": [
    "X = model_df.drop(columns=['won'])\n",
    "y = model_df['won']\n",
    "\n",
    "X_train, X_test, y_train, y_test = train_test_split(X,y, random_state = 42)"
   ]
  },
  {
   "cell_type": "code",
   "execution_count": 10,
   "metadata": {
    "ExecuteTime": {
     "end_time": "2021-06-08T23:47:39.990606Z",
     "start_time": "2021-06-08T23:47:39.967586Z"
    }
   },
   "outputs": [
    {
     "data": {
      "text/plain": [
       "LogisticRegression()"
      ]
     },
     "execution_count": 10,
     "metadata": {},
     "output_type": "execute_result"
    }
   ],
   "source": [
    "# Step 2: Instantiate our model.\n",
    "logreg = LogisticRegression()\n",
    "\n",
    "# Step 3: Fit our model.\n",
    "logreg.fit(X_train,y_train)"
   ]
  },
  {
   "cell_type": "code",
   "execution_count": 11,
   "metadata": {
    "ExecuteTime": {
     "end_time": "2021-06-08T23:47:41.291774Z",
     "start_time": "2021-06-08T23:47:41.276762Z"
    }
   },
   "outputs": [
    {
     "data": {
      "text/plain": [
       "(0.5069124423963134, 0.500768049155146)"
      ]
     },
     "execution_count": 11,
     "metadata": {},
     "output_type": "execute_result"
    }
   ],
   "source": [
    "logreg.score(X_test,y_test), logreg.score(X_train,y_train)"
   ]
  },
  {
   "cell_type": "code",
   "execution_count": 12,
   "metadata": {
    "ExecuteTime": {
     "end_time": "2021-06-08T23:48:51.255800Z",
     "start_time": "2021-06-08T23:48:51.242789Z"
    }
   },
   "outputs": [
    {
     "data": {
      "text/plain": [
       "array([[0.50076805, 0.49923195],\n",
       "       [0.50076805, 0.49923195],\n",
       "       [0.50076805, 0.49923195],\n",
       "       [0.50076805, 0.49923195],\n",
       "       [0.50076805, 0.49923195],\n",
       "       [0.50076805, 0.49923195],\n",
       "       [0.50076805, 0.49923195],\n",
       "       [0.50076805, 0.49923195],\n",
       "       [0.50076805, 0.49923195],\n",
       "       [0.50076805, 0.49923195]])"
      ]
     },
     "execution_count": 12,
     "metadata": {},
     "output_type": "execute_result"
    }
   ],
   "source": [
    "logreg.predict_proba(X_test)[:10]"
   ]
  },
  {
   "cell_type": "code",
   "execution_count": 13,
   "metadata": {
    "ExecuteTime": {
     "end_time": "2021-06-08T23:49:17.002376Z",
     "start_time": "2021-06-08T23:49:16.985361Z"
    }
   },
   "outputs": [
    {
     "data": {
      "text/plain": [
       "array([[ 2.06015432e-18, -1.52087319e-12,  2.06015432e-18,\n",
       "         9.96201244e-19,  1.16553456e-18, -3.65934130e-19,\n",
       "         1.18110970e-17,  3.44892226e-19,  1.66251160e-20,\n",
       "         6.23176429e-19,  3.51785143e-19, -3.85375398e-19,\n",
       "        -1.16059733e-18,  4.08717161e-17]])"
      ]
     },
     "execution_count": 13,
     "metadata": {},
     "output_type": "execute_result"
    }
   ],
   "source": [
    "logreg.coef_"
   ]
  },
  {
   "cell_type": "markdown",
   "metadata": {},
   "source": [
    "just box scores"
   ]
  },
  {
   "cell_type": "code",
   "execution_count": 14,
   "metadata": {
    "ExecuteTime": {
     "end_time": "2021-06-08T23:51:50.830547Z",
     "start_time": "2021-06-08T23:51:50.811521Z"
    }
   },
   "outputs": [],
   "source": [
    "box_scores = pd.read_csv('./data_frames/2020_2019_end_game_boxscores.csv')"
   ]
  },
  {
   "cell_type": "code",
   "execution_count": 15,
   "metadata": {
    "ExecuteTime": {
     "end_time": "2021-06-08T23:51:54.316061Z",
     "start_time": "2021-06-08T23:51:54.289026Z"
    }
   },
   "outputs": [
    {
     "data": {
      "text/html": [
       "<div>\n",
       "<style scoped>\n",
       "    .dataframe tbody tr th:only-of-type {\n",
       "        vertical-align: middle;\n",
       "    }\n",
       "\n",
       "    .dataframe tbody tr th {\n",
       "        vertical-align: top;\n",
       "    }\n",
       "\n",
       "    .dataframe thead th {\n",
       "        text-align: right;\n",
       "    }\n",
       "</style>\n",
       "<table border=\"1\" class=\"dataframe\">\n",
       "  <thead>\n",
       "    <tr style=\"text-align: right;\">\n",
       "      <th></th>\n",
       "      <th>team</th>\n",
       "      <th>home_status</th>\n",
       "      <th>goals</th>\n",
       "      <th>shots</th>\n",
       "      <th>blocked_shots</th>\n",
       "      <th>penalty_minutes</th>\n",
       "      <th>power_play_percentage</th>\n",
       "      <th>power_play_goals</th>\n",
       "      <th>power_play_chances</th>\n",
       "      <th>faceoff_percent</th>\n",
       "      <th>takeaways</th>\n",
       "      <th>giveaways</th>\n",
       "      <th>hits</th>\n",
       "      <th>goal_diff</th>\n",
       "      <th>won</th>\n",
       "    </tr>\n",
       "  </thead>\n",
       "  <tbody>\n",
       "    <tr>\n",
       "      <th>0</th>\n",
       "      <td>Pittsburgh Penguins</td>\n",
       "      <td>away</td>\n",
       "      <td>3</td>\n",
       "      <td>34</td>\n",
       "      <td>11</td>\n",
       "      <td>6</td>\n",
       "      <td>33.3</td>\n",
       "      <td>1.0</td>\n",
       "      <td>3.0</td>\n",
       "      <td>42.0</td>\n",
       "      <td>8</td>\n",
       "      <td>10</td>\n",
       "      <td>23</td>\n",
       "      <td>-3</td>\n",
       "      <td>no</td>\n",
       "    </tr>\n",
       "    <tr>\n",
       "      <th>1</th>\n",
       "      <td>Philadelphia Flyers</td>\n",
       "      <td>home</td>\n",
       "      <td>6</td>\n",
       "      <td>27</td>\n",
       "      <td>13</td>\n",
       "      <td>6</td>\n",
       "      <td>66.7</td>\n",
       "      <td>2.0</td>\n",
       "      <td>3.0</td>\n",
       "      <td>58.0</td>\n",
       "      <td>6</td>\n",
       "      <td>10</td>\n",
       "      <td>31</td>\n",
       "      <td>3</td>\n",
       "      <td>yes</td>\n",
       "    </tr>\n",
       "    <tr>\n",
       "      <th>2</th>\n",
       "      <td>Chicago Blackhawks</td>\n",
       "      <td>away</td>\n",
       "      <td>1</td>\n",
       "      <td>23</td>\n",
       "      <td>7</td>\n",
       "      <td>8</td>\n",
       "      <td>33.3</td>\n",
       "      <td>1.0</td>\n",
       "      <td>3.0</td>\n",
       "      <td>49.1</td>\n",
       "      <td>4</td>\n",
       "      <td>1</td>\n",
       "      <td>14</td>\n",
       "      <td>-4</td>\n",
       "      <td>no</td>\n",
       "    </tr>\n",
       "    <tr>\n",
       "      <th>3</th>\n",
       "      <td>Tampa Bay Lightning</td>\n",
       "      <td>home</td>\n",
       "      <td>5</td>\n",
       "      <td>33</td>\n",
       "      <td>12</td>\n",
       "      <td>6</td>\n",
       "      <td>50.0</td>\n",
       "      <td>2.0</td>\n",
       "      <td>4.0</td>\n",
       "      <td>50.9</td>\n",
       "      <td>4</td>\n",
       "      <td>1</td>\n",
       "      <td>16</td>\n",
       "      <td>4</td>\n",
       "      <td>yes</td>\n",
       "    </tr>\n",
       "    <tr>\n",
       "      <th>4</th>\n",
       "      <td>Montréal Canadiens</td>\n",
       "      <td>away</td>\n",
       "      <td>4</td>\n",
       "      <td>32</td>\n",
       "      <td>22</td>\n",
       "      <td>13</td>\n",
       "      <td>66.7</td>\n",
       "      <td>2.0</td>\n",
       "      <td>3.0</td>\n",
       "      <td>46.0</td>\n",
       "      <td>6</td>\n",
       "      <td>13</td>\n",
       "      <td>32</td>\n",
       "      <td>-1</td>\n",
       "      <td>no</td>\n",
       "    </tr>\n",
       "    <tr>\n",
       "      <th>...</th>\n",
       "      <td>...</td>\n",
       "      <td>...</td>\n",
       "      <td>...</td>\n",
       "      <td>...</td>\n",
       "      <td>...</td>\n",
       "      <td>...</td>\n",
       "      <td>...</td>\n",
       "      <td>...</td>\n",
       "      <td>...</td>\n",
       "      <td>...</td>\n",
       "      <td>...</td>\n",
       "      <td>...</td>\n",
       "      <td>...</td>\n",
       "      <td>...</td>\n",
       "      <td>...</td>\n",
       "    </tr>\n",
       "    <tr>\n",
       "      <th>4271</th>\n",
       "      <td>Calgary Flames</td>\n",
       "      <td>home</td>\n",
       "      <td>0</td>\n",
       "      <td>0</td>\n",
       "      <td>0</td>\n",
       "      <td>0</td>\n",
       "      <td>0.0</td>\n",
       "      <td>0.0</td>\n",
       "      <td>0.0</td>\n",
       "      <td>0.0</td>\n",
       "      <td>0</td>\n",
       "      <td>0</td>\n",
       "      <td>0</td>\n",
       "      <td>0</td>\n",
       "      <td>no</td>\n",
       "    </tr>\n",
       "    <tr>\n",
       "      <th>4272</th>\n",
       "      <td>Vegas Golden Knights</td>\n",
       "      <td>away</td>\n",
       "      <td>0</td>\n",
       "      <td>0</td>\n",
       "      <td>0</td>\n",
       "      <td>0</td>\n",
       "      <td>0.0</td>\n",
       "      <td>0.0</td>\n",
       "      <td>0.0</td>\n",
       "      <td>0.0</td>\n",
       "      <td>0</td>\n",
       "      <td>0</td>\n",
       "      <td>0</td>\n",
       "      <td>0</td>\n",
       "      <td>no</td>\n",
       "    </tr>\n",
       "    <tr>\n",
       "      <th>4273</th>\n",
       "      <td>Vancouver Canucks</td>\n",
       "      <td>home</td>\n",
       "      <td>0</td>\n",
       "      <td>0</td>\n",
       "      <td>0</td>\n",
       "      <td>0</td>\n",
       "      <td>0.0</td>\n",
       "      <td>0.0</td>\n",
       "      <td>0.0</td>\n",
       "      <td>0.0</td>\n",
       "      <td>0</td>\n",
       "      <td>0</td>\n",
       "      <td>0</td>\n",
       "      <td>0</td>\n",
       "      <td>no</td>\n",
       "    </tr>\n",
       "    <tr>\n",
       "      <th>4274</th>\n",
       "      <td>Dallas Stars</td>\n",
       "      <td>away</td>\n",
       "      <td>0</td>\n",
       "      <td>0</td>\n",
       "      <td>0</td>\n",
       "      <td>0</td>\n",
       "      <td>0.0</td>\n",
       "      <td>0.0</td>\n",
       "      <td>0.0</td>\n",
       "      <td>0.0</td>\n",
       "      <td>0</td>\n",
       "      <td>0</td>\n",
       "      <td>0</td>\n",
       "      <td>0</td>\n",
       "      <td>no</td>\n",
       "    </tr>\n",
       "    <tr>\n",
       "      <th>4275</th>\n",
       "      <td>Los Angeles Kings</td>\n",
       "      <td>home</td>\n",
       "      <td>0</td>\n",
       "      <td>0</td>\n",
       "      <td>0</td>\n",
       "      <td>0</td>\n",
       "      <td>0.0</td>\n",
       "      <td>0.0</td>\n",
       "      <td>0.0</td>\n",
       "      <td>0.0</td>\n",
       "      <td>0</td>\n",
       "      <td>0</td>\n",
       "      <td>0</td>\n",
       "      <td>0</td>\n",
       "      <td>no</td>\n",
       "    </tr>\n",
       "  </tbody>\n",
       "</table>\n",
       "<p>4276 rows × 15 columns</p>\n",
       "</div>"
      ],
      "text/plain": [
       "                      team home_status  goals  shots  blocked_shots  \\\n",
       "0      Pittsburgh Penguins        away      3     34             11   \n",
       "1      Philadelphia Flyers        home      6     27             13   \n",
       "2       Chicago Blackhawks        away      1     23              7   \n",
       "3      Tampa Bay Lightning        home      5     33             12   \n",
       "4       Montréal Canadiens        away      4     32             22   \n",
       "...                    ...         ...    ...    ...            ...   \n",
       "4271        Calgary Flames        home      0      0              0   \n",
       "4272  Vegas Golden Knights        away      0      0              0   \n",
       "4273     Vancouver Canucks        home      0      0              0   \n",
       "4274          Dallas Stars        away      0      0              0   \n",
       "4275     Los Angeles Kings        home      0      0              0   \n",
       "\n",
       "      penalty_minutes  power_play_percentage  power_play_goals  \\\n",
       "0                   6                   33.3               1.0   \n",
       "1                   6                   66.7               2.0   \n",
       "2                   8                   33.3               1.0   \n",
       "3                   6                   50.0               2.0   \n",
       "4                  13                   66.7               2.0   \n",
       "...               ...                    ...               ...   \n",
       "4271                0                    0.0               0.0   \n",
       "4272                0                    0.0               0.0   \n",
       "4273                0                    0.0               0.0   \n",
       "4274                0                    0.0               0.0   \n",
       "4275                0                    0.0               0.0   \n",
       "\n",
       "      power_play_chances  faceoff_percent  takeaways  giveaways  hits  \\\n",
       "0                    3.0             42.0          8         10    23   \n",
       "1                    3.0             58.0          6         10    31   \n",
       "2                    3.0             49.1          4          1    14   \n",
       "3                    4.0             50.9          4          1    16   \n",
       "4                    3.0             46.0          6         13    32   \n",
       "...                  ...              ...        ...        ...   ...   \n",
       "4271                 0.0              0.0          0          0     0   \n",
       "4272                 0.0              0.0          0          0     0   \n",
       "4273                 0.0              0.0          0          0     0   \n",
       "4274                 0.0              0.0          0          0     0   \n",
       "4275                 0.0              0.0          0          0     0   \n",
       "\n",
       "      goal_diff  won  \n",
       "0            -3   no  \n",
       "1             3  yes  \n",
       "2            -4   no  \n",
       "3             4  yes  \n",
       "4            -1   no  \n",
       "...         ...  ...  \n",
       "4271          0   no  \n",
       "4272          0   no  \n",
       "4273          0   no  \n",
       "4274          0   no  \n",
       "4275          0   no  \n",
       "\n",
       "[4276 rows x 15 columns]"
      ]
     },
     "execution_count": 15,
     "metadata": {},
     "output_type": "execute_result"
    }
   ],
   "source": [
    "box_scores"
   ]
  },
  {
   "cell_type": "code",
   "execution_count": 25,
   "metadata": {
    "ExecuteTime": {
     "end_time": "2021-06-08T23:54:51.860113Z",
     "start_time": "2021-06-08T23:54:51.842086Z"
    }
   },
   "outputs": [],
   "source": [
    "X = box_scores.drop(columns=['won', 'team', 'home_status', 'goal_diff','goals'])\n",
    "y = box_scores['won']\n",
    "\n",
    "X_train, X_test, y_train, y_test = train_test_split(X,y, random_state = 42)"
   ]
  },
  {
   "cell_type": "code",
   "execution_count": 26,
   "metadata": {
    "ExecuteTime": {
     "end_time": "2021-06-08T23:54:52.577916Z",
     "start_time": "2021-06-08T23:54:52.514714Z"
    }
   },
   "outputs": [
    {
     "data": {
      "text/plain": [
       "LogisticRegression(max_iter=5000)"
      ]
     },
     "execution_count": 26,
     "metadata": {},
     "output_type": "execute_result"
    }
   ],
   "source": [
    "# Step 2: Instantiate our model.\n",
    "logreg = LogisticRegression(max_iter=5000)\n",
    "\n",
    "# Step 3: Fit our model.\n",
    "logreg.fit(X_train,y_train)"
   ]
  },
  {
   "cell_type": "code",
   "execution_count": 27,
   "metadata": {
    "ExecuteTime": {
     "end_time": "2021-06-08T23:54:53.059441Z",
     "start_time": "2021-06-08T23:54:53.033169Z"
    }
   },
   "outputs": [
    {
     "data": {
      "text/plain": [
       "(0.6529466791393826, 0.6735266604303087)"
      ]
     },
     "execution_count": 27,
     "metadata": {},
     "output_type": "execute_result"
    }
   ],
   "source": [
    "logreg.score(X_test,y_test), logreg.score(X_train,y_train)"
   ]
  },
  {
   "cell_type": "code",
   "execution_count": null,
   "metadata": {},
   "outputs": [],
   "source": []
  },
  {
   "cell_type": "code",
   "execution_count": null,
   "metadata": {},
   "outputs": [],
   "source": []
  },
  {
   "cell_type": "code",
   "execution_count": null,
   "metadata": {},
   "outputs": [],
   "source": []
  }
 ],
 "metadata": {
  "kernelspec": {
   "display_name": "Python 3",
   "language": "python",
   "name": "python3"
  },
  "language_info": {
   "codemirror_mode": {
    "name": "ipython",
    "version": 3
   },
   "file_extension": ".py",
   "mimetype": "text/x-python",
   "name": "python",
   "nbconvert_exporter": "python",
   "pygments_lexer": "ipython3",
   "version": "3.8.5"
  }
 },
 "nbformat": 4,
 "nbformat_minor": 4
}
